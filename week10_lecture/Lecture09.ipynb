{
 "cells": [
  {
   "cell_type": "markdown",
   "id": "aca456e6",
   "metadata": {},
   "source": [
    "# Lecture 9\n",
    "\n"
   ]
  },
  {
   "cell_type": "code",
   "execution_count": 2,
   "id": "85c84273",
   "metadata": {},
   "outputs": [],
   "source": [
    "%notebook inline\n",
    "import ipywidgets as widgets\n",
    "import numpy as np\n",
    "import matplotlib.pyplot as plt\n",
    "import seaborn as sns\n",
    "from IPython.display import HTML\n",
    "from ipywidgets import interact, interactive, fixed, interact_manual\n",
    "from matplotlib import animation, rc\n",
    "#sns.set_context('poster')\n",
    "from scipy.stats import poisson\n",
    "from scipy.stats import norm\n",
    "from scipy.optimize import minimize\n",
    "from scipy.stats import chi2"
   ]
  },
  {
   "cell_type": "markdown",
   "id": "e5743387",
   "metadata": {},
   "source": [
    "# Differentiation"
   ]
  },
  {
   "cell_type": "code",
   "execution_count": 4,
   "id": "75cfd07f",
   "metadata": {},
   "outputs": [],
   "source": [
    "def fx(x):\n",
    "      return (x)**3\n",
    "\n",
    "def dfxdx(x):\n",
    "      return 3*x**2"
   ]
  },
  {
   "cell_type": "code",
   "execution_count": 8,
   "id": "88268b33",
   "metadata": {},
   "outputs": [
    {
     "data": {
      "application/vnd.jupyter.widget-view+json": {
       "model_id": "1a2c3342834945ef9b4e60cb1494f03c",
       "version_major": 2,
       "version_minor": 0
      },
      "text/plain": [
       "interactive(children=(FloatSlider(value=0.5, description='h', layout=Layout(width='60%'), max=1.0, step=0.01),…"
      ]
     },
     "metadata": {},
     "output_type": "display_data"
    }
   ],
   "source": [
    "@interact(h=widgets.FloatSlider(min=0, max=1, step=0.01, value=0.5,layout=widgets.Layout(width='60%')) , \n",
    "          x0=widgets.FloatSlider(min=-5, max=5, step=0.01, value=0.5,layout=widgets.Layout(width='60%')) , continuous_update=True )\n",
    "def plot(h,x0):\n",
    "    fig, axs = plt.subplots(1,1,figsize=(16,12\n",
    "                              ))\n",
    "    y0 = fx(x0)\n",
    "    x = np.linspace(-10,10,400)\n",
    "    y = fx(x)\n",
    "    plt.plot(x,y,'r--')\n",
    "    plt.scatter(x0,y0)\n",
    "\n",
    "    x1 = x0 + h\n",
    "    x2 = x0 - h\n",
    "    y1 = fx(x1)\n",
    "    y2 = fx(x2)\n",
    "    plt.scatter(x1,y1)\n",
    "    plt.scatter(x2,y2)\n",
    "    numericalslope = (y1-y2)/(x1-x2)\n",
    "    #plt.plot([x2,x0,x1],[y2,y0,y1])\n",
    "    #plt.plot([x2,x1],[y2,y1])\n",
    "    #plt.plot([x0-h, x0, x0+h],[y0-h*(y1-y2)/(x1-x2), y0, y0 +h*(y1-y2)/(x1-x2)],linewidth = 3)\n",
    "\n",
    "    plt.plot([x2,x1],[y2,y1])\n",
    "    plt.plot([x2,x1],[y2,y2])\n",
    "    plt.plot([x1,x1],[y2,y1])\n",
    "\n",
    "    #plt.plot([x0-h, x0+h],[y0-h*(y1-y2)/(x1-x2), y0-h*(y1-y2)/(x1-x2),],linewidth = 3)\n",
    "    #plt.plot([x0+h, x0+h],[y0-h*(y1-y2)/(x1-x2), y0+h*(y1-y2)/(x1-x2),],linewidth = 3)\n",
    "    yup = y1+(y1-y2)\n",
    "    xmin = x2-(x1-x2)\n",
    "    ymin = y.min()\n",
    "    if ymin > y2:\n",
    "        ymin = y2\n",
    "    plt.ylim(y2-(y1-y2),y1+(y1-y2))\n",
    "    plt.xlim(x2-(x1-x2),x1+(x1-x2))\n",
    "    plt.xlabel('x',fontsize=16)\n",
    "    plt.ylabel('y',fontsize=16)\n",
    "    # plt.text(1.1,yup*0.1,'$2h$',fontsize=16)\n",
    "    # plt.text(1.3,yup*0.1,'$f(x_0+h)-f(x_0-h)$',fontsize=16)\n",
    "    plt.xticks(fontsize=40)\n",
    "    plt.yticks(fontsize=40)\n",
    "    \n",
    "    position = yup*0.8\n",
    "    position2 = yup*0.6\n",
    "    if x0 < 0:\n",
    "      position = yup + 0.5*(y2-y1)\n",
    "      position2 = yup + (y2-y1)\n",
    "    plt.text(xmin+0.2*(x1-x2),position, \"Slope = {:4.3f}\".format(dfxdx(x0)),fontsize=30)\n",
    "    plt.text(xmin+0.2*(x1-x2),position2, \"Numerical = {:4.3f}\".format(numericalslope),fontsize=30)"
   ]
  },
  {
   "cell_type": "markdown",
   "id": "be0d9936",
   "metadata": {},
   "source": [
    "# Numerical Integral with Trapezoid and Simponson's 1/3 rule"
   ]
  },
  {
   "cell_type": "code",
   "execution_count": 10,
   "id": "b3b9fffa",
   "metadata": {},
   "outputs": [
    {
     "data": {
      "application/vnd.jupyter.widget-view+json": {
       "model_id": "bdd97a3454454c9780e9b1d8a1299d2a",
       "version_major": 2,
       "version_minor": 0
      },
      "text/plain": [
       "interactive(children=(IntSlider(value=1, description='N', layout=Layout(width='60%'), max=20, min=1), IntSlide…"
      ]
     },
     "metadata": {},
     "output_type": "display_data"
    }
   ],
   "source": [
    "@interact(N=widgets.IntSlider(min=1, max=20, step=1, value=1,layout=widgets.Layout(width='60%')) , Nfunc=widgets.IntSlider(min=1, max=5, step=1, value=1,layout=widgets.Layout(width='60%')) , continuous_update=True )\n",
    "def plot(N, Nfunc):\n",
    "\n",
    "  def polynew(x,Nfunc):\n",
    "    if Nfunc == 1:\n",
    "      return np.sin(x)*np.log(x)\n",
    "    elif Nfunc == 2:\n",
    "      return np.exp(np.sin(x)*np.log(x))\n",
    "    elif Nfunc == 3:\n",
    "      return np.cos(0.001*(np.sinh(x)*np.log(x)-1)+5)\n",
    "    else:\n",
    "      return np.sinh(x)*np.log(x)-1\n",
    "  fig, axs = plt.subplots(2,2,figsize=(16,12\n",
    "                              ))\n",
    "  plt.subplot(211)\n",
    "\n",
    "  integral=0\n",
    "  x=np.linspace(1,10,N+1)\n",
    "  for xi in x:\n",
    "    if xi == x[-1]:\n",
    "      continue\n",
    "    h = (x[1]-x[0])*0.5\n",
    "    x1 = xi\n",
    "    x2 = xi+h\n",
    "    x3 = xi+2*h\n",
    "    xvalue= [x1,x2,x3]\n",
    "    yvalue = polynew([x1,x2,x3],Nfunc) \n",
    "    integral += (1/3.)*( yvalue[0] + 4*yvalue[1] + yvalue[2])*h\n",
    "    plt.scatter(xvalue,yvalue,s=300)\n",
    "   # print(xvalue,yvalue)\n",
    "    p_fitted = np.polynomial.Polynomial.fit(xvalue, yvalue, deg=2)\n",
    "    c=p_fitted.convert().coef\n",
    "    c=np.flip(c)\n",
    "    xifine = np.linspace(x1,x3,100)\n",
    "    yifine = np.polyval(c,xifine)\n",
    "    plt.plot(xifine,yifine)\n",
    "\n",
    "\n",
    "  xfine=np.linspace(1,10,91)\n",
    "  yfine = polynew(xfine,Nfunc)\n",
    "  plt.plot(xfine,yfine,'r-',lw=3)\n",
    "  ymin = yfine.min()\n",
    "  if yfine.min()>0:\n",
    "    ymin = yfine.min()*0.8\n",
    "  ymax = yfine.max()*1.25\n",
    "  plt.ylim(ymin,ymax)\n",
    "  plt.ylabel('y = f(x)',fontsize=20)\n",
    "  plt.xlabel('x',fontsize=20)\n",
    "  plt.xticks(fontsize=20)\n",
    "  plt.yticks(fontsize=20)\n",
    "\n",
    "\n",
    "  if Nfunc == 1:\n",
    "    plt.text(2,ymax*0.8,'f(x) = sin(x)*log(x)', fontsize=30)\n",
    "  elif Nfunc == 2:\n",
    "    plt.text(2,ymax*0.8,'f(x) = exp(sin(x)*log(x))', fontsize=30)\n",
    "  elif Nfunc == 3:\n",
    "    plt.text(2,ymax*0.8,'f(x) = cos(0.001*(sinh(x)*log(x)-1) + 5)', fontsize=30)\n",
    "  else:\n",
    "    plt.text(2,ymax*0.8,'f(x) = sinh(x)*log(x) -1', fontsize=30)\n",
    "\n",
    "  plt.text(2,ymax*0.6, 'Integral = {:4.8f}'.format(integral), fontsize=40)\n",
    "  plt.text( 8, ymax, 'Simpson\\'s 1/3', fontsize=40)\n",
    "  plt.subplot(212)\n",
    "\n",
    "  integral=0\n",
    "  x=np.linspace(1,10,N+1)\n",
    "  for xi in x:\n",
    "    if xi == x[-1]:\n",
    "      continue\n",
    "    h = (x[1]-x[0])*0.5\n",
    "    x1 = xi\n",
    "    x2 = xi+h\n",
    "    xvalue= [x1,x2]\n",
    "    yvalue = polynew([x1,x2],Nfunc) \n",
    "    integral += (1/2.)*( yvalue[0] + yvalue[1] )*h\n",
    "    plt.scatter(xvalue,yvalue,s=300)\n",
    "   # print(xvalue,yvalue)\n",
    "    p_fitted = np.polynomial.Polynomial.fit(xvalue, yvalue, deg=1)\n",
    "    c=p_fitted.convert().coef\n",
    "    c=np.flip(c)\n",
    "    xifine = np.linspace(x1,x2,100)\n",
    "    yifine = np.polyval(c,xifine)\n",
    "    plt.plot(xifine,yifine)\n",
    "\n",
    "    x1 = xi+h\n",
    "    x2 = xi+2*h\n",
    "    xvalue= [x1,x2]\n",
    "    yvalue = polynew([x1,x2],Nfunc) \n",
    "    integral += (1/2.)*( yvalue[0] + yvalue[1] )*h\n",
    "    plt.scatter(xvalue,yvalue,s=300)\n",
    "   # print(xvalue,yvalue)\n",
    "    p_fitted = np.polynomial.Polynomial.fit(xvalue, yvalue, deg=1)\n",
    "    c=p_fitted.convert().coef\n",
    "    c=np.flip(c)\n",
    "    xifine = np.linspace(x1,x2,100)\n",
    "    yifine = np.polyval(c,xifine)\n",
    "    plt.plot(xifine,yifine)\n",
    "\n",
    "\n",
    "\n",
    "  xfine=np.linspace(1,10,91)\n",
    "  yfine = polynew(xfine,Nfunc)\n",
    "  plt.plot(xfine,yfine,'r-',lw=3)\n",
    "  ymin = yfine.min()\n",
    "  if yfine.min()>0:\n",
    "    ymin = yfine.min()*0.8\n",
    "  ymax = yfine.max()*1.25\n",
    "  plt.ylim(ymin,ymax)\n",
    "  plt.ylabel('y = f(x)',fontsize=20)\n",
    "  plt.xlabel('x',fontsize=20)\n",
    "  plt.xticks(fontsize=20)\n",
    "  plt.yticks(fontsize=20)\n",
    "\n",
    "\n",
    "  if Nfunc == 1:\n",
    "    plt.text(2,ymax*0.8,'f(x) = sin(x)*log(x)', fontsize=30)\n",
    "  elif Nfunc == 2:\n",
    "    plt.text(2,ymax*0.8,'f(x) = exp(sin(x)*log(x))', fontsize=30)\n",
    "  elif Nfunc == 3:\n",
    "    plt.text(2,ymax*0.8,'f(x) = cos(0.001*(sinh(x)*log(x)-1) + 5)', fontsize=30)\n",
    "  else:\n",
    "    plt.text(2,ymax*0.8,'f(x) = sinh(x)*log(x) -1', fontsize=30)\n",
    "\n",
    "  plt.text(2,ymax*0.6, 'Integral = {:4.8f}'.format(integral), fontsize=40)\n",
    "  plt.text( 8, ymax, 'Trapezoid', fontsize=40)"
   ]
  },
  {
   "cell_type": "markdown",
   "id": "05c8e368",
   "metadata": {},
   "source": [
    "# Monte Carlo Integration"
   ]
  },
  {
   "cell_type": "code",
   "execution_count": 16,
   "id": "819d3464",
   "metadata": {},
   "outputs": [
    {
     "data": {
      "application/vnd.jupyter.widget-view+json": {
       "model_id": "a8f8413b4c0243a2a94ae9c4783c664d",
       "version_major": 2,
       "version_minor": 0
      },
      "text/plain": [
       "interactive(children=(IntSlider(value=1, description='Nrandom', layout=Layout(width='60%'), max=20000, min=1, …"
      ]
     },
     "metadata": {},
     "output_type": "display_data"
    }
   ],
   "source": [
    "@interact(Nrandom=widgets.IntSlider(min=1, max=20000, step=100, value=1,layout=widgets.Layout(width='60%')) , \n",
    "          Nfunc=widgets.IntSlider(min=1, max=5, step=1, value=1,layout=widgets.Layout(width='60%')) , continuous_update=True )\n",
    "def plot(Nrandom, Nfunc):\n",
    "  N = Nrandom\n",
    "  def polynew(x,Nfunc):\n",
    "    if Nfunc == 1:\n",
    "      return np.sin(x)*np.log(x)\n",
    "    elif Nfunc == 2:\n",
    "      return np.exp(np.sin(x)*np.log(x))\n",
    "    elif Nfunc == 3:\n",
    "      return np.cos(0.001*(np.sinh(x)*np.log(x)-1)+5)\n",
    "    else:\n",
    "      return np.sinh(x)*np.log(x)-1\n",
    "  fig, axs = plt.subplots(2,1,figsize=(16,12\n",
    "                              ))\n",
    "  plt.subplot(211)\n",
    "\n",
    "  integral=0\n",
    "  x=(np.random.random(size=Nrandom)*9)+1\n",
    "  yvalue = polynew(x, Nfunc)\n",
    "  a,b = 1, 10\n",
    "  integral = ((b-a)/(x.size))*np.sum(yvalue)\n",
    "\n",
    "\n",
    "  xfine=np.linspace(1,10,91)\n",
    "  yfine = polynew(xfine,Nfunc)\n",
    "  plt.plot(xfine,yfine,'r-',lw=3)\n",
    "  ymin = yfine.min()\n",
    "  if yfine.min()>0:\n",
    "    ymin = yfine.min()*0.8\n",
    "  ymax = yfine.max()*1.25\n",
    "  plt.ylim(ymin,ymax)\n",
    "  plt.ylabel('y = f(x)',fontsize=35)\n",
    "  plt.xlabel('x',fontsize=25)\n",
    "  plt.xticks(fontsize=25)\n",
    "  plt.yticks(fontsize=35)\n",
    "\n",
    "\n",
    "  if Nfunc == 1:\n",
    "    plt.text(2,ymax*0.8,'f(x) = sin(x)*log(x)', fontsize=30)\n",
    "  elif Nfunc == 2:\n",
    "    plt.text(2,ymax*0.8,'f(x) = exp(sin(x)*log(x))', fontsize=30)\n",
    "  elif Nfunc == 3:\n",
    "    plt.text(2,ymax*0.8,'f(x) = cos(0.001*(sinh(x)*log(x)-1) + 5)', fontsize=30)\n",
    "  else:\n",
    "    plt.text(2,ymax*0.8,'f(x) = sinh(x)*log(x) -1', fontsize=30)\n",
    "\n",
    "  plt.text(2,ymax*0.6, 'Integral = {:4.8f}'.format(integral), fontsize=40)\n",
    "  plt.text( 8, ymax, 'Monte Carlo integration', fontsize=40)\n",
    "\n",
    "  plt.subplot(212)\n",
    "  plt.hist((b-a)*yvalue)\n",
    "  plt.xlabel( 'Values of (b-a)*f(xi)',fontsize=35 )\n",
    "  plt.ylabel( 'Entries' ,fontsize=35)\n",
    "  plt.xticks(fontsize=40)\n",
    "  plt.yticks(fontsize=40)"
   ]
  },
  {
   "cell_type": "code",
   "execution_count": null,
   "id": "a62effd0",
   "metadata": {},
   "outputs": [],
   "source": []
  }
 ],
 "metadata": {
  "kernelspec": {
   "display_name": "Python 3 (ipykernel)",
   "language": "python",
   "name": "python3"
  },
  "language_info": {
   "codemirror_mode": {
    "name": "ipython",
    "version": 3
   },
   "file_extension": ".py",
   "mimetype": "text/x-python",
   "name": "python",
   "nbconvert_exporter": "python",
   "pygments_lexer": "ipython3",
   "version": "3.9.13"
  }
 },
 "nbformat": 4,
 "nbformat_minor": 5
}
