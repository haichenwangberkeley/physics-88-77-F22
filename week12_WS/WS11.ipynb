{
 "cells": [
  {
   "cell_type": "markdown",
   "metadata": {},
   "source": [
    "Your name here.  \n",
    "Your section number here.  "
   ]
  },
  {
   "cell_type": "markdown",
   "metadata": {},
   "source": [
    "# Workshop 11: Approximate Root-Finding Methods\n",
    "\n",
    "# Due by 11:59 pm Wednesday, November 30, 2022\n"
   ]
  },
  {
   "cell_type": "markdown",
   "metadata": {},
   "source": [
    "**Submit this notebook to bCourses to receive a grade for this Workshop.**\n",
    "\n",
    "Please complete workshop activities in code cells in this iPython notebook. The activities titled **Practice** are purely for you to explore Python, and no particular output is expected. Some of them have some code written, and you should try to modify it in different ways to understand how it works. Although no particular output is expected at submission time, it is _highly_ recommended that you read and work through the practice activities before or alongside the exercises. However, the activities titled **Exercise** have specific tasks and specific outputs expected. Include comments in your code when necessary. Enter your name in the cell at the top of the notebook. \n",
    "\n",
    "**The workshop should be submitted on bCourses under the Assignments tab (both the .ipynb and .pdf files).**"
   ]
  },
  {
   "cell_type": "markdown",
   "metadata": {},
   "source": [
    "In lecture, we discussed a few different ways to estimate roots of nonlinear functions of one variable. Here we will expand on the details and use some of those techniques."
   ]
  },
  {
   "cell_type": "markdown",
   "metadata": {},
   "source": [
    "## Root finding"
   ]
  },
  {
   "cell_type": "code",
   "execution_count": null,
   "metadata": {},
   "outputs": [],
   "source": [
    "import numpy as np\n",
    "import matplotlib.pyplot as plt"
   ]
  },
  {
   "cell_type": "markdown",
   "metadata": {},
   "source": [
    "# Root finding using the bisection method\n",
    "\n",
    "First we introduce the `bisect` algorithm which is (i) robust and (ii) slow but conceptually very simple.\n",
    "\n",
    "Suppose we need to compute the roots of \n",
    "\n",
    "$$f(x) = x^3 - 2x^2$$\n",
    "\n",
    "This function has a roots at $x=0, 2$. Run the cell below to generate a plot of $f(x)$. What do you notice about how the function behaves around each of these two zeros?"
   ]
  },
  {
   "cell_type": "code",
   "execution_count": null,
   "metadata": {},
   "outputs": [],
   "source": [
    "def f(x):\n",
    "    return x ** 3 - 2 * x ** 2\n",
    "\n",
    "# Visualize f(x) and see the roots\n",
    "xd = np.linspace(-1,3,100)\n",
    "yd = f(xd)\n",
    "plt.figure()\n",
    "plt.plot(xd,yd, label='f(x)')\n",
    "plt.plot(xd,np.zeros(len(xd)))\n",
    "plt.legend()\n",
    "plt.show()"
   ]
  },
  {
   "cell_type": "markdown",
   "metadata": {},
   "source": [
    "Indeed, the `bisect` method operates on the \"Intermediate Value Theorem\" which just makes the observation that if a continuous function $f(x)$ changes sign over an interval $x\\in [a,b]$, then there must exist at least one value of $x$ in that interval for which $f(x) = 0$. As a result, this method cannot find the root at $x=0$. So to use `scipy.optimize.bisect` you need to give it three arguments: the name of the python function which encodes $f(x)$, the left end of your interval ($a$) and the right end of your interval $b$. But further more, $a$ and $b$ must be such that $f(a)$ and $f(b)$ have opposite sign. Try changing some of these values in the call to `bisect` below!"
   ]
  },
  {
   "cell_type": "code",
   "execution_count": null,
   "metadata": {},
   "outputs": [],
   "source": [
    "from scipy.optimize import bisect\n",
    "\n",
    "\n",
    "x_root = bisect(f, 1.5, 3, xtol=1e-6) #xtol is an optional argument specifying how precise we want the answer\n",
    "# Note that the input arguments are the following\n",
    "# 1. f the function for which you want to find the roots\n",
    "# 2. \"1.5\" the lower value (xl) that you use to bracket the root. You should adjust it based on the function \n",
    "# you have to solve\n",
    "# 3. \"3\" is the upper value (xu) that you use to bracket the root.  You should adjust it based on the function \n",
    "# you have to solve\n",
    "# 4. xtol = 1e-6 is the tolerance. The smaller, the more precise the roots are\n",
    "\n",
    "\n",
    "print(\"The root x is approximately x=%14.12g,\\n\"\n",
    "      \"the error is less than 1e-6.\" % (x_root))\n",
    "print(\"The exact error is %g.\" % (2 - x_root))"
   ]
  },
  {
   "cell_type": "markdown",
   "metadata": {},
   "source": [
    "# Root finding using Brent method\n",
    "\n",
    "This is another method to find a root of the function $f(x)$ on the sign changing interval $x\\in[a , b]$. It is a safe version of the secant method that uses inverse quadratic extrapolation. Brent’s method combines a few other elementary root-finding techniques: root bracketing, interval bisection, and inverse quadratic interpolation. But again, this still requires that $f(a)$ and $f(b)$ have opposite signs."
   ]
  },
  {
   "cell_type": "code",
   "execution_count": null,
   "metadata": {},
   "outputs": [],
   "source": [
    "from scipy.optimize import brentq\n",
    "\n",
    "def f(x):\n",
    "    return x ** 3 - 2 * x ** 2\n",
    "\n",
    "x = brentq(f, 0.5,3, xtol=1e-6)\n",
    "\n",
    "print(\"The root x is approximately x=%14.12g,\\n\"\n",
    "      \"the error is less than 1e-6.\" % (x))\n",
    "print(\"The exact error is %g.\" % (2 - x))"
   ]
  },
  {
   "cell_type": "markdown",
   "metadata": {},
   "source": [
    "# Exercise 1\n",
    "Use the built-in functions (`bisect` and/or `brentq`) to compute the roots of the following functions: \n",
    "* $f(x) = e^{x} - x - 2$\n",
    "* $f(x) = \\cos(\\frac{\\pi x}{2})-x$\n",
    "\n",
    "**Here the key is to figure out xl, xu values that bracket the roots**\n",
    "* you will see for some functions it is not so trivial to identify proper values of xl and xu"
   ]
  },
  {
   "cell_type": "code",
   "execution_count": null,
   "metadata": {},
   "outputs": [],
   "source": [
    "# Code for Exercise 1"
   ]
  },
  {
   "cell_type": "markdown",
   "metadata": {},
   "source": [
    "# Root finding using the `fsolve` function\n",
    "\n",
    "A (often) better (in the sense of “more efficient”) algorithm than the bisection algorithm is implemented in the general purpose `fsolve()` function for root finding of (multidimensional) functions. This algorithm needs only one starting point close to the suspected location of the root (but is not garanteed to converge).\n",
    "\n",
    "Here is an example:"
   ]
  },
  {
   "cell_type": "code",
   "execution_count": null,
   "metadata": {},
   "outputs": [],
   "source": [
    "from scipy.optimize import fsolve\n",
    "\n",
    "def f(x,a,b):\n",
    "    return a*x**3 - b*x**2\n",
    "\n",
    "a = 1\n",
    "b = 2\n",
    "x = fsolve(f, x0=[-0.5,4], args=(a,b))           # look for two roots starting with 0 and 3\n",
    "# here the input arguments are\n",
    "# 1. \"f\" the function for which you want to find a solution\n",
    "# 2. \"x0\" the initial guess of solutions\n",
    "# the length of x0 must be at least as large as the number of roots\n",
    "# in this example, there are two roots, 0 and 2\n",
    "# so x0 = [-0.5,4]\n",
    "# however, it would also work if you have x0 = [-0.5,4,2, 4]\n",
    "# try it yourself and see what happens in that case\n",
    "# args=(a,b) are parameters in the function \"f\" that you can specify\n",
    "\n",
    "\n",
    "\n",
    "print(\"Number of roots is\", len(x))\n",
    "print(\"The root(s) are \", x)"
   ]
  },
  {
   "cell_type": "markdown",
   "metadata": {},
   "source": [
    "The input to `fsolve` is the name of the python function and the array of initial locations for the roots you are trying to find. You can optionally pass additional arguments (parameters) to the function as a list with the keyword `args`. The return value of `fsolve` is a numpy array of the best estimates of the locations of the roots found for each initial guess given. If $n$ initial guesses are given, $n$ estimates are returned."
   ]
  },
  {
   "cell_type": "markdown",
   "metadata": {},
   "source": [
    "## Exercise 2\n",
    "\n",
    "Find the solutions of the quadratic equation $ax^2 + bx + c=0$ for an arbitrary set of coefficients $a$, $b$, $c$ using `fslove` , and compare to the exact solution.\n",
    "\n",
    "* Write a single function that takes values of a,b,c as the input arguments\n",
    "* the function prints out the solutions to $ax^2 + bx + c=0$, for the given a,b,c values\n",
    "* Use this function to compute roots for the following scenarios\n",
    "    * a,b,c = 1,2,1\n",
    "    * a,b,c = 1,3,5\n",
    "    * a,b,c = 12.5, -6.4, -1.25\n",
    "    * a,b,c = 4,2,1"
   ]
  },
  {
   "cell_type": "code",
   "execution_count": null,
   "metadata": {},
   "outputs": [],
   "source": [
    "# Code for Exercise 2\n",
    "\n"
   ]
  }
 ],
 "metadata": {
  "kernelspec": {
   "display_name": "Python 3 (ipykernel)",
   "language": "python",
   "name": "python3"
  },
  "language_info": {
   "codemirror_mode": {
    "name": "ipython",
    "version": 3
   },
   "file_extension": ".py",
   "mimetype": "text/x-python",
   "name": "python",
   "nbconvert_exporter": "python",
   "pygments_lexer": "ipython3",
   "version": "3.9.13"
  }
 },
 "nbformat": 4,
 "nbformat_minor": 4
}
