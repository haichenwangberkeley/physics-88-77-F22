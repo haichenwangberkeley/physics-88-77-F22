{
 "cells": [
  {
   "cell_type": "markdown",
   "metadata": {},
   "source": [
    "# Lecture 11: Approximation Methods and Root Finding"
   ]
  },
  {
   "cell_type": "code",
   "execution_count": null,
   "metadata": {},
   "outputs": [],
   "source": [
    "import matplotlib.pyplot as plt"
   ]
  },
  {
   "cell_type": "code",
   "execution_count": null,
   "metadata": {},
   "outputs": [],
   "source": [
    "import numpy as np\n",
    "import scipy.interpolate\n",
    "import pylab\n",
    "import ipywidgets as widgets\n",
    "import numpy as np\n",
    "import matplotlib.pyplot as plt\n",
    "import seaborn as sns\n",
    "from IPython.display import HTML\n",
    "from ipywidgets import interact, interactive, fixed, interact_manual\n",
    "from matplotlib import animation, rc\n",
    "%matplotlib inline\n"
   ]
  },
  {
   "cell_type": "markdown",
   "metadata": {},
   "source": [
    "## Part 1: Interpolation\n",
    "-------------\n",
    "\n",
    "Given a set of *N* points $(x_i, y_i)$ with $i = 1, 2, …N$, we sometimes need a function $\\hat{f}(x)$ which returns $y_i = f(x_i)$ where $x == x_i$, and which in addition provides some interpolation of the data $(x_i, y_i)$ for all $x$.\n",
    "\n",
    "The function `y0 = scipy.interpolate.interp1d(x,y,kind=’..’)` does this interpolation based on splines of varying order. Note that the function `interp1d` returns *a function* `y0` which will then interpolate the x-y data for any given $x$ when called as $y0(x)$.\n",
    "\n",
    "The code below demonstrates this, and shows the different interpolation kinds."
   ]
  },
  {
   "cell_type": "code",
   "execution_count": null,
   "metadata": {
    "scrolled": false
   },
   "outputs": [],
   "source": [
    "@interact(findex=widgets.IntSlider(min=0, max=3, step=1, value=0,layout=widgets.Layout(width='60%')) , \n",
    "          Npoints=widgets.IntSlider(min=0, max=100, step=1, value=10,layout=widgets.Layout(width='60%')) , \n",
    "          \n",
    "          continuous_update=True )\n",
    "def plot(findex,Npoints):\n",
    "\n",
    "\n",
    "    \n",
    "        def speciallog(x):\n",
    "\n",
    "            x[np.where(abs(x)<0.1)]=0.1\n",
    "            return np.log(x**2)\n",
    "    \n",
    "        def func(x):\n",
    "            if findex == 0:\n",
    "                return -np.sin(x**2)\n",
    "            elif findex == 1:\n",
    "                return x**2\n",
    "            elif findex == 2:\n",
    "                return speciallog(x)\n",
    "            elif findex == 3:\n",
    "                return np.exp(-0.1*x)*np.sin(0.1*x**2)            \n",
    "\n",
    "        def create_data(n):\n",
    "            \"\"\"Given an integer n, returns n data points\n",
    "            x and values y as a numpy.array.\"\"\"\n",
    "            xmax = 5.\n",
    "            x = np.linspace(-xmax, xmax, n)\n",
    "            y = func(x)\n",
    "            #make y-data somewhat irregular\n",
    "           # y += 1.5 * np.random.normal(size=len(x))\n",
    "            return x, y\n",
    "\n",
    "        #main program\n",
    "        n = Npoints\n",
    "        x, y = create_data(n)\n",
    "\n",
    "\n",
    "\n",
    "\n",
    "\n",
    "        #use finer and regular mesh for plot\n",
    "        xfine = np.linspace(-4.9, 4.9, n * 100)\n",
    "        yfine = func(xfine)\n",
    "        #interpolate with piecewise quadratic (p=2)\n",
    "        y0 = scipy.interpolate.interp1d(x, y, kind='quadratic')\n",
    "        #interpolate with piecewise linear func (p=1)\n",
    "        y1 = scipy.interpolate.interp1d(x, y, kind='linear')\n",
    "        #interpolate with piecewise constant func (p=3)\n",
    "        y3 = scipy.interpolate.interp1d(x, y, kind='cubic')\n",
    "#        print(y3(4.5))\n",
    "        #interpolate with cubic Hermite\n",
    "        yfineH = scipy.interpolate.pchip_interpolate(x, y, xfine)\n",
    "\n",
    "        pylab.figure()\n",
    "        pylab.plot(x, y, 'o', label='data point')\n",
    "        pylab.plot(xfine, yfine, label='True function')\n",
    "\n",
    "        pylab.plot(xfine, y0(xfine), label='quadratic')\n",
    "        pylab.plot(xfine, y1(xfine), label='linear')\n",
    "        pylab.plot(xfine, y3(xfine), label='cubic')\n",
    "        pylab.plot(xfine, yfineH, label='cubic Hermite')\n",
    "        pylab.legend(loc='upper left',bbox_to_anchor=(1.02,0.5,0.5,0.5))\n",
    "        pylab.xlabel('x')\n",
    "        pylab.ylabel('y')\n",
    "\n",
    "        if findex == 0:\n",
    "            pylab.text(-4.5,1.25,'f(x) = -sin($x^2$)',fontsize=15)\n",
    "        elif findex == 1:\n",
    "            pylab.text(-4.5,27,'f(x) = $x^2$',fontsize=15)\n",
    "        elif findex == 2:\n",
    "            pylab.text(-4.5,4,'f(x) = log($x^2$) or $\\mathrm{log_e}$(0.01) if abs(x)<0.1',fontsize=15)\n",
    "        elif findex == 3:\n",
    "            pylab.text(-4.5,1.6,'f(x) = exp(-0.1x)*sin($x^2$/10) ',fontsize=15)\n",
    "             \n",
    "\n",
    "        # plot differences\n",
    "        pylab.figure()\n",
    "        pylab.plot(x, y-func(x), 'o', label='data point')\n",
    "        pylab.plot(xfine, y0(xfine)-func(xfine), label='quadratic')\n",
    "        pylab.plot(xfine, y1(xfine)-func(xfine), label='linear')\n",
    "        pylab.plot(xfine, y3(xfine)-func(xfine), label='cubic')\n",
    "        pylab.plot(xfine, yfineH-func(xfine), label='cubic Hermite')\n",
    "        pylab.legend(loc='upper left',bbox_to_anchor=(1.02,0.5,0.5,0.5))\n",
    "        pylab.xlabel('x')\n",
    "        pylab.ylabel('Interpolation - function')\n"
   ]
  },
  {
   "cell_type": "markdown",
   "metadata": {},
   "source": [
    "## Part 2: Root finding"
   ]
  },
  {
   "cell_type": "markdown",
   "metadata": {},
   "source": [
    "### Root finding using the bisection method\n",
    "\n",
    "First we introduce the `bisect` algorithm which is (i) robust and (ii) slow but conceptually very simple.\n",
    "\n",
    "Suppose we need to compute the roots of *f*(*x*)=*x*<sup>3</sup> − 2*x*<sup>2</sup>. This function has a (double) root at *x* = 0 (this is trivial to see) and another root which is located between *x* = 1.5 (where *f*(1.5)= − 1.125) and *x* = 3 (where *f*(3)=9). It is pretty straightforward to see that this other root is located at *x* = 2. Here is a program that determines this root numerically:"
   ]
  },
  {
   "cell_type": "code",
   "execution_count": null,
   "metadata": {
    "scrolled": false
   },
   "outputs": [],
   "source": [
    "from scipy.optimize import bisect\n",
    "\n",
    "\n",
    "\n",
    "@interact(xl=widgets.FloatSlider(min=-10, max=2.5, step=0.01, value=-1,layout=widgets.Layout(width='60%')) , \n",
    "          xu=widgets.FloatSlider(min=1.9, max=2.5, step=0.01, value=3,layout=widgets.Layout(width='60%')) , \n",
    "          tolerance=widgets.IntSlider(min=-10, max=-1, step=1, value=-2,layout=widgets.Layout(width='60%')) , \n",
    "          continuous_update=True )\n",
    "def plot(xl, xu, tolerance):\n",
    "    \n",
    "    def f(x):\n",
    "        \"\"\"returns f(x)=x^3-2x^2. Has roots at\n",
    "        x=0 (double root) and x=2\"\"\"\n",
    "        return x ** 3 - 2 * x ** 2\n",
    "\n",
    "\n",
    "    x=np.linspace(-1,10,1000)\n",
    "    y=f(x)\n",
    "    plt.scatter(xl,f(xl),color=\"red\")\n",
    "    plt.scatter(xu,f(xu),color=\"blue\")\n",
    "\n",
    "    plt.plot(x,y)\n",
    "    plt.ylim(np.min(y)-0.2*np.abs( np.min(y)),5)\n",
    "\n",
    "    # main program starts here\n",
    "    x = bisect(f, xl, xu, xtol=10**(tolerance))\n",
    "\n",
    "\n",
    "    plt.text(4,-1, \"The root x is approximately {:5.8f}\".format(x))\n",
    "    plt.text(4,-1.5, \"The error is {:5.8f}\".format(2-x))\n",
    "\n"
   ]
  },
  {
   "cell_type": "markdown",
   "metadata": {},
   "source": [
    "The `bisect()` method takes three compulsory arguments: (i) the function *f*(*x*), (ii) a lower limit *a* (for which we have chosen 1.5 in our example) and (ii) an upper limit *b* (for which we have chosen 3). The optional parameter `xtol` determines the maximum error of the method."
   ]
  },
  {
   "cell_type": "markdown",
   "metadata": {},
   "source": [
    "### Root finding using Müller-Brent method\n",
    "\n",
    "This is a classic method to find a zero of the function f on the sign changing interval [a , b]. It is a safe version of the secant method that uses inverse quadratic extrapolation. Brent’s method combines root bracketing, interval bisection, and inverse quadratic interpolation."
   ]
  },
  {
   "cell_type": "code",
   "execution_count": null,
   "metadata": {},
   "outputs": [],
   "source": [
    "from scipy.optimize import brentq\n",
    "\n",
    "def f(x):\n",
    "    return x ** 3 - 2 * x ** 2\n",
    "\n",
    "x = brentq(f, 1.5, 3, xtol=1e-6)\n",
    "\n",
    "print(\"The root x is approximately x=%14.12g,\\n\"\n",
    "      \"the error is less than 1e-6.\" % (x))\n",
    "print(\"The exact error is %g.\" % (2 - x))\n",
    "\n",
    "\n",
    "x = np.linspace(-2,5,1000)\n",
    "y = f(x)\n",
    "plt.plot(x,y)\n",
    "plt.ylim(-3,1)"
   ]
  },
  {
   "cell_type": "markdown",
   "metadata": {},
   "source": [
    "### Root finding using the `fsolve` function\n",
    "\n",
    "A (often) better (in the sense of “more efficient”) algorithm than the bisection algorithm is implemented in the general purpose `fsolve()` function for root finding of (multidimensional) functions. This algorithm needs only one starting point close to the suspected location of the root (but is not guaranteed to converge).\n",
    "\n",
    "Here is an example:"
   ]
  },
  {
   "cell_type": "code",
   "execution_count": null,
   "metadata": {},
   "outputs": [],
   "source": [
    "from scipy.optimize import fsolve\n",
    "\n",
    "def f(x):\n",
    "    return x ** 3 - 2 * x ** 2\n",
    "\n",
    "x0 = [-0.5,1.6]\n",
    "x = fsolve(f, x0 )           # specify starting points\n",
    "\n",
    "print(\"Number of roots is\",len(x))\n",
    "print(\"The root(s) are \",x)\n",
    "print(\"Error of the initial guess = \",x0[0]-0,x0[1]-2)\n",
    "print(\"error : \",x[0]-0,x[1]-2)"
   ]
  },
  {
   "cell_type": "markdown",
   "metadata": {},
   "source": [
    "The input to `fsolve` is the function and the array of initial locations for the roots. The return value of `fsolve` is a numpy array of length *n* for a root finding problem with *n* variables. In the example above, we have *n* = 2."
   ]
  },
  {
   "cell_type": "code",
   "execution_count": null,
   "metadata": {},
   "outputs": [],
   "source": [
    "import matplotlib\n",
    "import matplotlib.pyplot as plt\n",
    "\n",
    "\n",
    "@interact(x0=widgets.FloatSlider(min=-2, max=3, step=0.1, value=-1.8,layout=widgets.Layout(width='60%')) , \n",
    "          x1=widgets.FloatSlider(min=-2, max=3, step=0.1, value=3,layout=widgets.Layout(width='60%')) , \n",
    "          function=widgets.IntSlider(min=0, max=1, step=1, value=0,layout=widgets.Layout(width='60%')) , \n",
    "\n",
    "          continuous_update=True )\n",
    "\n",
    "def plot(x0,x1,function):\n",
    "    \n",
    "    def f(x):\n",
    "        if function == 0:\n",
    "            return x ** 3 - 2 * x ** 2\n",
    "        else:\n",
    "            return x ** 3 - 2 * x ** 2 + 1\n",
    "        \n",
    "    x_initials = [x0,x1]\n",
    "    if function == 1:\n",
    "        x_initials = [x0,x1, 0.5]\n",
    "    x_solutions = fsolve(f,x_initials)\n",
    "    fig, ax = plt.subplots()    \n",
    "    plt.scatter( x_initials[0], f(x_initials[0]), color=\"blue\")\n",
    "    plt.scatter( x_initials[1], f(x_initials[1]), color=\"blue\")\n",
    "        \n",
    "    plt.scatter( x_solutions[0], f(x_solutions[0]), color=\"red\")\n",
    "    plt.scatter( x_solutions[1], f(x_solutions[1]), color=\"red\")\n",
    "    if function == 1:\n",
    "        plt.scatter( x_initials[2], f(x_initials[2]), color=\"blue\")\n",
    "        plt.scatter( x_solutions[2], f(x_solutions[2]), color=\"red\")\n",
    "        plt.text(0.5,-5,\"f(x) = $x^3$ - 2$x^2$ + 1\", fontsize=16)\n",
    "    elif function == 0:\n",
    "        plt.text(0.5,-5,\"f(x) = $x^3$ - 2$x^2$\", fontsize=16)\n",
    "    x=np.linspace(-2,3,100)\n",
    "    \n",
    "    \n",
    "\n",
    "    ax.plot(x, f(x))\n",
    "    ax.set(xlabel='x', ylabel='f(x)',\n",
    "           title='Visual check')\n",
    "    plt.axhline(y=0, c=\"black\")\n",
    "    plt.axvline(x=0, c=\"black\")\n",
    "    ax.grid()\n",
    "    plt.show()"
   ]
  },
  {
   "cell_type": "code",
   "execution_count": null,
   "metadata": {},
   "outputs": [],
   "source": []
  }
 ],
 "metadata": {
  "kernelspec": {
   "display_name": "Python 3 (ipykernel)",
   "language": "python",
   "name": "python3"
  },
  "language_info": {
   "codemirror_mode": {
    "name": "ipython",
    "version": 3
   },
   "file_extension": ".py",
   "mimetype": "text/x-python",
   "name": "python",
   "nbconvert_exporter": "python",
   "pygments_lexer": "ipython3",
   "version": "3.9.13"
  }
 },
 "nbformat": 4,
 "nbformat_minor": 4
}
