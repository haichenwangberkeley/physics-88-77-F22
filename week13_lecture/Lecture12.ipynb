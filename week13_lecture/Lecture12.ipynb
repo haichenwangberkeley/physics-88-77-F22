{
 "cells": [
  {
   "cell_type": "code",
   "execution_count": null,
   "id": "53002601",
   "metadata": {},
   "outputs": [],
   "source": [
    "import numpy as np\n",
    "import matplotlib.pyplot as plt"
   ]
  },
  {
   "cell_type": "code",
   "execution_count": null,
   "id": "ce856ec2",
   "metadata": {},
   "outputs": [],
   "source": [
    "%notebook inline\n",
    "import ipywidgets as widgets\n",
    "import seaborn as sns\n",
    "from IPython.display import HTML\n",
    "from ipywidgets import interact, interactive, fixed, interact_manual\n",
    "from matplotlib import animation, rc  "
   ]
  },
  {
   "cell_type": "markdown",
   "id": "cbb39f28",
   "metadata": {},
   "source": [
    "# Intuition"
   ]
  },
  {
   "cell_type": "code",
   "execution_count": null,
   "id": "b4637cce",
   "metadata": {
    "scrolled": false
   },
   "outputs": [],
   "source": [
    "@interact(frequency=widgets.FloatSlider(min=0, max=10, step=0.1, value=5,layout=widgets.Layout(width='60%')) , \n",
    "          phase=widgets.FloatSlider(min=-5, max=5, step=0.1, value=0,layout=widgets.Layout(width='60%')) , continuous_update=True )\n",
    "def plot(frequency, phase):\n",
    "    # sampling rate\n",
    "    sr = 1000.0\n",
    "    # sampling interval\n",
    "    ts = 1.0/sr\n",
    "    t = np.arange(0,1,ts)\n",
    "    \n",
    "    # frequency of the signal\n",
    "    freq = frequency   \n",
    "    y = 5*np.sin(2*np.pi*5*t)\n",
    "\n",
    "    plt.figure(figsize = (8, 8))\n",
    "    plt.plot(t, y, 'b')\n",
    "    plt.ylabel('Amplitude')\n",
    "\n",
    "    y2 = 5*np.sin(2*np.pi*freq*t + phase*np.pi)\n",
    "\n",
    "    plt.plot(t, y2, 'r--')\n",
    "    plt.ylabel('Amplitude')\n",
    "\n",
    "    plt.xlabel('Time (s)')\n",
    "    plt.show()"
   ]
  },
  {
   "cell_type": "markdown",
   "id": "db41839b",
   "metadata": {},
   "source": [
    "# DFT "
   ]
  },
  {
   "cell_type": "code",
   "execution_count": null,
   "id": "91d64910",
   "metadata": {},
   "outputs": [],
   "source": [
    "sr =100\n",
    "t = np.arange(0,1,1/sr)\n",
    "\n",
    "w1 = 3*np.sin(2*np.pi*1*t)\n",
    "w2 = 1*np.sin(2*np.pi*4*t)\n",
    "w3 = 0.5*np.sin(2*np.pi*7*t)\n",
    "\n",
    "w = w1+w2+w3\n",
    "fig, axs = plt.subplots(4,1,figsize=(8,7))\n",
    "plt.subplot(411)\n",
    "plt.plot(t,w,'r',label=\"Superposition\")\n",
    "plt.xlabel('t[s]')\n",
    "plt.ylabel('Amplitude')\n",
    "plt.legend()\n",
    "plt.subplot(412)\n",
    "plt.plot(t,w1,'g',label='f = 1 Hz')\n",
    "plt.xlabel('t[s]')\n",
    "plt.ylabel('Amplitude')\n",
    "plt.legend()\n",
    "plt.subplot(413)\n",
    "plt.plot(t,w2,'g',label='f = 4 Hz')\n",
    "plt.xlabel('t[s]')\n",
    "plt.ylabel('Amplitude')\n",
    "plt.legend()\n",
    "plt.subplot(414)\n",
    "plt.plot(t,w3,'g',label='f = 7 Hz')\n",
    "plt.legend()\n",
    "plt.xlabel('t[s]')\n",
    "plt.ylabel('Amplitude')\n"
   ]
  },
  {
   "cell_type": "code",
   "execution_count": null,
   "id": "5f7b5953",
   "metadata": {},
   "outputs": [],
   "source": [
    "# DFT \"by hand\"\n",
    "\n",
    "def DFT(x):\n",
    "    \"\"\"\n",
    "    Function to calculate the \n",
    "    discrete Fourier Transform \n",
    "    of a 1D real-valued signal x\n",
    "    \"\"\"\n",
    "\n",
    "    N = len(x)\n",
    "    n = np.arange(N)\n",
    "    k = n.reshape((N, 1))\n",
    "    e = np.exp(-2j * np.pi * k * n / N)\n",
    "    \n",
    "    X = np.dot(e, x)\n",
    "    \n",
    "    return X\n"
   ]
  },
  {
   "cell_type": "code",
   "execution_count": null,
   "id": "183a491b",
   "metadata": {
    "scrolled": true
   },
   "outputs": [],
   "source": [
    "\n",
    "X = DFT(w)\n",
    "\n",
    "# calculate the frequency\n",
    "N = len(X)\n",
    "n = np.arange(N)\n",
    "T = N/sr\n",
    "freq = n/T \n",
    "\n",
    "plt.figure(figsize = (8, 6))\n",
    "plt.stem(freq, abs(X), 'b', \\\n",
    "         markerfmt=\" \", basefmt=\"-b\")\n",
    "plt.xlabel('Freq (Hz)')\n",
    "plt.ylabel('DFT Amplitude |X(freq)|')\n",
    "plt.show()"
   ]
  },
  {
   "cell_type": "markdown",
   "id": "d8cebc97",
   "metadata": {},
   "source": [
    "# signal reconstruction with FFT and IFFT"
   ]
  },
  {
   "cell_type": "code",
   "execution_count": null,
   "id": "12641694",
   "metadata": {},
   "outputs": [],
   "source": [
    "sr =100\n",
    "t = np.arange(0,1,1/sr)\n",
    "\n",
    "w1 = 3*np.sin(2*np.pi*1*t)\n",
    "w2 = 1*np.sin(2*np.pi*4*t)\n",
    "w3 = 0.5*np.sin(2*np.pi*7*t)\n",
    "\n",
    "w = w1+w2+w3\n",
    "fig, axs = plt.subplots(4,1,figsize=(8,7))\n",
    "plt.subplot(411)\n",
    "plt.plot(t,w,'r',label=\"Superposition\")\n",
    "plt.xlabel('t[s]')\n",
    "plt.ylabel('Amplitude')\n",
    "plt.legend()\n",
    "plt.subplot(412)\n",
    "plt.plot(t,w1,'g',label='f = 1 Hz')\n",
    "plt.xlabel('t[s]')\n",
    "plt.ylabel('Amplitude')\n",
    "plt.legend()\n",
    "plt.subplot(413)\n",
    "plt.plot(t,w2,'g',label='f = 4 Hz')\n",
    "plt.xlabel('t[s]')\n",
    "plt.ylabel('Amplitude')\n",
    "plt.legend()\n",
    "plt.subplot(414)\n",
    "plt.plot(t,w3,'g',label='f = 7 Hz')\n",
    "plt.legend()\n",
    "plt.xlabel('t[s]')\n",
    "plt.ylabel('Amplitude')\n"
   ]
  },
  {
   "cell_type": "code",
   "execution_count": null,
   "id": "3e5a459a",
   "metadata": {},
   "outputs": [],
   "source": [
    "from numpy.fft import fft, ifft\n",
    "\n",
    "X = fft(w)\n",
    "N = len(X)\n",
    "n = np.arange(N)\n",
    "T = N/sr\n",
    "freq = n/T \n",
    "\n",
    "plt.figure(figsize = (12, 6))\n",
    "plt.subplot(121)\n",
    "\n",
    "plt.stem(freq, np.abs(X), 'b', \\\n",
    "         markerfmt=\" \", basefmt=\"-b\")\n",
    "plt.xlabel('Freq (Hz)')\n",
    "plt.ylabel('FFT Amplitude |X(freq)|')\n",
    "plt.xlim(0, 10)\n",
    "\n",
    "plt.subplot(122)\n",
    "plt.plot(t, ifft(X), 'r')\n",
    "plt.plot(t, w, 'g')\n",
    "\n",
    "plt.xlabel('Time (s)')\n",
    "plt.ylabel('Amplitude')\n",
    "plt.tight_layout()\n",
    "plt.show()"
   ]
  },
  {
   "cell_type": "code",
   "execution_count": null,
   "id": "e6380081",
   "metadata": {},
   "outputs": [],
   "source": [
    "sr = 1000\n",
    "t = np.linspace(0,1,sr)\n",
    "y = np.exp(-10*t) + np.random.normal(0,0.5,size=sr)\n",
    "\n",
    "y1 = np.ones_like(t)\n",
    "\n",
    "y1[:200] = 0\n",
    "y1[800:] = 0\n",
    "y2 = y1*0.5\n",
    "y3 = y1*2.5\n",
    "\n",
    "y1 = y1 + np.random.normal(0,0.5,size=sr)\n",
    "y2 = y2 + np.random.normal(0,0.5,size=sr)\n",
    "\n",
    "y3 = y3 + np.random.normal(0,0.5,size=sr)\n",
    "\n",
    "y4 = np.random.normal(0,0.1,size=sr)\n",
    "plt.plot(t,y1)\n",
    "plt.plot(t,y2)\n",
    "plt.plot(t,y3)\n",
    "\n",
    "plt.xlabel('Time [s]', fontsize=18)\n",
    "plt.ylabel('Amplitude', fontsize=18)\n"
   ]
  },
  {
   "cell_type": "markdown",
   "id": "30c3f6e5",
   "metadata": {},
   "source": [
    "# Butterworth Filter"
   ]
  },
  {
   "cell_type": "code",
   "execution_count": null,
   "id": "a920c065",
   "metadata": {},
   "outputs": [],
   "source": [
    "import numpy as np\n",
    "from scipy import signal  \n",
    "import matplotlib.pyplot as plt"
   ]
  },
  {
   "cell_type": "code",
   "execution_count": null,
   "id": "a5aedad0",
   "metadata": {},
   "outputs": [],
   "source": [
    "sr = 1000\n",
    "t = np.linspace(0,1,sr)\n",
    "y = np.exp(-10*t) + np.random.normal(0,0.5,size=sr)\n",
    "\n",
    "y1 = np.ones_like(t)\n",
    "\n",
    "y1[:200] = 0\n",
    "y1[800:] = 0\n",
    "y2 = y1*0.5\n",
    "y3 = y1*2.5\n",
    "\n",
    "y1 = y1 + np.random.normal(0,0.5,size=sr)\n",
    "y2 = y2 + np.random.normal(0,0.5,size=sr)\n",
    "\n",
    "y3 = y3 + np.random.normal(0,0.5,size=sr)\n",
    "\n",
    "y4 = np.random.normal(0,0.1,size=sr)\n",
    "plt.plot(t,y1)\n",
    "plt.plot(t,y2)\n",
    "plt.plot(t,y3)\n",
    "\n",
    "plt.xlabel('Time [s]', fontsize=18)\n",
    "plt.ylabel('Amplitude', fontsize=18)"
   ]
  },
  {
   "cell_type": "code",
   "execution_count": null,
   "id": "e1a23bde",
   "metadata": {},
   "outputs": [],
   "source": [
    "sos = signal.butter(10, 8, 'lp', fs=1000, output='sos')\n",
    "f_y1 = signal.sosfilt(sos,y1)\n",
    "f_y2 = signal.sosfilt(sos,y2)\n",
    "f_y3 = signal.sosfilt(sos,y3)\n",
    "plt.plot(t,f_y1)\n",
    "plt.plot(t,f_y2)\n",
    "plt.plot(t,f_y3)\n",
    "plt.xlabel('Time [s]', fontsize=18)\n",
    "plt.ylabel('Amplitude', fontsize=18)\n"
   ]
  },
  {
   "cell_type": "code",
   "execution_count": null,
   "id": "85f2cf7e",
   "metadata": {},
   "outputs": [],
   "source": []
  }
 ],
 "metadata": {
  "kernelspec": {
   "display_name": "Python 3 (ipykernel)",
   "language": "python",
   "name": "python3"
  },
  "language_info": {
   "codemirror_mode": {
    "name": "ipython",
    "version": 3
   },
   "file_extension": ".py",
   "mimetype": "text/x-python",
   "name": "python",
   "nbconvert_exporter": "python",
   "pygments_lexer": "ipython3",
   "version": "3.9.13"
  }
 },
 "nbformat": 4,
 "nbformat_minor": 5
}
