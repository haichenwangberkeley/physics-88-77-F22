{
 "cells": [
  {
   "cell_type": "markdown",
   "metadata": {},
   "source": [
    "# Introduction to Numerical ODE Solutions\n",
    "*Originally developed based on material here: http://phys.csuchico.edu/ayars/312 *\n"
   ]
  },
  {
   "cell_type": "code",
   "execution_count": null,
   "metadata": {},
   "outputs": [],
   "source": [
    "# imports\n",
    "import numpy as np\n",
    "import matplotlib.pyplot as plt\n",
    "%matplotlib inline"
   ]
  },
  {
   "cell_type": "markdown",
   "metadata": {},
   "source": [
    "## Part 1: Euler method"
   ]
  },
  {
   "cell_type": "markdown",
   "metadata": {},
   "source": [
    "### Definition of the Euler method\n",
    "\n",
    "A first-order ODE can be expressed as:\n",
    "$$\\frac{dy}{dt} = F(y,t)$$\n",
    "\n",
    "The following function implements the Euler method, where the input arguments \n",
    "- derivs is $F(y,t)$\n",
    "- yo is the an array/list of initial states of $y$, $dy/dt$, ...\n",
    "- times is a series of time points used in the iteration\n",
    "\n",
    "The function returns an array of $y$ that stores the y values at the values of t"
   ]
  },
  {
   "cell_type": "code",
   "execution_count": null,
   "metadata": {},
   "outputs": [],
   "source": [
    "def euler(derivs, yo, times):\n",
    "    dims = len(yo)   # number of dimensions\n",
    "    N = len(times)  # number of time slices\n",
    "    y = np.zeros([N, dims])  # array of solutions\n",
    "\n",
    "    # initial condition\n",
    "    y[0] = yo\n",
    "\n",
    "    # calculate the rest\n",
    "    for j in range(1,N):\n",
    "        t = times[j]\n",
    "        dt = t-times[j-1]\n",
    "        y[j] = y[j-1] + derivs(t-dt, y[j-1])*dt\n",
    "        \n",
    "    # return the answer\n",
    "    return y\n"
   ]
  },
  {
   "cell_type": "markdown",
   "metadata": {},
   "source": [
    "### Example: Air Drag, 1st-order ODE"
   ]
  },
  {
   "cell_type": "markdown",
   "metadata": {},
   "source": [
    "Define a differential equation: fall with air drag\n",
    "$$ a = \\frac{dv}{dt} = g - cv^2 $$\n",
    "$$ c = \\frac{1/2 \\rho A C_d}{m} $$\n",
    "\n",
    "Where\n",
    "- $ \\rho $ - density of the fluid,\n",
    "- $ C_d $ - drag coefficient,\n",
    "- $ A $ - cross-sectional area, and\n",
    "- $m$ - mass"
   ]
  },
  {
   "cell_type": "code",
   "execution_count": null,
   "metadata": {},
   "outputs": [],
   "source": [
    "def drag(time, state):\n",
    "    global g,c\n",
    "    v = state[0]\n",
    "    return g - c*v*v  "
   ]
  },
  {
   "cell_type": "markdown",
   "metadata": {},
   "source": [
    "Integration example"
   ]
  },
  {
   "cell_type": "code",
   "execution_count": null,
   "metadata": {},
   "outputs": [],
   "source": [
    "initial_state = np.array([0.0])\n",
    "g = 9.81\n",
    "\n",
    "# Human falling in air\n",
    "rho = 1.225 # kg/m^3\n",
    "Cd = 1\n",
    "A = 40 # m^2 (parachute)\n",
    "mass = 70 # kg\n",
    "c = 0.5*A*rho*Cd/mass\n",
    "\n",
    "times = np.linspace(0,5,100)      # 0.05 sec steps. check how results depend on step size\n",
    "velocity = euler(drag,initial_state,times)\n",
    "\n",
    "plt.plot(times,velocity,'r-')\n",
    "plt.xlabel('time [seconds]')\n",
    "plt.ylabel('velocity [m/s]')\n",
    "\n",
    "vTerm = velocity[-1][0]\n",
    "print('Terminal velocity = {0:.1f} m/s'.format(vTerm))\n",
    "print('Equivalent to falling from {0:.1f} m height without air resistance'.format(0.5*vTerm**2/g))"
   ]
  },
  {
   "cell_type": "markdown",
   "metadata": {},
   "source": [
    "### Example 2 : Simple Harmonic Oscillator, 2nd-order ODE\n",
    "\n",
    "Define a differential equation: simple harmonic motion\n",
    "\n",
    "The total energy of the system is given by the sum of the potential energy and the kinetic energy\n",
    "$$\n",
    "E = \\frac{1}{2}kx^2+\\frac{1}{2}mv^2\n",
    "$$\n",
    "where $k$ is Hooke's constant and the velocity is \n",
    "$$\n",
    "v = \\frac{dx}{dt}\n",
    "$$\n",
    "\n",
    "\n",
    "The acceleration is given by\n",
    "$$\n",
    "\\frac{d^2x}{dt^2} = - \\frac{k}{m}x\n",
    "$$\n",
    "\n",
    "To solve this 2nd order ODE, we would need to solve the following two 1st order ODEs\n",
    "\n",
    "$$\n",
    "\\frac{dx}{dt} = v \n",
    "$$\n",
    "\n",
    "$$\n",
    "\\frac{dv}{dt} = -\\frac{k}{m}x = -\\omega^2x\n",
    "$$\n",
    "where $\\omega$ is the oscillating frequency\n",
    "\n",
    "\n"
   ]
  },
  {
   "cell_type": "markdown",
   "metadata": {},
   "source": [
    "The two ODEs are coded as follows:\n",
    "- SHO return the states of $\\frac{dx}{dt}$ and $\\frac{dv}{dt}$ at time $t_i$, with input states at $t_{i-1}$\n",
    "- g0 is the state of $\\frac{dx}{dt}$\n",
    "- g1 is the state of $\\frac{dv}{dt}$"
   ]
  },
  {
   "cell_type": "code",
   "execution_count": null,
   "metadata": {},
   "outputs": [],
   "source": [
    "def SHO(time,state):\n",
    "    global omega\n",
    "    g0 = state[1]\n",
    "    g1 = -omega*omega*state[0]\n",
    "    return np.array([g0,g1])\n"
   ]
  },
  {
   "cell_type": "markdown",
   "metadata": {},
   "source": [
    "Set up the initial conditions and integration times"
   ]
  },
  {
   "cell_type": "code",
   "execution_count": null,
   "metadata": {},
   "outputs": [],
   "source": [
    "initial_state = np.array([1,0])    # Here the initial condition is x!=0, v=0.\n",
    "omega = 1\n",
    "wanted_times = np.linspace(0, 20, 1000)\n",
    "answer = euler(SHO, initial_state, wanted_times)\n",
    "\n",
    "# Plot the results\n",
    "x = answer[:,0]\n",
    "v = answer[:,1]\n",
    "plt.plot(wanted_times, x, 'b-',label='position')\n",
    "plt.plot(wanted_times, v, 'g-',label='velocity')\n",
    "plt.xlabel('time')\n",
    "plt.legend()\n",
    "plt.show()\n",
    "\n",
    "# what do we see?\n"
   ]
  },
  {
   "cell_type": "code",
   "execution_count": null,
   "metadata": {},
   "outputs": [],
   "source": [
    "E = 0.5*(omega**2)*x**2 + 0.5*v**2\n",
    "plt.plot(wanted_times,E)\n",
    "plt.ylabel(\"Energy\")\n",
    "plt.xlabel(\"time\")\n",
    "plt.ylim(0,1)\n",
    "# What does this mean?"
   ]
  },
  {
   "cell_type": "markdown",
   "metadata": {},
   "source": [
    "## Part 2: Runge-Kutta method\n",
    "\n",
    "Now let's implement a 2nd-order Runge Kutta (RK).\n",
    "This function moves the value of ’y’ forward by a single step of size ’dt’, \n",
    "using a second−order Runge−Kutta algorithm. This particular algorithm is equivalent to \n",
    "finding the average of the slope at time t and at time\n",
    "( t+dt ) , and using that average slope to find value of y."
   ]
  },
  {
   "cell_type": "code",
   "execution_count": null,
   "metadata": {},
   "outputs": [],
   "source": [
    "def rk2(y, time, dt, derivs): \n",
    "    k1 = dt*derivs(time, y)\n",
    "    k2 = dt*derivs(time+dt, y+k1) \n",
    "    y_next = y+0.5*(k1+k2)\n",
    "    return y_next"
   ]
  },
  {
   "cell_type": "markdown",
   "metadata": {},
   "source": [
    "### Examples"
   ]
  },
  {
   "cell_type": "code",
   "execution_count": null,
   "metadata": {},
   "outputs": [],
   "source": [
    "initial_state = np.array([1,0])    # Here the initial condition is x!=0, v=0.\n",
    "omega = 1\n",
    "N = 1000  # number of steps\n",
    "tau = 20 # max time\n",
    "dt = tau/float(N-1)  # step size\n",
    "wanted_times = np.linspace(0, tau, N)\n",
    "\n",
    "answerE  = euler(SHO, initial_state, wanted_times)\n",
    "\n",
    "answerRK = np.zeros([N,2])\n",
    "answerRK[0,:] = initial_state\n",
    "for j in range (N-1):\n",
    "    answerRK[j+1] = rk2(answerRK[j], 0, dt , SHO)\n",
    "\n",
    "# Plot the results\n",
    "xE = answerE[:,0]\n",
    "vE = answerE[:,1]\n",
    "xRK = answerRK[:,0]\n",
    "vRK = answerRK[:,1]\n",
    "plt.plot(wanted_times, xE, 'g-',label=\"Euler\")  # Euler\n",
    "plt.plot(wanted_times, xRK, 'r-',label=\"RK2\") # RK2\n",
    "plt.legend()\n",
    "plt.show()\n",
    "\n",
    "# plot energy vs time\n",
    "m = 1\n",
    "k = omega*omega*m\n",
    "energy = 0.5*(k*xRK**2 + m*vRK**2)\n",
    "plt.plot(wanted_times,energy,'r-')\n",
    "plt.ylabel(\"Energy\")\n",
    "plt.xlabel(\"time\")\n",
    "plt.ylim(0,1)\n",
    "#plt.ylim(0,1)"
   ]
  },
  {
   "cell_type": "markdown",
   "metadata": {},
   "source": [
    "## SciPy library \n",
    "\n",
    "SciPy offers an interface to multiple integration routines, incuding RK23 , RK45, and LSODA routine from ODEPACK Fortran library (adaptive, high-performance multi-step integration) -- see <a href=\"https://docs.scipy.org/doc/scipy/reference/integrate.html\">scipy.integrate</a>. In particular, notice parameter ``rtol``"
   ]
  },
  {
   "cell_type": "code",
   "execution_count": null,
   "metadata": {},
   "outputs": [],
   "source": [
    "from scipy.integrate import solve_ivp\n",
    "\n",
    "answer  = solve_ivp(SHO, y0=initial_state, method='RK45', \n",
    "                    t_span=(wanted_times[0],wanted_times[-1]), \n",
    "                    t_eval=wanted_times, rtol=1e-4)\n",
    "#print(answer)\n",
    "x = answer.y[0,:]\n",
    "v = answer.y[1,:]\n",
    "plt.plot(wanted_times, x, 'b-',label='position')\n",
    "plt.plot(wanted_times, v, 'g-',label='velocity')\n",
    "plt.legend()\n",
    "plt.show()\n",
    "\n",
    "# plot energy vs time\n",
    "m = 1\n",
    "k = omega*omega*m\n",
    "energy = 0.5*(k*x**2 + m*v**2)\n",
    "plt.plot(wanted_times,energy,'r-')\n",
    "plt.ylim(0,1)\n",
    "plt.ylabel(\"Energy\")\n",
    "plt.xlabel(\"time\")\n",
    "plt.ylim(0,1)"
   ]
  }
 ],
 "metadata": {
  "kernelspec": {
   "display_name": "Python 3 (ipykernel)",
   "language": "python",
   "name": "python3"
  },
  "language_info": {
   "codemirror_mode": {
    "name": "ipython",
    "version": 3
   },
   "file_extension": ".py",
   "mimetype": "text/x-python",
   "name": "python",
   "nbconvert_exporter": "python",
   "pygments_lexer": "ipython3",
   "version": "3.9.13"
  }
 },
 "nbformat": 4,
 "nbformat_minor": 4
}
