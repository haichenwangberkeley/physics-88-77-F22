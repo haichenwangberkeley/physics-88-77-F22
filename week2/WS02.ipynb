{
 "cells": [
  {
   "cell_type": "markdown",
   "id": "155c0c2e",
   "metadata": {},
   "source": [
    "# Workshop 02:  Python Arithmetic, Functions, Numpy, and Plotting\n",
    "Welcome to the 2nd Workshop for Physics 77/88! \n",
    "\n",
    "**In this workshop you will look at:**\n",
    " - Refresher of simple arthmetic with Python.\n",
    " - Python function defintions.\n",
    " - Python numpy array operations.\n",
    " - Python plotting.\n",
    "\n",
    "\n",
    "## Submission\n",
    "To submit this assignment, rerun the notebook from scratch (by selecting `Kernel` -> `Restart & Run all`), and then save as a pdf (`File` -> `Download as` -> `PDF via LaTeX (.pdf)`) **AND** save as a iPython Notebook (`File` -> `Download as` -> `Notebook (.ipynb)`). Submit **both** of these files to bCourses.\n",
    "\n",
    "**For full credit, this assignment should be completed and submitted before Friday, September 9, 2022 at 11:59 PM. PST**"
   ]
  },
  {
   "cell_type": "markdown",
   "id": "a965ebcf",
   "metadata": {},
   "source": [
    "# Setup\n",
    "Let's begin by importing the libraries we will use. You can find the documentation for the libraries here:\n",
    "* math: https://docs.python.org/3/library/math.html \n",
    "* numpy: https://docs.scipy.org/doc/\n",
    "* scipy: https://docs.scipy.org/doc/scipy/reference/index.html\n",
    "* matplotlib: https://matplotlib.org/3.1.1/contents.html"
   ]
  },
  {
   "cell_type": "code",
   "execution_count": null,
   "id": "0dfd2564",
   "metadata": {},
   "outputs": [],
   "source": [
    "import math\n",
    "import numpy as np\n",
    "import scipy.special\n",
    "import matplotlib.pyplot as plt"
   ]
  },
  {
   "cell_type": "markdown",
   "id": "32f292f3",
   "metadata": {},
   "source": [
    "# Question 1: Python `math` and the Poisson function.\n",
    "A Poisson function is given by the expression below: $$Pois(k, \\lambda) = \\lambda^{k}\\frac{e^{-\\lambda}}{k!}$$\n",
    "\n",
    "It has two input arguments: $k$ and $\\lambda$. In a \"counting\" experiment, $k$ represents the number of occurences of certain experimental outcomes, while $\\lambda$ represents the expected number of occurrences of the same experimental outcome. The output of the Poisson function is the probability of observing $k$ events while $\\lambda$ events are expected.\n",
    "\n",
    "For example, at a hypothetical airport coded ABC, on average, the number of departing flights that are delayed for more than 30 minutes is 10 per day ($\\lambda = 10$). One can then can ask what is the probability of having exactly ten flights ($k = 10$) delayed by over 30 minutes in a single day? What is the probability of having exactly zero flights ($k = 0$) delayed by over 30 minutes in a single day?\n",
    "\n",
    "Before we answer those questions, let's check out a few functions that comes with Python's `math` library."
   ]
  },
  {
   "cell_type": "code",
   "execution_count": null,
   "id": "36bfcf26",
   "metadata": {},
   "outputs": [],
   "source": [
    "# You do not need to change any code here; just run this cell\n",
    "# Although you can always check documentation, in practice, it is\n",
    "# nice to have some of the most useful functions memorized.\n",
    "x = 1.5\n",
    "y = math.exp(x)\n",
    "z = math.factorial(4)\n",
    "w = math.sqrt(x)\n",
    "\n",
    "print(\"y: {}, z: {}, w: {}\".format(y, z, w))\n",
    "\n",
    "x = math.log(10)\n",
    "y = math.cos(x)\n",
    "z = math.log(100,10)\n",
    "w = math.pi\n",
    "\n",
    "print(\"x: {}, y: {}, z: {}, w: {}\".format(x, y, z, w))"
   ]
  },
  {
   "cell_type": "markdown",
   "id": "59089f35",
   "metadata": {},
   "source": [
    "Fill in the following code cell to answer the two aforementioned questions:\n",
    "\n",
    "Given that $\\lambda = 10$\n",
    "\n",
    "1. What is the probability of having exactly ten flights ($k = 10$) delayed by over 30 minutes in a single day?\n",
    "    \n",
    "2. What is the probability of having exactly zero flights ($k = 0$) delayed by over 30 minutes in a single day?"
   ]
  },
  {
   "cell_type": "code",
   "execution_count": null,
   "id": "41600cde",
   "metadata": {},
   "outputs": [],
   "source": [
    "# TODO: Fill out this code cell to print out the probabilities to the questions above.\n",
    "\n",
    "# Question 1\n",
    "lambda_value = ...\n",
    "k = ...\n",
    "prob1 = ...\n",
    "print(prob1)\n",
    "\n",
    "# Question 2\n",
    "lambda_value = ...\n",
    "k = ...\n",
    "prob2 = ...\n",
    "print(prob2)"
   ]
  },
  {
   "cell_type": "markdown",
   "id": "506554d3",
   "metadata": {},
   "source": [
    "# Question 2: Python `for` loops and `numpy` arrays.\n",
    "As a continuation to the flight delay problem in Question 1, keeping $\\lambda = 10$, what is the **probability of having *at least eight* flights delayed over 30 minutes in a single day?**\n",
    "\n",
    "We will determine the answer to this question in two steps:\n",
    "\n",
    "1. Define a Poisson function that takes $k$ and $\\lambda$ as input arguments and returns $Pois(k, \\lambda)$, the Poisson probability (refer above for formula)\n",
    "\n",
    "2. Since the question is about the probability of having at least 8 delayed flights, one would, in principle, need to do an integral from 8 to infinity, $\\int_{8}^{+\\infty} Pois(k, \\lambda) \\,dk$. The infinity is a problem, but we can use a probabilty trick and take the **complement**, allowing us to instead calculate $1 - \\int_{0}^{7} Pois(k, \\lambda) \\,dk$.\n",
    "\n",
    "Additionally, since we are only working with discrete values, $k = 0, 1, ... 7$ we can take the **sum** as opposed to the integral. This means all we need to do is write code to compute $1 - \\sum_{k=0}^{7} Pois(k, 10)$\n",
    "\n",
    "We will implement this expression in **two different ways**."
   ]
  },
  {
   "cell_type": "markdown",
   "id": "0fc53add",
   "metadata": {},
   "source": [
    "## Part 2.a: Calculate the probability using `for` loop\n",
    "In this first approach, we will calculate the Poisson probability for each $k \\in [1, 2, \\dots, 7]$, and then use a `for` loop to sum up the Poisson probabilities. To start, we will define a function that takes single-valued quantities (expectation and observation) as input arguments and return the Poisson probability."
   ]
  },
  {
   "cell_type": "code",
   "execution_count": null,
   "id": "f514357e",
   "metadata": {},
   "outputs": [],
   "source": [
    "# TODO: Define your own Poisson function. Do not use any pre-defined Poisson functions from Python libraries\n",
    "\n",
    "# This function takes in x, y (expectation and obseration) as the input arguments,\n",
    "# and returns a Poisson probability.\n",
    "def Poisson_function(x, y):\n",
    "    ..."
   ]
  },
  {
   "cell_type": "markdown",
   "id": "fc227b5e",
   "metadata": {},
   "source": [
    "Before we write our own `for` loop to sum up the Poisson probabilities, let's first get an idea of their structure and hwo they work."
   ]
  },
  {
   "cell_type": "code",
   "execution_count": null,
   "id": "ddb0344a",
   "metadata": {},
   "outputs": [],
   "source": [
    "# Just run this cell. You are encouraged to tinker and change the inputs and see how that\n",
    "# changes the values that are printed out.\n",
    "\n",
    "# Basic for loop example\n",
    "for i in range(8):\n",
    "    print(\"Value within for loop:\", i)\n",
    "    \n",
    "# How do you sum up values using a for loop?\n",
    "# A common coding practice is to instantiate an intial variable to 0 outside of the for loop\n",
    "# and then add to this variable while within the for loop.\n",
    "mySum = 0 # initial variable\n",
    "for i in range(8):\n",
    "    mySum += i\n",
    "    \n",
    "print(\"Value of mySum:\", mySum)"
   ]
  },
  {
   "cell_type": "markdown",
   "id": "b81f5e1d",
   "metadata": {},
   "source": [
    "With the `Poisson_function` defined and a better idea of how `for` loops work in Python. Let's compute the probability in question and display it using the `print` function."
   ]
  },
  {
   "cell_type": "code",
   "execution_count": null,
   "id": "a1fd0335",
   "metadata": {},
   "outputs": [],
   "source": [
    "# TODO: Find the probability of having at least 8 flights delayed by over 30 minutes in a single day.\n",
    "prob = ...\n",
    "for ... in range ...:\n",
    "    prob += ...\n",
    "    \n",
    "print(\"The probability is:\", ...)\n",
    "print(\"The probability rounded to three decimal points is: {:5.3f}\".format(...))"
   ]
  },
  {
   "cell_type": "markdown",
   "id": "80ddff51",
   "metadata": {},
   "source": [
    "## Part 2.b: Calculate the probability using `numpy` arrays\n",
    "Now, let's try to solve the same problem with a `numpy` array."
   ]
  },
  {
   "cell_type": "code",
   "execution_count": null,
   "id": "9a1a7efd",
   "metadata": {},
   "outputs": [],
   "source": [
    "# Just run this cell.\n",
    "# Here, we are creating our array of observations (our k values).\n",
    "# To do so, we use the linspace function of numpy\n",
    "k_s = np.linspace(0, 7, 8)\n",
    "k_s"
   ]
  },
  {
   "cell_type": "code",
   "execution_count": null,
   "id": "dab9637e",
   "metadata": {},
   "outputs": [],
   "source": [
    "# A numpy array has shape, dimension, and size.\n",
    "# Let's print out these properities to take a closer look at them.\n",
    "print(\"k_s array size: {:7}\".format(k_s.size))\n",
    "print(\"k_s array dimension: \", k_s.ndim)\n",
    "print(\"k_s array shape:     \", k_s.shape)\n",
    "print(\"k_s array value(s):  \", k_s)"
   ]
  },
  {
   "cell_type": "markdown",
   "id": "edac2f62",
   "metadata": {},
   "source": [
    "It is often useful to know these properties for a given `numpy` array. Let's define a function that prints these properties for any given `numpy` array."
   ]
  },
  {
   "cell_type": "code",
   "execution_count": null,
   "id": "3dc2010c",
   "metadata": {},
   "outputs": [],
   "source": [
    "# TODO: Write a function that takes a numpy array as input argument\n",
    "# and prints out these three properties as well as the array itself.\n",
    "\n",
    "def np_analyzer(a):\n",
    "    print(\"input array size: {:7}\".format(...))\n",
    "    print(\"input array dimension: \", ...)\n",
    "    print(\"input array shape:     \", ...)\n",
    "    print(\"input array value(s):  \", ...)\n",
    "\n",
    "np_analyzer(k_s)"
   ]
  },
  {
   "cell_type": "markdown",
   "id": "6c09e830",
   "metadata": {},
   "source": [
    "Now, let's create our array of expectations and inpsect it with our newly defined `np_analyzer` function."
   ]
  },
  {
   "cell_type": "code",
   "execution_count": null,
   "id": "8af82e62",
   "metadata": {},
   "outputs": [],
   "source": [
    "# Just run this cell\n",
    "# Here, we are creating our array of expectations (our lambda values).\n",
    "# To do so, we use the ones function of numpy\n",
    "\n",
    "lambda_ones = np.ones(8) # what does the call to np.ones do?\n",
    "np_analyzer(lambda_ones)\n",
    "\n",
    "# How was lambda_s_ones created? What was passed in as the input argument?\n",
    "print()\n",
    "\n",
    "lambda_tens = 10*lambda_ones\n",
    "np_analyzer(lambda_tens)"
   ]
  },
  {
   "cell_type": "markdown",
   "id": "82dc8355",
   "metadata": {},
   "source": [
    "Now, with our array of observations `k_s` and array of expectations `lambda_tens`, are we able to pass these in as inputs to the previous function that we defined, `Poisson_function`?"
   ]
  },
  {
   "cell_type": "code",
   "execution_count": null,
   "id": "be550c04",
   "metadata": {},
   "outputs": [],
   "source": [
    "# Just run this cell\n",
    "Poisson_function(k_s, lambda_tens)"
   ]
  },
  {
   "cell_type": "markdown",
   "id": "78cbadbe",
   "metadata": {},
   "source": [
    "It doesn't work. But there is a way around this; we can **vectorize** the function, creating a new function that takes in arrays as inputs. We will do so by using the `vectorize` function of `numpy`.\n",
    "\n",
    "**Note:** Ignore the intimidating red box of text that appears."
   ]
  },
  {
   "cell_type": "code",
   "execution_count": null,
   "id": "f9b54464",
   "metadata": {},
   "outputs": [],
   "source": [
    "# Just run this cell.\n",
    "# Here, we vectorize our Poisson_function, returning a new function that takes in numpy arrays as input.\n",
    "vec_poisson = np.vectorize(Poisson_function)\n",
    "\n",
    "# Calling vec_poisson on our two arrays will return a numpy array containing each Poisson probability computed from\n",
    "# all eight pairs of k and lambda.\n",
    "prob_s = vec_poisson(k_s, lambda_s)\n",
    "np_analyzer(prob_s)"
   ]
  },
  {
   "cell_type": "markdown",
   "id": "5c5e3702",
   "metadata": {},
   "source": [
    "With the `prob_s` array containing the Poisson probability of all eight pairs of $k$ and $\\lambda$, we can now compute the probability in question."
   ]
  },
  {
   "cell_type": "code",
   "execution_count": null,
   "id": "b69c0500",
   "metadata": {},
   "outputs": [],
   "source": [
    "# TODO: Find the probability of having at least 8 flights delayed by over 30 minutes in a single day using prob_s.\n",
    "prob_numpy = np.sum(...)\n",
    "print(...)"
   ]
  },
  {
   "cell_type": "markdown",
   "id": "cce28014",
   "metadata": {},
   "source": [
    "We have now calculated the probabilty in question using two different ways. Let's go even further and solve it a third way. This time, let's define a function that takes `numpy` arrays as the *input* as opposed to individual values and vectorizing it. But before that, let's familiarize ourselves with some more array operations."
   ]
  },
  {
   "cell_type": "code",
   "execution_count": null,
   "id": "bc3ce97c",
   "metadata": {},
   "outputs": [],
   "source": [
    "# Just run this cell.\n",
    "# Observe the output and try to understand what these different operations do.\n",
    "a = np.ones((2,3))\n",
    "np_analyzer(a)\n",
    "\n",
    "b = np.eye(2,3)\n",
    "np_analyzer(b)\n",
    "\n",
    "c = 2*a + b\n",
    "np_analyzer(c)\n",
    "\n",
    "d = c**2\n",
    "np_analyzer(d)"
   ]
  },
  {
   "cell_type": "markdown",
   "id": "c6cb3bf1",
   "metadata": {},
   "source": [
    "We can see that for `d = c**2`, each element in the output array `d` is the squared value of its corresponding element in array `c`. Now let's observe what happens with `e = c**b`."
   ]
  },
  {
   "cell_type": "code",
   "execution_count": null,
   "id": "767c507f",
   "metadata": {},
   "outputs": [],
   "source": [
    "# Just run this cell.\n",
    "e = c**b\n",
    "print(e)"
   ]
  },
  {
   "cell_type": "markdown",
   "id": "a00aec9b",
   "metadata": {},
   "source": [
    "The operation is done element-wise! What about for exponentials?"
   ]
  },
  {
   "cell_type": "code",
   "execution_count": null,
   "id": "096a01b4",
   "metadata": {},
   "outputs": [],
   "source": [
    "# Just run this cell.\n",
    "f = np.exp(-1*d)\n",
    "print(f)"
   ]
  },
  {
   "cell_type": "markdown",
   "id": "598e0974",
   "metadata": {},
   "source": [
    "And factorials?"
   ]
  },
  {
   "cell_type": "code",
   "execution_count": null,
   "id": "2687af4d",
   "metadata": {},
   "outputs": [],
   "source": [
    "# Just run this cell.\n",
    "g = scipy.special.factorial(d)\n",
    "print(g)"
   ]
  },
  {
   "cell_type": "markdown",
   "id": "453761ae",
   "metadata": {},
   "source": [
    "With all of this in mind, let's define our new Poisson function that takes in `numpy` arrays as inputs."
   ]
  },
  {
   "cell_type": "code",
   "execution_count": null,
   "id": "4db0d4c7",
   "metadata": {},
   "outputs": [],
   "source": [
    "# TODO: Define your own Poisson function. Do not use any pre-defined Poisson functions from Python libraries\n",
    "\n",
    "# This function takes in arrays exp, obs (expectation and obseration) as the input arguments,\n",
    "# and returns an array of Poisson probabilities.\n",
    "def Poisson_function_with_arrays(exp, obs):\n",
    "    return ...\n",
    "\n",
    "\n",
    "result = Poisson_function_with_arrays(lambda_tens, k_s)\n",
    "print(\"Array of Poisson Probabilities:\\n\", result, \"\\n\")\n",
    "\n",
    "prob_third = 1 - np.sum(result)\n",
    "print(\"Probability in question:\", prob_third)"
   ]
  },
  {
   "cell_type": "markdown",
   "id": "ec7a8695",
   "metadata": {},
   "source": [
    "# Question 3: Data Visualization with Python `matplotlib`.\n",
    "Let's visualize the Poisson distribution. Assume the expectation $\\lambda = 10$; let's draw the probability of observing outcome $k$ as a function of $k$."
   ]
  },
  {
   "cell_type": "code",
   "execution_count": null,
   "id": "1bf6ea6e",
   "metadata": {},
   "outputs": [],
   "source": [
    "# Just run this cell.\n",
    "# We will reuse many of the code that we've written previously in this workshop.\n",
    "# Let's start by creating an observation array from 0 to 20.\n",
    "obs = np.linspace(0, 20, 21)\n",
    "\n",
    "# We will also create a 1-D expectation array of shape (21,) with all elements = 10\n",
    "exp = np.ones(21) * 10\n",
    "\n",
    "# Now we compute the probability\n",
    "q3_prob = Poisson_function_with_arrays(exp, obs)\n",
    "\n",
    "print(\"Array of Poisson Probabilities:\\n\", q3_prob)"
   ]
  },
  {
   "cell_type": "markdown",
   "id": "f51942ea",
   "metadata": {},
   "source": [
    "Incidentally, now that the probability array for observations span from 0 to 20, we could also get the same sum of Poisson probabilites from Question 2 using array **slicing**:"
   ]
  },
  {
   "cell_type": "code",
   "execution_count": null,
   "id": "cbc0c1a0",
   "metadata": {},
   "outputs": [],
   "source": [
    "# Just run this cell\n",
    "1 - np.sum(q3_prob[:8])"
   ]
  },
  {
   "cell_type": "markdown",
   "id": "fd89820b",
   "metadata": {},
   "source": [
    "With probability properties in mind, what is the relationship between `np.sum(prob[8:])` and `1 - np.sum(prob[:8])`, or is there even one at all?"
   ]
  },
  {
   "cell_type": "code",
   "execution_count": null,
   "id": "f9d7a905",
   "metadata": {},
   "outputs": [],
   "source": [
    "# Just run this cell.\n",
    "print(sum(q3_prob[8:]))\n",
    "print(1 - sum(q3_prob[:8]))"
   ]
  },
  {
   "cell_type": "markdown",
   "id": "402ef935",
   "metadata": {},
   "source": [
    "Let's move on to making some plots. Let's start by making a scatter plot that depicts the relationship between our observations `obs` and our Poisson probabilities `q3_probs`."
   ]
  },
  {
   "cell_type": "code",
   "execution_count": null,
   "id": "43653f27",
   "metadata": {},
   "outputs": [],
   "source": [
    "# TODO: Add labels to the x and y axes. The x label should be \"Outcome\" and the\n",
    "# y label should be \"Probability.\" If you don't remember the functions, refer to Workshop 1.\n",
    "plt.scatter(obs, q3_prob)\n",
    "..."
   ]
  },
  {
   "cell_type": "markdown",
   "id": "ba642f5d",
   "metadata": {},
   "source": [
    "Let's create a **histogram** with the same distribution, but first, an example:"
   ]
  },
  {
   "cell_type": "code",
   "execution_count": null,
   "id": "89bb0836",
   "metadata": {},
   "outputs": [],
   "source": [
    "# Just run this cell.\n",
    "\n",
    "# x values \n",
    "x = np.linspace(5.5,35.5,31)\n",
    "print(x)\n",
    "\n",
    "# Create a weight array, which is dummy in this example.\n",
    "np.random.seed(1)\n",
    "weights = np.random.normal(100, 5, 31)\n",
    "\n",
    "print(weights)\n",
    "\n",
    "# Plot the histogram.\n",
    "plt.hist(x, bins=30, range=(5,35), weights=weights);"
   ]
  },
  {
   "cell_type": "markdown",
   "id": "67029141",
   "metadata": {},
   "source": [
    "**Explanation:**\n",
    "\n",
    "Above is a weighted histogram. There are only 31 entries, i.e., the 31 elements of array `x`.\n",
    "The `weights` parameter of the `plt.hist` function is used to set proper values for the y-axis.\n",
    "\n",
    "The `range` parameter is set to make sure the histogram has x-axis range from 5 to 35.\n",
    "\n",
    "And finally, the `bins` parameter is used to create 30 uniform bins along the x-axis.\n",
    "\n",
    "With this example, it is now your turn to create a hisogram for the Poisson distribution of $Poisson(k, 10)$"
   ]
  },
  {
   "cell_type": "code",
   "execution_count": null,
   "id": "8d802ec5",
   "metadata": {},
   "outputs": [],
   "source": [
    "# TODO: Plot the histogram of a Poisson(k, 10) distribution.\n",
    "# Don't forget to label your x and y axes.\n",
    "x = np.linspace(0.5,20.5,21)\n",
    "...\n",
    "\n",
    "plt.hist(..., bins=..., range=..., weights=...);"
   ]
  },
  {
   "cell_type": "markdown",
   "id": "2c3a4d67",
   "metadata": {},
   "source": [
    "**Congratulations on finishing Workshop 2!**"
   ]
  },
  {
   "cell_type": "code",
   "execution_count": null,
   "id": "922d97eb",
   "metadata": {},
   "outputs": [],
   "source": []
  }
 ],
 "metadata": {
  "kernelspec": {
   "display_name": "Python 3 (ipykernel)",
   "language": "python",
   "name": "python3"
  },
  "language_info": {
   "codemirror_mode": {
    "name": "ipython",
    "version": 3
   },
   "file_extension": ".py",
   "mimetype": "text/x-python",
   "name": "python",
   "nbconvert_exporter": "python",
   "pygments_lexer": "ipython3",
   "version": "3.9.13"
  }
 },
 "nbformat": 4,
 "nbformat_minor": 5
}
