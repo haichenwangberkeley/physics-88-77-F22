{
 "cells": [
  {
   "cell_type": "markdown",
   "metadata": {},
   "source": [
    "# Physics 77, Lecture 3:  CSV, Functions, Loops,  and Array"
   ]
  },
  {
   "cell_type": "markdown",
   "metadata": {},
   "source": [
    "## September 19, 2022\n",
    "- Course announcement \n",
    "- outline"
   ]
  },
  {
   "cell_type": "markdown",
   "metadata": {},
   "source": [
    "### Message from Shrihan \n",
    "\n",
    "Python Peer Tutoring @ Campbell 501B\n",
    "Shrihan Agarwal\n",
    "\n",
    "Hi all,\n",
    "\n",
    "I'm Shrihan Agarwal, the SLC Python Tutor for Physics/Astronomy. I'll be holding peer tutoring (homework help, general questions) at Campbell 501B Mondays and Wednesdays from 4-6 PM. Please come if you're interested!\n",
    "\n",
    "The room is a little hard to find, but 5th floor Campbell, enter the Department of Astronomy Main Office, take a left, and it's at the end of the hallway.\n",
    "\n",
    "#### Please utilize this great resource. Have a question with Python? Go to get help from Shrihan. "
   ]
  },
  {
   "cell_type": "markdown",
   "metadata": {},
   "source": [
    "### Message from Daniel Huang\n",
    "\n",
    "This is Daniel, your course Connector Assistant! Just wanted to update you all that for this upcoming week, I will be holding office hours on Monday 9/12 in Berkeley Way West on the first floor from 9:00AM - 10:00AM. This will be my OH schedule for this upcoming week only.\n",
    "\n",
    "I am currently in the process of acquiring a room in Physics North/Birge Hall for me to hold OH. The bCourses page will be updated with my finalized OH schedule and location hopefully by the end of this upcoming week.\n",
    "\n",
    "#### Daniel, any update?"
   ]
  },
  {
   "cell_type": "markdown",
   "metadata": {},
   "source": [
    "### Online discussion platform \n",
    "- please join us at \n",
    "https://edstem.org/us/join/acjwE8\n",
    "- post your questions there\n",
    "- our answers could be seen by your fellow students\n"
   ]
  },
  {
   "cell_type": "markdown",
   "metadata": {},
   "source": [
    "### My office hour this week changed to Friday 12 pm - 1 pm, in-person, Physics South 423"
   ]
  },
  {
   "cell_type": "markdown",
   "metadata": {},
   "source": [
    "## Outline\n",
    "* today\n",
    "    * We will use the example from Friday as a case study to motivate the topics of today \n",
    "    * string operation, for loops, while loops, if else structure, continue, break, use of fucntions\n",
    "    * numpy array \n",
    "    * The same exploratory task is at the end of this notebook\n",
    "        * at the end of this notebook, you should be able to complete the task\n",
    "    "
   ]
  },
  {
   "cell_type": "code",
   "execution_count": null,
   "metadata": {},
   "outputs": [],
   "source": [
    "def Type(x):\n",
    "    print(x)\n",
    "    print(type(x))"
   ]
  },
  {
   "cell_type": "markdown",
   "metadata": {},
   "source": [
    "# Example from Friday's workshop\n",
    "\n",
    "## Let's start with something you've done on Friday"
   ]
  },
  {
   "cell_type": "code",
   "execution_count": null,
   "metadata": {},
   "outputs": [],
   "source": [
    "import csv\n",
    "f_csv = open( 'nationData.csv', 'w' )\n",
    "\n",
    "SA_writer = csv.writer( f_csv,                 # write to this file object\n",
    "                           delimiter = '|',          # place vertical bar between items we write\n",
    "                           quotechar = '',           # Don't place quotes around strings\n",
    "                           quoting = csv.QUOTE_NONE )\n",
    "\n",
    "\n",
    "countries = ['Argentina', 'Bolivia', 'Brazil', 'Chile', 'Colombia', 'Ecuador', 'Guyana',\\\n",
    "             'Paraguay', 'Peru', 'Suriname', 'Uruguay', 'Venezuela']\n",
    "capitals = ['Buenos Aires', 'Sucre', 'Brasília', 'Santiago', 'Bogotá', 'Quito', 'Georgetown',\\\n",
    "             'Asunción', 'Lima', 'Paramaribo', 'Montevideo', 'Caracas']\n",
    "population_mils = [ 42.8, 10.1, 203.4, 16.9, 46.4, 15.0, 0.7, 6.5, 29.2, 0.5,\\\n",
    "                      3.3, 27.6]\n",
    "\n",
    "SA_writer.writerow(['Data on South American Nations'])\n",
    "SA_writer.writerow(['Country', 'Capital', 'Populaton (millions)'])\n",
    "for i in range(len(countries)):\n",
    "    SA_writer.writerow( [countries[i], capitals[i], population_mils[i]] )\n",
    "f_csv.close()\n",
    "\n",
    "%cat nationData.csv"
   ]
  },
  {
   "cell_type": "markdown",
   "metadata": {},
   "source": [
    "## now I want to read this csv file and \n",
    "- pick countries whose name contains the letter \"a\"\n",
    "- format it with latex\n",
    "- copy and paste it to an overleaf project\n"
   ]
  },
  {
   "cell_type": "code",
   "execution_count": null,
   "metadata": {},
   "outputs": [],
   "source": [
    "f = open('nationData.csv','r')\n",
    "# how do we read a csv file?\n",
    "\n",
    "csv_content = csv.reader(f,delimiter ='|')\n",
    "\n",
    "Type(csv_content)\n",
    "#next(csv_content) this is how we skip a line\n",
    "\n",
    "for row in csv_content:\n",
    "    Type(row)"
   ]
  },
  {
   "cell_type": "code",
   "execution_count": null,
   "metadata": {},
   "outputs": [],
   "source": [
    "# so each entry in the csv.reader object is just a list\n",
    "f = open('nationData.csv','r')\n",
    "csv_content = csv.reader(f,delimiter ='|')\n",
    "\n",
    "next(csv_content)\n",
    "next(csv_content)\n",
    "\n",
    "g = open('reformatted_nationData.txt','w')\n",
    "\n",
    "for row in csv_content:\n",
    "#    Type(row)\n",
    "\n",
    "#    print(len(row))\n",
    "\n",
    "#    g.write(Type(row))\n",
    "    \n",
    "    g.write(row[0])\n",
    "    g.write(' & ')\n",
    "    g.write(row[1])\n",
    "    g.write(' & ')\n",
    "    g.write(row[2])\n",
    "    g.write(' \\\\\\ \\n')\n",
    "    \n",
    "%cat reformatted_nationData.txt\n",
    "    \n",
    "#    NewLine = row[0].replace(\",\",\"&\")\n",
    "\n",
    "#    g.write(NewLine)"
   ]
  },
  {
   "cell_type": "code",
   "execution_count": null,
   "metadata": {},
   "outputs": [],
   "source": [
    "# Now that I'm done with the formatting\n",
    "# I'll move all these lines into a function \n",
    "# so that the code becomes cleaner\n",
    "f = open('nationData.csv','r')\n",
    "csv_content = csv.reader(f,delimiter ='|')\n",
    "\n",
    "next(csv_content)\n",
    "next(csv_content)\n",
    "\n",
    "g = open('reformatted_nationData.txt','w')\n",
    "\n",
    "def txt_writer( g, x ):\n",
    "    g.write(row[0])\n",
    "    g.write(' & ')\n",
    "    g.write(row[1])\n",
    "    g.write(' & ')\n",
    "    g.write(row[2])\n",
    "    g.write(' \\\\\\ \\n')\n",
    "    \n",
    "\n",
    "for row in csv_content:\n",
    "\n",
    "# now we need to find countries whose name has a letter \"a\"    \n",
    "    \n",
    "#    Type(row[0])\n",
    "#     if 'a' in row[0]:\n",
    "#         print(row[0])\n",
    "\n",
    "    if not('a' in row[0]):\n",
    "#        print(row[0])\n",
    "        continue # continue would skip the remaining lines within the loop\n",
    "\n",
    "    txt_writer(g,row)\n",
    "\n",
    "\n",
    "g.close()    \n",
    "    \n",
    "%cat reformatted_nationData.txt\n",
    "    \n",
    "#    NewLine = row[0].replace(\",\",\"&\")\n",
    "\n",
    "#    g.write(NewLine)"
   ]
  },
  {
   "cell_type": "code",
   "execution_count": null,
   "metadata": {},
   "outputs": [],
   "source": [
    "import numpy as np\n",
    "data = np.genfromtxt(\"reformatted_nationData.txt\")\n",
    "print(data)"
   ]
  },
  {
   "cell_type": "code",
   "execution_count": null,
   "metadata": {},
   "outputs": [],
   "source": [
    "data = np.genfromtxt(\"reformatted_nationData.txt\", delimiter='&')\n",
    "print(data)\n",
    "#why?"
   ]
  },
  {
   "cell_type": "code",
   "execution_count": null,
   "metadata": {},
   "outputs": [],
   "source": [
    "g =open(\"reformatted_nationData.txt\",'r')\n",
    "g2 = open(\"nationData_without_DBS.txt\",\"w\")\n",
    "for line in g:\n",
    "    newline = line.replace(\"\\\\\", \"\") # Replace!\n",
    "    g2.write(newline + '\\n')\n",
    "\n",
    "g2.close()\n",
    "#%cat nationData_without_DBS.txt\n",
    "\n",
    "data = np.genfromtxt(\"nationData_without_DBS.txt\", delimiter='&')\n",
    "print(data)"
   ]
  },
  {
   "cell_type": "code",
   "execution_count": null,
   "metadata": {},
   "outputs": [],
   "source": [
    "print(data.shape)\n",
    "print(data.ndim)\n",
    "print(data.size)\n",
    "population=data[:,2]\n",
    "print(population)"
   ]
  },
  {
   "cell_type": "markdown",
   "metadata": {},
   "source": [
    "# Recap\n",
    "\n",
    "- ### CSV \n",
    "    - We wrote some data into a csv file\n",
    "    - CSV stands for Comma Separated Values, however, the delimiter doesn't have to be a comma. In our example, we used the pipe (vertical bar) symbol as the delimiter\n",
    "    - Reading csv file with csv.reader would return a csv.reader object. This csv.reader object has a collection of lists, which can be retrieved using a for loop\n",
    "    - Each list has elements parsed from the csv file. The delimiters are removed. \n",
    "    - use the python built-in method next to skip lines in a file\n",
    "\n",
    "- ### Function\n",
    "    - when some operations are repetitve (such as those appearing in a loop), we create a function for that set of operations\n",
    "    - the function needs to be defined before it is \"called\"\n",
    "    - the function may have some input arguments. In our example, the input includes a list, and a file object\n",
    "    - the function may or may not have a returning value. In our case, the function does one thing that is write several lines to a txt file, and the function doesn't have a returning value\n",
    "    \n",
    "- ### String operations\n",
    "    - (x in y) is the way to find if string y contains a substring of x, this line is a boolian variable\n",
    "    - new_string = old_string.replace(\"a\", \"b\") would replace a in the old_string by b, but you would need to assign the modified string to a new variable. This operation doesn't modify the original string.\n",
    "    - the replace method comes in handy when you want to change delimiter or eliminate useless things in a string (e.g., spaces) \n",
    "    \n",
    "- ### Numpy array\n",
    "    - one can load a csv file or a text file to a numpy array, using the method `genfromtxt`\n",
    "    - for a csv-style file, one would need to identify the delimiter"
   ]
  },
  {
   "cell_type": "markdown",
   "metadata": {},
   "source": [
    "# Control structures \n",
    "\n",
    "- ### while\n",
    "- ### for\n",
    "- ### if else\n",
    "- ### continue and break"
   ]
  },
  {
   "cell_type": "markdown",
   "metadata": {},
   "source": [
    "- the idea of a while loop is pretty simple\n",
    "    - there is a condition, which is placed after `while` \n",
    "    - as long as the condition is true, the loop goes on \n",
    "    - some operation within the loop, in principle, at some point, should change the condition to false, then the loop stops"
   ]
  },
  {
   "cell_type": "code",
   "execution_count": null,
   "metadata": {},
   "outputs": [],
   "source": [
    "def does_something():\n",
    "    return False \n",
    "\n",
    "mycondition = True\n",
    "\n",
    "while mycondition:\n",
    "    mycondition=does_something()"
   ]
  },
  {
   "cell_type": "code",
   "execution_count": null,
   "metadata": {},
   "outputs": [],
   "source": [
    "\n",
    "f = open('nationData.csv','r')\n",
    "csv_content = csv.reader(f,delimiter ='|')\n",
    "\n",
    "\n",
    "g2 = open(\"nationData_without_DBS.txt\",\"r\")\n",
    "Lines = g2.readlines() # reading lines in a txt file to a List\n",
    "\n",
    "Type(Lines)\n",
    "\n",
    "# we need an index to retrieve content of the List\n",
    "i = 0 \n",
    "\n",
    "while i < len(Lines):\n",
    "    print(i, Lines[i])\n",
    "    i += 1    \n"
   ]
  },
  {
   "cell_type": "markdown",
   "metadata": {},
   "source": [
    "- let's introduce some control structures \n",
    "    - if else\n",
    "        - if the country name starts with letter B, print out \"The initial of the country name is B\"\n",
    "        - if not, print out \"The initial of the country name is not B\""
   ]
  },
  {
   "cell_type": "code",
   "execution_count": null,
   "metadata": {},
   "outputs": [],
   "source": [
    "g2 = open(\"nationData_without_DBS.txt\",\"r\")\n",
    "Lines = g2.readlines()\n",
    "\n",
    "print(Lines)\n",
    "i = 0\n",
    "while i < len(Lines):\n",
    "    name = Lines[i].split(\"&\")[0]  # <--- Let's talk about what this line does\n",
    "    print(name)\n",
    "    i +=1"
   ]
  },
  {
   "cell_type": "code",
   "execution_count": null,
   "metadata": {},
   "outputs": [],
   "source": [
    "g2 = open(\"nationData_without_DBS.txt\",\"r\")\n",
    "Lines = g2.readlines()\n",
    "\n",
    "print(Lines)\n",
    "i = 0\n",
    "while i < len(Lines):\n",
    "    name = Lines[i].split(\"&\")[0]  # <--- Let's talk about what this line does\n",
    "    if name[0] == 'B':\n",
    "        print(name + ': Country\\'s name has the initial of B' ) # \\ is an escape\n",
    "    else:\n",
    "        print(name + ': Country\\s name doesn\\'t start with B')\n",
    "    i +=1"
   ]
  },
  {
   "cell_type": "code",
   "execution_count": null,
   "metadata": {},
   "outputs": [],
   "source": [
    "g2 = open(\"nationData_without_DBS.txt\",\"r\")\n",
    "Lines = g2.readlines()\n",
    "\n",
    "print(Lines)\n",
    "i = 0\n",
    "while i < len(Lines):\n",
    "    name = Lines[i].split(\"&\")[0]  # <--- Let's talk about what this line does\n",
    "    if name[0] == 'B':\n",
    "        print(name + ': Country\\'s name has the initial of B' ) # \\ is an escape\n",
    "    elif name[0] == 'C':\n",
    "        print(name + ': Country\\s name has the initial of C')\n",
    "    elif name[0] == 'A':\n",
    "        print(name + ': Country\\s name has the initial of A')\n",
    "    i +=1"
   ]
  },
  {
   "cell_type": "code",
   "execution_count": null,
   "metadata": {},
   "outputs": [],
   "source": [
    "g2 = open(\"nationData_without_DBS.txt\",\"r\")\n",
    "Lines = g2.readlines()\n",
    "\n",
    "print(Lines)\n",
    "i = 0\n",
    "while i < len(Lines):\n",
    "    name = Lines[i].split(\"&\")[0]  # <--- Let's talk about what this line does\n",
    "    if name[0] == 'B':\n",
    "        print(name + ': Country\\'s name has the initial of B' ) # \\ is an escape\n",
    "    elif name[0] == 'C':\n",
    "        print(name + ': Country\\'s name has the initial of C')\n",
    "    elif name[0] == 'A':\n",
    "        print(name + ': Country\\'s name has the initial of A')\n",
    "    else:\n",
    "        print(name + ': Country\\'s initial is neither A, B, nor C')       \n",
    "    i +=1"
   ]
  },
  {
   "cell_type": "markdown",
   "metadata": {},
   "source": [
    "### continue and break\n",
    "- just now, we saw the print out has \n",
    "    - \": Country's initial is neither A, B, nor C\"\n",
    "    - before the colon, there's nothing\n",
    "    - this is because the txt file has an empty line for every other line\n",
    "    - Let's use this as an opportunity to introduce continue and break "
   ]
  },
  {
   "cell_type": "code",
   "execution_count": null,
   "metadata": {},
   "outputs": [],
   "source": [
    "g2 = open(\"nationData_without_DBS.txt\",\"r\")\n",
    "Lines = g2.readlines()\n",
    "\n",
    "print(Lines)\n",
    "i = 0\n",
    "while i < len(Lines):\n",
    "    name = Lines[i].split(\"&\")[0]  # <--- Let's talk about what this line does\n",
    "    if name[0] == 'B':\n",
    "        print(name + ': Country\\'s name has the initial of B' ) # \\ is an escape\n",
    "    elif name[0] == 'C':\n",
    "        print(name + ': Country\\'s name has the initial of C')\n",
    "    elif name[0] == 'A':\n",
    "        print(name + ': Country\\'s name has the initial of A')\n",
    "    else:            \n",
    "        print(name + ': Country\\'s initial is neither A, B, nor C')       \n",
    "    i +=1"
   ]
  },
  {
   "cell_type": "code",
   "execution_count": null,
   "metadata": {},
   "outputs": [],
   "source": [
    "g2 = open(\"nationData_without_DBS.txt\",\"r\")\n",
    "Lines = g2.readlines()\n",
    "\n",
    "print(Lines)\n",
    "i = 0\n",
    "while i < len(Lines):\n",
    "    if Lines[i] == '\\n':\n",
    "        i += 1\n",
    "        continue\n",
    "    name = Lines[i].split(\"&\")[0]  # <--- Let's talk about what this line does\n",
    "    if name[0] == 'B':\n",
    "        print(name + ': Country\\'s name has the initial of B' ) # \\ is an escape\n",
    "    elif name[0] == 'C':\n",
    "        print(name + ': Country\\'s name has the initial of C')\n",
    "    elif name[0] == 'A':\n",
    "        print(name + ': Country\\'s name has the initial of A')\n",
    "    else:\n",
    "        print(name + ': Country\\'s initial is neither A, B, nor C')       \n",
    "    i +=1"
   ]
  },
  {
   "cell_type": "code",
   "execution_count": null,
   "metadata": {},
   "outputs": [],
   "source": [
    "# how about skips countries whose initials are neither A, B, nor C\n",
    "\n",
    "g2 = open(\"nationData_without_DBS.txt\",\"r\")\n",
    "Lines = g2.readlines()\n",
    "\n",
    "print(Lines)\n",
    "i = 0\n",
    "while i < len(Lines):\n",
    "    if Lines[i] == '\\n':\n",
    "        i += 1\n",
    "        continue\n",
    "    name = Lines[i].split(\"&\")[0]  \n",
    "    if not (name[0] == 'A' or name[0] == 'B' or name[0] == 'C'): # <--- Let's talk about what this line does\n",
    "        i += 1\n",
    "        continue \n",
    "    elif name[0] == 'B':\n",
    "        print(name + ': Country\\'s name has the initial of B' ) # \\ is an escape\n",
    "    elif name[0] == 'C':\n",
    "        print(name + ': Country\\'s name has the initial of C')\n",
    "    elif name[0] == 'A':\n",
    "        print(name + ': Country\\'s name has the initial of A')\n",
    "    else:\n",
    "        print(name + ': Country\\'s initial is neither A, B, nor C')       \n",
    "    i +=1"
   ]
  },
  {
   "cell_type": "code",
   "execution_count": null,
   "metadata": {},
   "outputs": [],
   "source": []
  },
  {
   "cell_type": "markdown",
   "metadata": {},
   "source": [
    "### How about *break* ?\n",
    "\n",
    "- as an example: after we print out the line of Ecuador, we'll just stop the printout\n",
    "    - here we can use break"
   ]
  },
  {
   "cell_type": "code",
   "execution_count": null,
   "metadata": {},
   "outputs": [],
   "source": [
    "g2 = open(\"nationData_without_DBS.txt\",\"r\")\n",
    "Lines = g2.readlines()\n",
    "\n",
    "print(Lines)\n",
    "i = 0\n",
    "while i < len(Lines):\n",
    "\n",
    "# skip the empty lines    \n",
    "    if Lines[i] == '\\n':\n",
    "        i += 1\n",
    "        continue\n",
    "        \n",
    "    name = Lines[i].split(\"&\")[0]  \n",
    "    print (Lines[i])\n",
    "    if name == 'Ecuador':\n",
    "        break\n",
    "    i +=1\n",
    "\n",
    "    "
   ]
  },
  {
   "cell_type": "markdown",
   "metadata": {},
   "source": [
    "### sorting with dictionary\n",
    "Before we move to numpy array discussion, let's try to sort these countries based on their capital population"
   ]
  },
  {
   "cell_type": "code",
   "execution_count": null,
   "metadata": {},
   "outputs": [],
   "source": [
    "\n",
    "dictionary ={} \n",
    "dictionary[10.1] = 'Bolivia'\n",
    "print(dictionary)\n",
    "\n",
    "\n",
    "\n"
   ]
  },
  {
   "cell_type": "code",
   "execution_count": null,
   "metadata": {},
   "outputs": [],
   "source": [
    "f = open('nationData.csv','r')\n",
    "csv_content = csv.reader(f,delimiter ='|')\n",
    "\n",
    "next(csv_content)\n",
    "next(csv_content)\n",
    "\n",
    "p2c ={} # population to country\n",
    "p2cap = {} # population to capital\n",
    "\n",
    "for row in csv_content:\n",
    "    print(row)\n",
    "    p2c[row[2]] = row[0]\n",
    "    p2cap[row[2]] = row[1]\n",
    "\n",
    "print(p2c, p2cap)\n",
    "    "
   ]
  },
  {
   "cell_type": "code",
   "execution_count": null,
   "metadata": {},
   "outputs": [],
   "source": [
    "# let's sort population data\n",
    "# for that purpose, we need to create a list object to store population data\n",
    "\n",
    "dictionary ={} \n",
    "dictionary[10.1] = 'Bolivia'\n",
    "print(dictionary)\n",
    "\n",
    "\n",
    "f = open('nationData.csv','r')\n",
    "csv_content = csv.reader(f,delimiter ='|')\n",
    "\n",
    "next(csv_content)\n",
    "next(csv_content)\n",
    "\n",
    "p2c ={} # population to country\n",
    "p2cap = {} # population to capital\n",
    "\n",
    "population = []\n",
    "for row in csv_content:\n",
    "    print(row)\n",
    "    p2c[row[2]] = row[0]\n",
    "    p2cap[row[2]] = row[1]\n",
    "    population.append(row[2])\n",
    "    \n",
    "print(p2c, p2cap)\n",
    "\n",
    "print(population)\n",
    "    \n",
    "    \n",
    "    "
   ]
  },
  {
   "cell_type": "code",
   "execution_count": null,
   "metadata": {},
   "outputs": [],
   "source": [
    "population.sort()\n",
    "print(population)\n",
    "\n"
   ]
  },
  {
   "cell_type": "code",
   "execution_count": null,
   "metadata": {},
   "outputs": [],
   "source": [
    "# Let's make sure that numbers are converted to float \n",
    "\n",
    "dictionary ={} \n",
    "dictionary[10.1] = 'Bolivia'\n",
    "print(dictionary)\n",
    "\n",
    "\n",
    "f = open('nationData.csv','r')\n",
    "csv_content = csv.reader(f,delimiter ='|')\n",
    "\n",
    "next(csv_content)\n",
    "next(csv_content)\n",
    "\n",
    "p2c ={} # population to country\n",
    "p2cap = {} # population to capital\n",
    "\n",
    "population = []\n",
    "for row in csv_content:\n",
    "    print(row)\n",
    "    p2c[float(row[2])] = row[0]\n",
    "    p2cap[float(row[2])] = row[1]\n",
    "    population.append(float(row[2]))\n",
    "    \n",
    "print(p2c, p2cap)\n",
    "\n",
    "print(population)\n",
    " \n",
    "# see what's different beteween the printout here and from the previous cell?    "
   ]
  },
  {
   "cell_type": "code",
   "execution_count": null,
   "metadata": {},
   "outputs": [],
   "source": [
    "population.sort()\n",
    "print(population)"
   ]
  },
  {
   "cell_type": "code",
   "execution_count": null,
   "metadata": {},
   "outputs": [],
   "source": [
    "population.sort(reverse=True)\n",
    "print(population)"
   ]
  },
  {
   "cell_type": "code",
   "execution_count": null,
   "metadata": {},
   "outputs": [],
   "source": [
    "for x in population:\n",
    "    print(p2c[x]+'\\'s capital is ' + p2cap[x] + ', and it has a population of ' + str(x) + ' million people'  )"
   ]
  },
  {
   "cell_type": "code",
   "execution_count": null,
   "metadata": {},
   "outputs": [],
   "source": [
    "# make c2p\n",
    "f = open('nationData.csv','r')\n",
    "csv_content = csv.reader(f,delimiter ='|')\n",
    "\n",
    "next(csv_content)\n",
    "next(csv_content)\n",
    "\n",
    "c2p ={}\n",
    "cap2p = {} \n",
    "\n",
    "\n",
    "for row in csv_content:\n",
    "    print(row)\n",
    "    c2p[row[0]] = float(row[2])\n",
    "    cap2p[row[1]] = float(row[2])\n",
    "\n"
   ]
  },
  {
   "cell_type": "markdown",
   "metadata": {},
   "source": [
    "### Let's recap\n",
    "- for loop\n",
    "- while loop\n",
    "- if else\n",
    "- continue \n",
    "- break\n",
    "- dictionary\n",
    "    - dictionary is a data structure, used to create map/lookup tables, i.e., one-to-one correspondence between different quantities "
   ]
  },
  {
   "cell_type": "code",
   "execution_count": null,
   "metadata": {},
   "outputs": [],
   "source": [
    "# I copied the area of each South American country from Wikipedia\n",
    "# into area.txt\n",
    "# https://en.wikipedia.org/wiki/List_of_South_American_countries_by_area\n",
    "\n",
    "%cat area.txt\n",
    "\n",
    "# Let's see how we parse this file and retrive data\n"
   ]
  },
  {
   "cell_type": "code",
   "execution_count": null,
   "metadata": {},
   "outputs": [],
   "source": [
    "f = open('area.txt','r')\n",
    "\n",
    "for line in f:\n",
    "    print(line.split(\"\\t\"))"
   ]
  },
  {
   "cell_type": "code",
   "execution_count": null,
   "metadata": {},
   "outputs": [],
   "source": [
    "f = open('area.txt','r')\n",
    "\n",
    "countries = []\n",
    "areas = []\n",
    "c2a = {}\n",
    "a2c = {}\n",
    "\n",
    "for line in f:\n",
    "    countries.append( line.split('\\t')[1] )\n",
    "    capital = line.split('\\t')[1]\n",
    "    print(capital.strip())\n",
    "    \n",
    "    #areas.append(float(line.split('\\t')[2])) \n",
    "    #c2a['']\n",
    "print(countries)"
   ]
  },
  {
   "cell_type": "code",
   "execution_count": null,
   "metadata": {},
   "outputs": [],
   "source": [
    "f = open('area.txt','r')\n",
    "\n",
    "countries = []\n",
    "areas = []\n",
    "c2a = {}\n",
    "a2c = {}\n",
    "\n",
    "for line in f:\n",
    "    countries.append( line.split('\\t')[1] )\n",
    "    capital = line.split('\\t')[1].strip()\n",
    "    \n",
    "    areas.append(float(line.split('\\t')[2])) \n",
    "    #c2a['']\n",
    "print(countries)"
   ]
  },
  {
   "cell_type": "code",
   "execution_count": null,
   "metadata": {},
   "outputs": [],
   "source": [
    "f = open('area.txt','r')\n",
    "\n",
    "countries = []\n",
    "areas = []\n",
    "c2a = {}\n",
    "a2c = {}\n",
    "\n",
    "for line in f:\n",
    "    countries.append( line.split('\\t')[1] )\n",
    "    capital = line.split('\\t')[1].strip()\n",
    "\n",
    "# we'll need to remove the comma's in the string\n",
    "    area_value = line.split('\\t')[2].replace(\",\",\"\")\n",
    "    print(area_value)\n",
    "    areas.append(area_value) \n",
    "    #c2a['']\n",
    "print(countries)"
   ]
  },
  {
   "cell_type": "code",
   "execution_count": null,
   "metadata": {},
   "outputs": [],
   "source": [
    "f = open('area.txt','r')\n",
    "\n",
    "countries = []\n",
    "areas = []\n",
    "c2a = {}\n",
    "a2c = {}\n",
    "\n",
    "for line in f:\n",
    "    countryname = line.split('\\t')[1].strip()\n",
    "    countries.append( countryname )\n",
    "\n",
    "# we'll need to remove the comma's in the string\n",
    "    area_value = line.split('\\t')[2].replace(\",\",\"\")\n",
    "    #print(area_value)\n",
    "    areas.append(area_value) \n",
    "    c2a[countryname]=float(area_value)\n",
    "    a2c[float(area_value)]=countryname\n",
    "\n",
    "print(countries)\n",
    "print(areas)\n",
    "print(a2c)\n",
    "print(c2a)\n"
   ]
  },
  {
   "cell_type": "code",
   "execution_count": null,
   "metadata": {},
   "outputs": [],
   "source": [
    "#%cat totalpopulation.txt\n",
    "\n",
    "f = open('totalpopulation.txt','r')\n",
    "\n",
    "countries = []\n",
    "totpop = []\n",
    "c2tp = {}\n",
    "tp2c = {}\n",
    "\n",
    "for line in f:\n",
    "#    print((line.split(\" \")[1]).split('\\t'))\n",
    "    \n",
    "    countryname = (line.split(\" \")[1]).split('\\t')[0]\n",
    "    countries.append( countryname )\n",
    "    \n",
    "# we'll need to remove the comma's in the string\n",
    "    pop_value = (line.split(\" \")[1]).split('\\t')[1].replace(\",\",\"\")\n",
    "    #print(area_value)\n",
    "    totpop.append(pop_value) \n",
    "    c2tp[countryname]=float(pop_value)\n",
    "    tp2c[float(pop_value)]=countryname\n",
    "\n",
    "print(countries)\n",
    "print(totpop)\n",
    "print(c2tp)\n",
    "print(tp2c)"
   ]
  },
  {
   "cell_type": "code",
   "execution_count": null,
   "metadata": {},
   "outputs": [],
   "source": [
    "f = open('GDP.txt','r')\n",
    "\n",
    "\n",
    "\n",
    "LAcountries = []\n",
    "totGDP = []\n",
    "c2GDP = {}\n",
    "GDP2c = {}\n",
    "\n",
    "\n",
    "\n",
    "for line in f:\n",
    "    \n",
    "    #print(line.split('\\t'))\n",
    "    \n",
    "    countryname = line.split('\\t')[1].strip()\n",
    "    LAcountries.append( countryname )\n",
    "    print(countryname)\n",
    "    \n",
    "# we'll need to remove the comma's in the string\n",
    "    GDP_value = line.split('\\t')[2].replace(\",\",\"\")\n",
    "    #print(area_value)\n",
    "    totGDP.append(GDP_value) \n",
    "    c2GDP[countryname]=GDP_value\n",
    "    GDP2c[GDP_value]=countryname\n",
    "\n",
    "# print(LAcountries)\n",
    "# print(totGDP)\n",
    "# print(c2GDP)\n",
    "print(GDP2c)"
   ]
  },
  {
   "cell_type": "code",
   "execution_count": null,
   "metadata": {},
   "outputs": [],
   "source": [
    "f = open('GDP.txt','r')\n",
    "\n",
    "\n",
    "\n",
    "LAcountries = []\n",
    "totGDP = []\n",
    "c2GDP = {}\n",
    "GDP2c = {}\n",
    "\n",
    "\n",
    "\n",
    "for line in f:\n",
    "    \n",
    "    #print(line.split('\\t'))\n",
    "    \n",
    "    countryname = line.split('\\t')[1].strip()\n",
    "    if not(countryname in countries):\n",
    "        continue\n",
    "    LAcountries.append( countryname )\n",
    "    print(countryname)\n",
    "    \n",
    "# we'll need to remove the comma's in the string\n",
    "    GDP_value = line.split('\\t')[2].replace(\",\",\"\")\n",
    "    #print(area_value)\n",
    "    totGDP.append(GDP_value) \n",
    "    c2GDP[countryname]=GDP_value\n",
    "    GDP2c[GDP_value]=countryname\n",
    "\n",
    "# print(LAcountries)\n",
    "# print(totGDP)\n",
    "# print(c2GDP)\n",
    "print(GDP2c)\n"
   ]
  },
  {
   "cell_type": "markdown",
   "metadata": {},
   "source": [
    "### Let's recall what we have \n",
    "\n",
    "- we have 12 South American countries\n",
    "    - for each country, we have the following 6 variables \n",
    "    - country name\n",
    "    - capital\n",
    "    - capital population\n",
    "    - total population\n",
    "    - area\n",
    "    - GDP\n",
    "    \n",
    "    \n",
    "### Exercise\n",
    "- let's play with these data and introduce numpy arrays\n",
    "    - for now, let's not worry about the string variables\n",
    "    - each country will have four numerical data variables: capital population, total population, area, and GDP\n",
    "    "
   ]
  },
  {
   "cell_type": "code",
   "execution_count": null,
   "metadata": {},
   "outputs": [],
   "source": [
    "# converting a list to numpy array\n",
    "cappop = np.array(population)\n",
    "areas = np.array(areas)\n",
    "totpop = np.array(totpop)\n",
    "GDP = np.array(totGDP)\n"
   ]
  },
  {
   "cell_type": "markdown",
   "metadata": {},
   "source": [
    "### dimension, shape, size of an array\n"
   ]
  },
  {
   "cell_type": "code",
   "execution_count": null,
   "metadata": {},
   "outputs": [],
   "source": [
    "print(cappop.ndim)\n",
    "print(cappop.shape)\n",
    "print(cappop.size)"
   ]
  },
  {
   "cell_type": "code",
   "execution_count": null,
   "metadata": {},
   "outputs": [],
   "source": [
    "# since we'll do these operations over and over again, let's define a function\n",
    "def checknp(x):\n",
    "    print(x.ndim, x.shape, x.size)\n",
    "    "
   ]
  },
  {
   "cell_type": "code",
   "execution_count": null,
   "metadata": {},
   "outputs": [],
   "source": [
    "checknp(areas)\n",
    "checknp(totpop)\n",
    "checknp(GDP)"
   ]
  },
  {
   "cell_type": "code",
   "execution_count": null,
   "metadata": {},
   "outputs": [],
   "source": [
    "# Let's write this set of data into a csv alue\n",
    "import csv\n",
    "f_csv = open( 'compiled_data.csv', 'w' )\n",
    "\n",
    "SA_writer = csv.writer( f_csv,                 # write to this file object\n",
    "                           delimiter = ',',          # place vertical bar between items we write\n",
    "                           quotechar = '',           # Don't place quotes around strings\n",
    "                           quoting = csv.QUOTE_NONE )\n",
    "\n",
    "for c in countries:\n",
    "#    SA_writer.writerow( [ float(c2GDP[c]),  float(c2p[c]),  float(c2tp[c]) , float(c2a[c]) ])\n",
    "    SA_writer.writerow( [ (c2GDP[c]),  (c2p[c]),  (c2tp[c]) , (c2a[c]) ])\n",
    "\n",
    "\n",
    "%cat compiled_data.csv"
   ]
  },
  {
   "cell_type": "code",
   "execution_count": null,
   "metadata": {},
   "outputs": [],
   "source": [
    "data = np.genfromtxt('compiled_data.csv',delimiter=',')\n",
    "checknp(data)\n",
    "print(data)"
   ]
  },
  {
   "cell_type": "markdown",
   "metadata": {},
   "source": [
    "- Discussion\n",
    "    - this array has TWO dimensions. What are they?\n",
    "        - 12 is the size of the 1st dimension <-> dimension of countries\n",
    "        - 4 is the size of the 2nd dimension <-> dimension of country data (population, total population, area, GDP )\n",
    "        - #### it is important to not confuse numpy dimensions with terminology we use in other context\n",
    "    "
   ]
  },
  {
   "cell_type": "code",
   "execution_count": null,
   "metadata": {},
   "outputs": [],
   "source": [
    "# think about a vector in the three dimensional space (x,y,z)\n",
    "vector = [1, 0.5, 0.8]\n",
    "npvector = np.array(vector)\n",
    "\n",
    "checknp(npvector)"
   ]
  },
  {
   "cell_type": "markdown",
   "metadata": {},
   "source": [
    "- in this case, the numpy array `npvector` only has one dimension \n",
    "- Dimensions in the numpy array represents the hierarcy in data \n",
    "    - in our example, we have a 2-D array with shape (12,4)\n",
    "    - the first dimension is countries\n",
    "    - the second dimension includes data properties of the same country"
   ]
  },
  {
   "attachments": {
    "mg8O3kd.png": {
     "image/png": "[encoded data removed]"
    }
   },
   "cell_type": "markdown",
   "metadata": {},
   "source": [
    "![mg8O3kd.png](attachment:mg8O3kd.png)\n"
   ]
  },
  {
   "cell_type": "markdown",
   "metadata": {},
   "source": [
    "# Numpy array\n",
    "\n",
    "- let's continue with the array we have built"
   ]
  },
  {
   "cell_type": "code",
   "execution_count": null,
   "metadata": {},
   "outputs": [],
   "source": [
    "#retrieve elements of array\n",
    "\n",
    "print(data)\n",
    "\n",
    "print(data[1]) # what is this?\n",
    "\n",
    "print(data[1,0])"
   ]
  },
  {
   "cell_type": "markdown",
   "metadata": {},
   "source": [
    "- the indexing of numpy array element is the same as Python, and C/C++\n",
    "    - index starts from 0, and runs to size - 1\n",
    "    - in the case of multi-dimensional numpy array, the index runs to the size of the dimension - 1"
   ]
  },
  {
   "cell_type": "code",
   "execution_count": null,
   "metadata": {},
   "outputs": [],
   "source": [
    "print(data.shape)\n",
    "print(data[11])\n",
    "print(data[11,3])"
   ]
  },
  {
   "cell_type": "markdown",
   "metadata": {},
   "source": [
    "### What about negative index?"
   ]
  },
  {
   "cell_type": "code",
   "execution_count": null,
   "metadata": {},
   "outputs": [],
   "source": [
    "print(data[-1])"
   ]
  },
  {
   "cell_type": "code",
   "execution_count": null,
   "metadata": {},
   "outputs": [],
   "source": [
    "print(data[0])\n",
    "print(data[0,-1])\n",
    "print(data[0,-4])\n",
    "print(data[0,-5])"
   ]
  },
  {
   "cell_type": "markdown",
   "metadata": {},
   "source": [
    "The negative index is interpreted as the position from the end of the array to the beginning of the array, i.e., the inverse order "
   ]
  },
  {
   "cell_type": "markdown",
   "metadata": {},
   "source": [
    "### Slice and dice\n"
   ]
  },
  {
   "cell_type": "code",
   "execution_count": null,
   "metadata": {},
   "outputs": [],
   "source": [
    "# what if only the first 3 rows are useful?\n",
    "\n",
    "data_first_3rows = data[0:3]\n",
    "print(data_first_3rows)"
   ]
  },
  {
   "cell_type": "code",
   "execution_count": null,
   "metadata": {},
   "outputs": [],
   "source": [
    "# what if only the middle two entries of the 2nd dimension are useful?\n",
    "data_middle_2_of_2ndD = data[:,1:3]\n",
    "print(data_middle_2_of_2ndD)\n",
    "\n",
    "# of course there's no need to give awkward names to these arrays\n",
    "\n",
    "checknp(data[:,1:3])"
   ]
  },
  {
   "cell_type": "code",
   "execution_count": null,
   "metadata": {},
   "outputs": [],
   "source": [
    "# how about keeping the last two entries of the 2nd dimension?\n",
    "print(data[:,2:])\n",
    "print(data[:,2:4])\n",
    "print(data[:,2:5])"
   ]
  },
  {
   "cell_type": "markdown",
   "metadata": {},
   "source": [
    "### shapes"
   ]
  },
  {
   "cell_type": "code",
   "execution_count": null,
   "metadata": {},
   "outputs": [],
   "source": [
    "print(data.shape)"
   ]
  },
  {
   "cell_type": "code",
   "execution_count": null,
   "metadata": {},
   "outputs": [],
   "source": [
    "datanew = np.reshape(data, (4,12))\n",
    "print(data.shape)\n",
    "print(datanew.shape)"
   ]
  },
  {
   "cell_type": "code",
   "execution_count": null,
   "metadata": {},
   "outputs": [],
   "source": [
    "print(data)\n",
    "print(datanew)\n",
    "\n",
    "# regrouping the elements but the original structure is lost"
   ]
  },
  {
   "cell_type": "code",
   "execution_count": null,
   "metadata": {},
   "outputs": [],
   "source": [
    "data_T = np.transpose(data)\n",
    "checknp(data_T)\n",
    "\n",
    "print(data_T)\n",
    "\n",
    "# transpose \n",
    "# now the first dimension has four entries, \n",
    "# they are correspponding to the four different data variables (pop, tot. pop., area, GDP)"
   ]
  },
  {
   "cell_type": "code",
   "execution_count": null,
   "metadata": {},
   "outputs": [],
   "source": [
    "# transpose could be done simply with .T\n",
    "data_Transpose = data.T\n",
    "print(data_Transpose)"
   ]
  },
  {
   "cell_type": "code",
   "execution_count": null,
   "metadata": {},
   "outputs": [],
   "source": [
    "# try a simpler one\n",
    "a = np.array([[1,2],[3,4]])\n",
    "\n",
    "# what's the dimension here?\n",
    "checknp(a)"
   ]
  },
  {
   "cell_type": "code",
   "execution_count": null,
   "metadata": {},
   "outputs": [],
   "source": [
    "print(a)\n",
    "print(a.T) \n"
   ]
  },
  {
   "cell_type": "markdown",
   "metadata": {},
   "source": [
    "### Array calculation\n",
    "\n",
    "- we have total population and GDP for each country, and we can calculate GDP per capita\n"
   ]
  },
  {
   "cell_type": "code",
   "execution_count": null,
   "metadata": {},
   "outputs": [],
   "source": [
    "# recall the 1st entry in the 2nd dimension is the GDP\n",
    "print(data[:,0])\n"
   ]
  },
  {
   "cell_type": "code",
   "execution_count": null,
   "metadata": {},
   "outputs": [],
   "source": [
    "# the 3rd entry is the total population\n",
    "print(data[:,2])\n"
   ]
  },
  {
   "cell_type": "code",
   "execution_count": null,
   "metadata": {},
   "outputs": [],
   "source": [
    "print(data[:,0] / data[:,2]) \n",
    "# so what is the rule here?\n"
   ]
  },
  {
   "cell_type": "markdown",
   "metadata": {},
   "source": [
    "- in array operations, the operation takes place between elements of array\n",
    "    - in other arrays are not used as matrices, by default"
   ]
  },
  {
   "cell_type": "code",
   "execution_count": null,
   "metadata": {},
   "outputs": [],
   "source": [
    "# Let's what this means in practice\n",
    "\n",
    "test = np.array([[1,0],[2,9]])\n",
    "testInv = np.linalg.inv(test)\n",
    "\n",
    "print(test)\n",
    "print(testInv)"
   ]
  },
  {
   "cell_type": "code",
   "execution_count": null,
   "metadata": {},
   "outputs": [],
   "source": [
    "print(test*testInv) # only need to see how -0.4444 comes out to know this is not matrix multiplication"
   ]
  },
  {
   "cell_type": "code",
   "execution_count": null,
   "metadata": {},
   "outputs": [],
   "source": [
    "# Incidentally, you can use np.matmul method for matrix multiplication\n",
    "product = np.matmul(test, testInv)\n",
    "print(product)\n",
    "\n",
    "# do we have an identity matrix?"
   ]
  },
  {
   "cell_type": "markdown",
   "metadata": {},
   "source": [
    "# Uproot \n",
    "\n",
    "If you are proficient with Python or at least you are least familiar with operations earlier in this notebook, and if you have reached this part of the notebook while the lecture is still ongoing, then this is an open-ended explorative exercise for you.\n",
    "\n",
    "## Background\n",
    "\n",
    "In this part, we will be loading and analyzing data from a ROOT file. ROOT is a software package developed by physicists at CERN for High Energy Physics data analysis. If you can find everything you want to know about ROOT at this webpage https://root.cern/\n",
    "\n",
    "While ROOT has many powerful functionalities for data analysis, we will not dedicate any significant fraction of this analysis to ROOT. Rather, we will load data from ROOT files to data structures such as numpy arrays and perform data analysis using Python libraries more widely used in the data science community.\n",
    "\n",
    "## ROOT Tree \n",
    "\n",
    "\n",
    "## Uproot\n",
    "There are many python software packages that convert root file to numpy arrays. Here we will use UPROOT. The full documentation of uproot can be found here\n",
    "https://uproot.readthedocs.io/en/latest/index.html\n",
    "\n",
    "and I would start with their `Getting Started Guide` examples https://uproot.readthedocs.io/en/latest/basic.html\n",
    "\n",
    "### Below are some semi-structured guidelines"
   ]
  },
  {
   "cell_type": "markdown",
   "metadata": {},
   "source": [
    "Because datahub@berkeley doesn't have uproot install, we will install it on the fly"
   ]
  },
  {
   "cell_type": "code",
   "execution_count": null,
   "metadata": {},
   "outputs": [],
   "source": [
    "!pip install uproot awkward"
   ]
  },
  {
   "cell_type": "code",
   "execution_count": null,
   "metadata": {},
   "outputs": [],
   "source": [
    "# once installed, let's import it\n",
    "\n",
    "import uproot\n",
    "\n",
    "#load a root file from somewhere. in this example, it is on the web, but usually it is on your local disk\n",
    "\n",
    "# this file is provided by uproot authors for demos\n",
    "\n",
    "file = uproot.open(\"https://scikit-hep.org/uproot3/examples/nesteddirs.root\") \n",
    "\n",
    "# I have another root file here https://portal.nersc.gov/project/m3438/physics77/2012.root you can also check that out\n",
    "\n",
    "# Let's what's inside the root file\n",
    "\n",
    "print(file.keys())\n",
    "print(file.classnames())\n",
    "\n",
    "\n",
    "\n",
    "# directly open the object called 'events' in the root file\n",
    "# N.B. this is a different file!!\n",
    "events = uproot.open(\"https://scikit-hep.org/uproot3/examples/Zmumu.root:events\")\n",
    "\n",
    "\n",
    "# See what variables are available there\n",
    "events.keys()\n",
    "\n",
    "events.values()\n",
    "\n",
    "# Loading a branch\n",
    "mass = events['M']\n",
    "type(mass)\n",
    "\n",
    "# Other ways to browser variables in the file\n",
    "# note that typenames are names of C++ types as ROOT files are created with C++\n",
    "events.typenames()\n",
    "events.show()\n",
    "\n",
    "# How to load all the mass values to a numpy array\n",
    "mass = events['M'].array(library='np')\n",
    "mass.shape\n",
    "\n",
    "\n",
    "# Load other variables\n",
    "E1 = events['E1'].array(library='np')\n",
    "E2 = events['E2'].array(library='np')\n",
    "\n",
    "px1 = events['px1'].array(library='np')\n",
    "px2 = events['px2'].array(library='np')\n",
    "\n",
    "py1 = events['py1'].array(library='np')\n",
    "py2 = events['py2'].array(library='np')\n",
    "\n",
    "pz1 = events['pz1'].array(library='np')\n",
    "pz2 = events['pz2'].array(library='np')\n",
    "\n",
    "pz2.shape\n",
    "\n"
   ]
  },
  {
   "cell_type": "markdown",
   "metadata": {},
   "source": [
    "A bit physics background:\n",
    "* The variables that are in the events object (which corresponds to a TTree in ROOT) have the same shapes.\n",
    "    * We saw mass has a shape of (2304,), so do pz2, E1, px1, etc.\n",
    "    * in this example, the whole file contains a sample of collision events\n",
    "    * there are 2304 collisions in this sample/file\n",
    "* this sample of collisions all have exactly two leptons \n",
    "    * the kinematics of a lepton is described with its four momentum (E, momentum)\n",
    "    * since momentum is a vector, the four momomentum, aka four vector, of the lepton, has four components (E, px, py, pz)\n",
    "    * Einstein's mass momentum relation gives us $m^2 = E^2 - |\\vec{p}|^2$\n",
    "        * so you can calculate the mass of a lepton with the above formula, or simply $M = \\sqrt{E^2 - (p_x^{2}+p_y^{2}+p_z^{2})}$\n",
    "        \n",
    "* can you calculate the mass for lepton1 and lepton2 and draw their distribution separately?\n",
    "    * note that the numbers 1 and 2 in the variable names are indices of leptons.\n",
    "    * i.e., E1, px1, py1, pz1 are properties of the same lepton, lepton 1; while those with 2 in name are properties of lepton 2\n",
    "    \n",
    "* can you calculate the mass of the di-lepton system?\n",
    "    * what this means is that you consider the two leptons as a single physical system\n",
    "    * as such, that dilepton system would have an Energy of E1+ E2, and a momentum of $\\vec{p_{ll}} = \\vec{p_{1}} + \\vec{p_{2}}$. N.B. the momentum sum is always a vector sum\n",
    "    * this quantity is also known as the invariant mass of dilepton system ($m_{ll}$)\n",
    "    * how does this distribution look like?\n",
    "    * how does the invariant mass of dilepton system compare to the sum of two individual lepton masses?\n"
   ]
  },
  {
   "cell_type": "code",
   "execution_count": null,
   "metadata": {},
   "outputs": [],
   "source": []
  },
  {
   "cell_type": "code",
   "execution_count": null,
   "metadata": {},
   "outputs": [],
   "source": [
    "# How about this file?\n",
    "\n",
    "file = uproot.open(\"https://portal.nersc.gov/project/m3438/physics77/2012.root\") \n",
    "\n",
    "print(file.keys())\n",
    "print(file.classnames())\n",
    "\n",
    "# I've opened the TTree for you\n",
    "events2 = uproot.open(\"https://portal.nersc.gov/project/m3438/physics77/2012.root:tree_TYPE_DATA\")\n",
    "\n",
    "\n",
    "events2.show()\n",
    "\n"
   ]
  },
  {
   "cell_type": "markdown",
   "metadata": {},
   "source": [
    "#### A bit physics background of this file\n",
    "\n",
    "* this file contains a sample of collision events where there are always two photons\n",
    "    * can you check how many events are in this sample?\n",
    "    * the two photons are indexed as \"leading\" and \"subleading\", which are suffices in the variable names\n",
    "        * i.e. ph_phi_leading, ph_eta_leading, ph_pt_leading as well as other ph_*_leading varialbes are properties of the leading photon. The same can be said about subleading photons\n",
    "        \n",
    "* in this file, the four momentum of a photon is not givne by E, px, py, pz, but rather than it is given by pT, eta, phi\n",
    "    * we have the following relations to convert pT, eta, phi to E, px, py, pz\n",
    "        * $p_x = p_{T} cos(\\phi)$\n",
    "        * $p_y = p_{T} sin(\\phi)$\n",
    "        * $p_z = p_{T} sinh(\\eta)$\n",
    "        * $E = p_{T} cosh(\\eta)$\n",
    "    * btw, why do we only need to know about three quantities (pT, eta, phi) to define the four momentum of photon which in principle has 4 DOFs?    \n",
    "    \n",
    "* can you calculate the invariant mass of the diphoton system consisting of the leading photon and subleading photon?\n",
    "    * N.B. leading and subleading are the ordering of photons in pT. \n",
    "    * Leading photon's pT is greater than that of subleading photon\n",
    "    * can you make a plot of the invariant mass distribution of diphoton?"
   ]
  },
  {
   "cell_type": "code",
   "execution_count": null,
   "metadata": {},
   "outputs": [],
   "source": []
  }
 ],
 "metadata": {
  "kernelspec": {
   "display_name": "Python 3 (ipykernel)",
   "language": "python",
   "name": "python3"
  },
  "language_info": {
   "codemirror_mode": {
    "name": "ipython",
    "version": 3
   },
   "file_extension": ".py",
   "mimetype": "text/x-python",
   "name": "python",
   "nbconvert_exporter": "python",
   "pygments_lexer": "ipython3",
   "version": "3.9.13"
  }
 },
 "nbformat": 4,
 "nbformat_minor": 4
}
