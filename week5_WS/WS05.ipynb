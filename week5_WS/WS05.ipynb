{
 "cells": [
  {
   "cell_type": "markdown",
   "id": "c825cef9",
   "metadata": {},
   "source": [
    "# Workshop 06, September 30, 2022 \n",
    "\n",
    "\n",
    "**Submit this notebook to bCourses to receive a grade for this Workshop. Submission deadline is 11:59 pm Sunday, October 2, 2022.**\n",
    "\n",
    "\n",
    "**The workshop should be submitted on bCourses under the Assignments tab (both the .ipynb and .pdf files). Please label it by your student ID number (SIS ID)**\n",
    "\n",
    "The goal of this workshop is two-fold: first, the practice and exercise would allow you to improve your level of comfort with numpy arrays; second, it also introduces you to the basics of collider data, which we will deal with over the course of this semester.  "
   ]
  },
  {
   "cell_type": "code",
   "execution_count": null,
   "id": "31f7485d",
   "metadata": {},
   "outputs": [],
   "source": [
    "import numpy as np\n",
    "import math as m\n",
    "import matplotlib.pyplot as plt"
   ]
  },
  {
   "cell_type": "markdown",
   "id": "251209bd",
   "metadata": {},
   "source": [
    "## Practice and Exericse 1\n",
    "\n",
    "Write a function to take a numpy array object as input and print out its dimension, shape, and size. We will use this function later in the workshop to check properties of arrays.\n",
    "\n"
   ]
  },
  {
   "cell_type": "code",
   "execution_count": null,
   "id": "31f1db6a",
   "metadata": {},
   "outputs": [],
   "source": [
    "def checkarray(x):\n",
    "    # develop your code here\n"
   ]
  },
  {
   "cell_type": "markdown",
   "id": "089d2369",
   "metadata": {},
   "source": [
    "After completing your `checkarray` funciton, execute the cell below and see the properties of array `a` "
   ]
  },
  {
   "cell_type": "code",
   "execution_count": null,
   "id": "c1841bf4",
   "metadata": {},
   "outputs": [],
   "source": [
    "a = np.random.normal(125,2,size=500)\n",
    "\n",
    "checkarray(a)"
   ]
  },
  {
   "cell_type": "markdown",
   "id": "a44ec980",
   "metadata": {},
   "source": [
    "See what's changed after reshape"
   ]
  },
  {
   "cell_type": "code",
   "execution_count": null,
   "id": "a12ed053",
   "metadata": {},
   "outputs": [],
   "source": [
    "a1 = a.reshape(500,1)\n",
    "checkarray(a1)\n",
    "print(a1)"
   ]
  },
  {
   "cell_type": "markdown",
   "id": "92032a4d",
   "metadata": {},
   "source": [
    "Understand the differences between the three lines"
   ]
  },
  {
   "cell_type": "code",
   "execution_count": null,
   "id": "4eb5f090",
   "metadata": {},
   "outputs": [],
   "source": [
    "a2 = a1[1:250]\n",
    "a3 = a1[0:250]\n",
    "a4 = a1[250:]\n",
    "\n",
    "checkarray(a2)\n",
    "checkarray(a3)\n",
    "checkarray(a4)"
   ]
  },
  {
   "cell_type": "markdown",
   "id": "cd9216a6",
   "metadata": {},
   "source": [
    "**We want to do an hstack of a3 and a4, so that the new array a5 is of shape (250,2). Fix the line below**"
   ]
  },
  {
   "cell_type": "code",
   "execution_count": null,
   "id": "6ad49ce6",
   "metadata": {},
   "outputs": [],
   "source": [
    "a5 = np.hstack(a3,a4)\n",
    "checkarray(a5)"
   ]
  },
  {
   "cell_type": "markdown",
   "id": "c626e62d",
   "metadata": {},
   "source": [
    "**Draw the distribution the second entries on the axis 1 of array a5**\n",
    "\n",
    "Fill in the missing code in the cell below "
   ]
  },
  {
   "cell_type": "code",
   "execution_count": null,
   "id": "42a28dcf",
   "metadata": {},
   "outputs": [],
   "source": [
    "import matplotlib.pyplot as plt\n",
    "plt.hist( # MISSING PART OF THE CODE \n",
    "    , bins =20, range=(115,135))\n",
    "plt.xlabel('a5')\n",
    "plt.ylabel('Number of Entries')\n"
   ]
  },
  {
   "cell_type": "markdown",
   "id": "4c1e8077",
   "metadata": {},
   "source": [
    "**Reshape a5 to (5,10,10) and print all elements whose axis-1 position is between 6 and 10 (including 6 and 10) and axis-2 position is between 4 and 7 (including 4 and 7). The index will be posiition -1**"
   ]
  },
  {
   "cell_type": "code",
   "execution_count": null,
   "id": "dc29001b",
   "metadata": {},
   "outputs": [],
   "source": [
    "# Reshape and checkarray \n",
    "a5 = a5.reshape()\n",
    "checkarray(a5)"
   ]
  },
  {
   "cell_type": "code",
   "execution_count": null,
   "id": "f7cda8a3",
   "metadata": {},
   "outputs": [],
   "source": [
    "print(a5[] )"
   ]
  },
  {
   "cell_type": "markdown",
   "id": "884dfbd6",
   "metadata": {},
   "source": [
    "## Pratice and Exercise 2"
   ]
  },
  {
   "cell_type": "markdown",
   "id": "30c7c094",
   "metadata": {},
   "source": [
    "The `data1` array generated here is 2-dimensional, and it has a shape of (500,2). The first entry of its axis-1 is corresponding to the variable a, and the second entry of its axis-1 is corresponding to the variable b. Each entry of axis 0 gives a pair of (a,b) and is referred to as a data point.\n",
    "\n",
    "In the cell below, a and b are generated by randomly sampling some probability density functions. We will get more exposure to np.random later this semester. For now, you just need to execute the cell below and get the data points consisting of pairs of a and b.  "
   ]
  },
  {
   "cell_type": "code",
   "execution_count": null,
   "id": "af6b10ea",
   "metadata": {},
   "outputs": [],
   "source": [
    "# This cell is used to generate the data array `data1`\n",
    "# Do not modify this cell\n",
    "np.random.seed(1)\n",
    "a = np.random.normal(125,2,size=500)\n",
    "b = np.random.exponential(0.5, size=500)*a \n",
    "# you may wish to visualize the data just generated\n",
    "plt.scatter(a,b)\n",
    "plt.xlabel('a')\n",
    "plt.ylabel('b')\n",
    "\n",
    "a = a.reshape(500,1)\n",
    "b = b.reshape(500,1)\n",
    "data1 = np.hstack((a,b))\n"
   ]
  },
  {
   "cell_type": "markdown",
   "id": "7b1bdb40",
   "metadata": {},
   "source": [
    "Draw a distribution of $a$ from numpy array data1. $a$ corresponds to the first entries on axis 1.\n",
    "- also take note how the hist method is used\n",
    "- always properly label your plots"
   ]
  },
  {
   "cell_type": "code",
   "execution_count": null,
   "id": "dd1b9675",
   "metadata": {},
   "outputs": [],
   "source": [
    "plt.hist(data1[:,0], bins = 40, range=(115,135), color='red')\n",
    "plt.xlabel('a')\n",
    "plt.ylabel('Number of Entries')\n"
   ]
  },
  {
   "cell_type": "markdown",
   "id": "0ea1daec",
   "metadata": {},
   "source": [
    "Draw a distribution of $b$ from numpy array data1. $b$ corresponds to the second entries on axis 1\n",
    "- only keep data points where b > 50\n",
    "- change the number of bins to 60\n",
    "- change the range of the histogram to 0 < b < 360\n"
   ]
  },
  {
   "cell_type": "code",
   "execution_count": null,
   "id": "1dd37c32",
   "metadata": {},
   "outputs": [],
   "source": [
    "selected_data = data1[ np.where( data1[:,1] > 50 )]\n",
    "plt.hist(selected_data[:,1], bins = 60, range=(0,360))\n",
    "plt.xlabel('b [b>50]')\n",
    "plt.ylabel('Number of Entries')\n"
   ]
  },
  {
   "cell_type": "markdown",
   "id": "845e83c6",
   "metadata": {},
   "source": [
    "Draw distribution of *a* for those data points where b <50\n",
    "- note that the selection is on *b* but the distribution is about *a*\n",
    "- the expression `np.where( data1[:,1]<50 )` would return a set of positions on axis 0 where b < 50 is satisfied\n",
    "- a and b occupy different entries on axis 1, but their indexing on axis 0 are the same\n",
    "    - so we obtain the axis-0 positions of data points that satisfy b < 50 from `np.where( data1[:,1]<50 )`, and we apply it to the numpy array of a\n",
    "\n"
   ]
  },
  {
   "cell_type": "code",
   "execution_count": null,
   "id": "b8130747",
   "metadata": {
    "scrolled": true
   },
   "outputs": [],
   "source": [
    "SelectedData = data1[np.where(data1[:,1]>50)]\n",
    "plt.hist(SelectedData[:,0], bins = 40, range=(115,135))\n",
    "plt.xlabel('a [b>50]')\n",
    "plt.ylabel('Number of Entries')"
   ]
  },
  {
   "cell_type": "markdown",
   "id": "b6fcf8c3",
   "metadata": {},
   "source": [
    "Draw the distribution of *a* for those data points where b < 50 and 123 < a < 127\n",
    "- now we need to implement two selection requirements"
   ]
  },
  {
   "cell_type": "code",
   "execution_count": null,
   "id": "6c1157f7",
   "metadata": {},
   "outputs": [],
   "source": [
    "SelectedData = data1[np.where(data1[:,1]>50)]\n",
    "SelectedData = SelectedData[np.where( np.abs(SelectedData[:,0]-125)<2) ]\n",
    "plt.hist(SelectedData[:,0], bins = 40, range=(120,130))\n",
    "plt.xlabel('a [b>50 AND 123 < a < 127]')\n",
    "plt.ylabel('Number of Entries')"
   ]
  },
  {
   "cell_type": "code",
   "execution_count": null,
   "id": "af921c55",
   "metadata": {
    "scrolled": true
   },
   "outputs": [],
   "source": [
    "# or we could do both selection in one go\n",
    "# Pay attention to how the logic AND is implemented here\n",
    "SelectedData = data1[np.where( (data1[:,1]>50) * ( np.abs(data1[:,0] - 125) < 2) ) ]\n",
    "plt.hist(SelectedData[:,0], bins = 40, range=(120,130))\n",
    "plt.xlabel('a [b>50 AND 123 < a < 127]')\n",
    "plt.ylabel('Number of Entries')"
   ]
  },
  {
   "cell_type": "markdown",
   "id": "92aba287",
   "metadata": {},
   "source": [
    "### Your turn. Practice:\n",
    "- Draw the distribution of *b* for data points where 0.95 < a/b > 1.3\n",
    "    - label the x and y axes properly, following the convention used in the previous cells\n"
   ]
  },
  {
   "cell_type": "code",
   "execution_count": null,
   "id": "d723f346",
   "metadata": {},
   "outputs": [],
   "source": [
    "# Develop your code here"
   ]
  },
  {
   "cell_type": "markdown",
   "id": "1ef08b6c",
   "metadata": {},
   "source": [
    "- Draw a scatter plot of a vs a/b for data points where b < 150 AND 121 < a < 129 AND a/b > 0.2\n",
    "    - Set the y axis scale to logarithmic\n",
    "    - Label x and y axes properly"
   ]
  },
  {
   "cell_type": "code",
   "execution_count": null,
   "id": "e34d2711",
   "metadata": {},
   "outputs": [],
   "source": [
    "# Develop your code here"
   ]
  },
  {
   "cell_type": "markdown",
   "id": "4a315c0a",
   "metadata": {},
   "source": [
    "# Practice and Exercise 3\n",
    "\n",
    "In this problem, we define an angle variable $\\phi$ that has a range between 0 and 2$\\pi$. A sequence of 1000 values of $\\phi$ is generated using the linspace method of numpy. We then generated a sequence of coordinates (x,y) on a circle defined by $x^2 + y^2 = r^2, r = 1$, from the $\\phi$ sequenece. This is realized by $x = rcos(\\phi), y = rsin(\\phi)$. The (x,y) pairs are drawn on a scatter plot. "
   ]
  },
  {
   "cell_type": "code",
   "execution_count": null,
   "id": "5e121032",
   "metadata": {},
   "outputs": [],
   "source": [
    "# Execute this cell, but do not modify\n",
    "phi = np.linspace(0,2*np.pi,1000)\n",
    "r = 1\n",
    "x, y = r*np.cos(phi), r*np.sin(phi)\n",
    "plt.scatter(x,y)\n",
    "plt.xlabel('x')\n",
    "plt.ylabel('y')\n",
    "plt.gca().set_aspect('equal') # changing the aspect ratio to 1:1\n",
    "\n"
   ]
  },
  {
   "cell_type": "markdown",
   "id": "34be6cd6",
   "metadata": {},
   "source": [
    "The plot above shows a sequence of 1000 points on the x-y plane. **Now we want to create a numpy array of $tan(x/y)$, only for those (x,y) points where y < 0**"
   ]
  },
  {
   "cell_type": "code",
   "execution_count": null,
   "id": "575608e0",
   "metadata": {},
   "outputs": [],
   "source": [
    "# Does this work?\n",
    "tan_x_over_y = np.tan(x/y)"
   ]
  },
  {
   "cell_type": "code",
   "execution_count": null,
   "id": "8a1dc81d",
   "metadata": {},
   "outputs": [],
   "source": [
    "# to get all y values from (x,y) points where y < 0\n",
    "# simply do\n",
    "y[np.where(y<0)]"
   ]
  },
  {
   "cell_type": "code",
   "execution_count": null,
   "id": "3ca91850",
   "metadata": {},
   "outputs": [],
   "source": [
    "# to get all x values from (x,y) points where y < 0\n",
    "x[np.where(y<0)]\n",
    "\n",
    "# N.B. x and y have the same ordering. Therefore, the positions in the array y that satisfy y < 0 are the\n",
    "# positions in the x array for which their y counterparts are negative"
   ]
  },
  {
   "cell_type": "code",
   "execution_count": null,
   "id": "e85f3261",
   "metadata": {
    "scrolled": true
   },
   "outputs": [],
   "source": [
    "plt.scatter(x[np.where(y<0)], y[np.where(y<0)])\n",
    "plt.xlabel(\"x\")\n",
    "plt.ylabel(\"y\")\n"
   ]
  },
  {
   "cell_type": "markdown",
   "id": "ed420a68",
   "metadata": {},
   "source": [
    "### your turn\n",
    "**what if we only want to see the points where x < 0 and y > 0? Complete the cell below**"
   ]
  },
  {
   "cell_type": "code",
   "execution_count": null,
   "id": "88ec51c4",
   "metadata": {},
   "outputs": [],
   "source": [
    "#complete the line below\n",
    "plt.scatter(x[         ], y[         ])\n",
    "plt.xlabel(\"x\")\n",
    "plt.ylabel(\"y\")\n",
    "\n"
   ]
  },
  {
   "cell_type": "markdown",
   "id": "fe5d308a",
   "metadata": {},
   "source": [
    "**Recovering the angle phi from (x,y)**\n",
    "\n",
    "Now that we have a sequence of 1000 (x,y) points. We want to recover the original angular values `phi`. Intuitively, this would be achieved by taking the inverse of some trigonometric functions. After all, x/r is just the cos$\\phi$, y/x is just the tan$\\phi$. As you execute the next cell, you'd see that none of the three lines of code would give an angular variable that ranges between 0 and 2$\\pi$. "
   ]
  },
  {
   "cell_type": "code",
   "execution_count": null,
   "id": "92bbc3f2",
   "metadata": {},
   "outputs": [],
   "source": [
    "plt.plot(np.arcsin(y/r), color='blue')\n",
    "plt.plot(np.arccos(x/r), color='red')\n",
    "plt.plot(np.arctan(y/x), color='black')\n",
    "plt.xlabel('Index of entries')\n",
    "plt.ylabel('Angle [rad]')\n",
    "\n",
    "# note that the x axis gives the index of the entries, while the y axis gives the angle value returned "
   ]
  },
  {
   "cell_type": "markdown",
   "id": "359422d4",
   "metadata": {},
   "source": [
    "### Practice\n",
    "To recover the original angle variable, we can define the following function\n",
    "$\\phi = arccos(x/r)$ if $y > 0 $, or $\\phi = 2\\pi - arccos(x/r) $ if $y<0$\n",
    "\n",
    "- write a function that implements the above expression \n",
    "    - this function may take x and y as input arguments.\n",
    "    - the input must be numpy arrays (as generated earlier in the notebook), i.e., we do not want to write a function that takes single-valued scalars and then vectorize it.\n",
    "    - no for/while loop, if else structures should be used \n"
   ]
  },
  {
   "cell_type": "code",
   "execution_count": null,
   "id": "5c9ba822",
   "metadata": {},
   "outputs": [],
   "source": [
    "def angle(x , y):\n",
    "    value = np.arccos(x/np.sqrt(x**2 + y**2))\n",
    "    value_2pi = 2*np.pi - np.arccos(x/np.sqrt(x**2 + y**2))\n",
    "\n",
    "    # now how do we combine them? Hints: use np.where() method\n",
    "    \n",
    "    value[np.where(y<0)] = value_2pi[ np.where(y<0)]\n",
    "    return value"
   ]
  },
  {
   "cell_type": "code",
   "execution_count": null,
   "id": "8e9ab59e",
   "metadata": {},
   "outputs": [],
   "source": [
    "plt.plot(angle(x,y))\n",
    "plt.xlabel('Index of entries')\n",
    "plt.ylabel('Angle [rad]')"
   ]
  },
  {
   "cell_type": "markdown",
   "id": "3c6150e2",
   "metadata": {},
   "source": [
    "# Practice and Exercise 4"
   ]
  },
  {
   "cell_type": "markdown",
   "id": "36d047f4",
   "metadata": {},
   "source": [
    "In special relativity, we have the following relation between energy, mass, and momentum of a particle\n",
    "\n",
    "$ E^{2} = (mc^2)^2 + (pc)^2$\n",
    "\n",
    "where $E$, $m$, and $p$, are energy, mass, and momentum of the particle, respectively. $c$ is the speed of light. In particle physics, we adopt *natural units* and the relation is written as\n",
    "\n",
    "$E^2 = m^2 + p^2$\n",
    "\n",
    "Note that in this equation the constant $c$ \"disappeared.\" It is absorbed into values of $E$, $m$, and $p$. Under this convention, mass, energy, and momentum all have the same unit electron volt $eV$. In practice, we often use \"giga eV\" (GeV = 10$^9 eV$) for data produced from high energy experiments. "
   ]
  },
  {
   "cell_type": "markdown",
   "id": "8843d4a5",
   "metadata": {},
   "source": [
    "We have a list object in the cell below. This list, named as `particle`, has four elements. The first three are the x, y, and z components of its momentum (px, py, pz), and the last is its energy (E). These entries all have a unit of GeV\n",
    "\n",
    "## practice 4.1 \n",
    "- Calculate the mass of this particle\n",
    "    - Convert this list to a numpy array\n",
    "    - Write a function that takes E, px, py, pz as input arguments and returns the mass value\n",
    "    - This function must be numpy array friendly, i.e., the input arguments may be either scalars or arrays\n",
    "    - Based on the mass you get, what could be this particle? Hint: it's one of the elementary particles listed here https://en.wikipedia.org/wiki/Elementary_particle#Mass"
   ]
  },
  {
   "cell_type": "code",
   "execution_count": null,
   "id": "42ae2f33",
   "metadata": {},
   "outputs": [],
   "source": [
    "particle = [ 35.11804977,-16.57036233, -48.77524654, 62.34492895 ]"
   ]
  },
  {
   "cell_type": "code",
   "execution_count": null,
   "id": "cbc5076e",
   "metadata": {},
   "outputs": [],
   "source": [
    "# Convert the list to array, define a function, and calculate the mass here\n",
    "particle = np.array(particle).reshape(1,4)\n",
    "\n",
    "# Note that this array is reshaped to (1,4)\n",
    "# This change is needed for future extension to this array\n",
    "# the axis 0 is reserved for particles\n",
    "# the axis 1 is reserved for properties of a particle\n",
    "\n",
    "# develop your code here\n",
    "\n",
    "def mass( E, px, py, pz):\n",
    "\n",
    "\n"
   ]
  },
  {
   "cell_type": "code",
   "execution_count": null,
   "id": "7b8dd549",
   "metadata": {},
   "outputs": [],
   "source": [
    "# Print out the mass value\n",
    "print(mass( particle[:,3], particle[:,0], particle[:,1], particle[:,2] ))"
   ]
  },
  {
   "attachments": {
    "coordinate.jpeg": {
     "image/jpeg": "[encoded data removed]"
    }
   },
   "cell_type": "markdown",
   "id": "72b48d17",
   "metadata": {},
   "source": [
    "#### Collider Coordinate System\n",
    "The coordinate system of a collider experiment is defined as follows.\n",
    "\n",
    "The beam direction, the direction of the incoming colliding particles, is corresponding to the z axis. The x and y axes define a plane that is perpendicular to the beam direction (z axis). The x-y plane is referred to as the transverse plane, in the sense that it is transverse to beam direciton. \n",
    "\n",
    "In a polar coordinate system, one could define the polar angle $\\theta$ and the azimuthal angle $\\phi$. The polar angle would the angle between the direction of flight of a particle and the beam direction. The azimuthal angle is the angle between the projection of a particle's direction onto the transverse plane and the x-axis. \n",
    "\n",
    "These coordinates are illustrated in the sketch below. \n",
    "\n",
    "![coordinate.jpeg](attachment:coordinate.jpeg)\n",
    "\n",
    "The polar coordinate system provides a different way of presenting the kinematic information of the particle energy and momentum (also referred to as the four momentum).\n",
    "\n",
    "In the D'Carte coordinate system, we have \n",
    "$(E,\\vec{p}) = (E, p_x, p_y, p_z)$\n",
    "\n",
    "In the polar coordinate system, we have\n",
    "$(E, \\vec{p}) = (E, p_T, \\theta, \\phi)$\n",
    "\n",
    "where we have \n",
    "- $p_T = \\sqrt{ p_x^2 + p_y^2}$\n",
    "\n",
    "- $\\phi = arccos(p_x/p), $ if $ y > 0 $ ; $ \\phi = 2\\pi - arccos(p_x/p), $ if $ y \\leq 0 $\n",
    "\n",
    "- $\\theta = arccos(p_z/p)$\n",
    "\n",
    "$(E, p_x, p_y, p_z)$ and $(E, p_T, \\theta, \\phi)$ are two representations of the same information possessed by $(E,\\vec{p})$, and they are fully equivalent. \n",
    "\n",
    "In particle physics data analysis, we replace $\\theta$ by $\\mathrm{log_e}(\\frac{\\theta}{2})$. This quantity is referred to as the pseudo-rapidity ($\\eta$).  The reason behind replacing $\\theta$ by $\\eta$ is beyond the scope of this course. If you are interested in this, take Physics 129! This said, since we replaced $\\theta$ by $\\eta = \\mathrm{log_e}(\\frac{\\theta}{2})$, one can still say that the information is the same between $(E, p_x, p_y, p_z)$ and \n",
    "$(E, p_T, \\eta, \\phi)$. To summarize, we can derive $(E, p_T, \\eta, \\phi)$ from $(E, p_x, p_y, p_z)$, using the following relations\n",
    "\n",
    "- $p_T = \\sqrt{ p_x^2 + p_y^2}$\n",
    "\n",
    "- $\\phi = arccos(p_x/p), $ if $ y > 0 $ ; $ \\phi = 2\\pi - arccos(p_x/p), $ if $ y \\leq 0 $\n",
    "\n",
    "- $\\eta = \\mathrm{log_e}(\\frac{\\theta}{2})$\n",
    "    - $\\theta = arccos(p_z/p)$\n",
    "\n",
    "\n",
    "Based on these relations, we can also derive $(E, p_x, p_y, p_z)$ from $(E, p_T, \\eta, \\phi)$:\n",
    "\n",
    "- $p_x = p_T cos(\\phi)$\n",
    "\n",
    "- $p_y = p_T sin(\\phi)$\n",
    " \n",
    "- $p_z = p_T sinh(\\eta)$\n",
    "\n"
   ]
  },
  {
   "cell_type": "markdown",
   "id": "0ef23c27",
   "metadata": {},
   "source": [
    "## Practice 3.2 \n",
    "- Define functions to derive pT ($p_T$), phi ($\\phi$), and eta ($\\eta$), as well as the amplitude of momentum ($p$) and the polar angle $\\theta$, from  $(E, p_x, p_y, p_z)$\n",
    "    - These functions must be able to take numpy arrays as input arguments\n",
    "- Use the functions you defined to calculate the properties of the particle given in the previous part of the exercise\n",
    "    - transverse momentum pT\n",
    "    - amplitude of momentum \n",
    "    - $\\theta$\n",
    "    - $\\phi$\n",
    "    - $\\eta$\n",
    "    - summarize your results in a Markdown cell, including units for p and pT (eta, phi, theta are dimensionless quantitites)\n"
   ]
  },
  {
   "cell_type": "code",
   "execution_count": null,
   "id": "22e7e60a",
   "metadata": {},
   "outputs": [],
   "source": [
    "# develop your code here\n",
    "\n",
    "def pt (px, py):\n",
    "\n",
    "\n",
    "def momentum (px , py, pz):\n",
    "\n",
    "\n",
    "def theta (px, py, pz):\n",
    "\n",
    "def phi (px, py):\n",
    "\n",
    "\n",
    "def eta (px, py, pz):\n"
   ]
  },
  {
   "cell_type": "code",
   "execution_count": null,
   "id": "4294b698",
   "metadata": {},
   "outputs": [],
   "source": [
    "# If your functions are defined properly, these lines below will work out of box\n",
    "print( pt( particle[:,0], particle[:,1] ))\n",
    "\n",
    "print( momentum(particle[:,0], particle[:,1], particle[:,2]))\n",
    "\n",
    "print( theta(particle[:,0], particle[:,1], particle[:,2]))\n",
    "\n",
    "print( phi(particle[:,0], particle[:,1]) )\n",
    "\n",
    "print( eta(particle[:,0], particle[:,1], particle[:,2]))\n"
   ]
  },
  {
   "cell_type": "markdown",
   "id": "e20912f8",
   "metadata": {},
   "source": [
    "Now we have a second particle. Its kinematic information is given in the list in the next cell. Convert it to a numpy array. \n",
    "- What is the mass of this second particle?\n",
    "- If we consider the two particles as a single physical system, then we could derive the total energy and the total momentum of this physical system.\n",
    "    - The total energy would be the sum of the energies of the two particles, and the total momentum would be the vector sum of the momenta of the two particles, i.e., we have\n",
    "        - $E_{tot} = E_1 + E_2$\n",
    "        - $\\vec{p_{tot}} = \\vec{p_1} + \\vec{p_2}$. More specifically, each component of the total momentum vector is the sum of the corresponding components of the particle momenta: $p_{x,tot} = p_{x,1} + p_{x,2}, p_{y,tot} = p_{y,1} + p_{y,2}, p_{z,tot} = p_{z,1} + p_{z,2}, $. Hints: this component-wise sum is pretty straightforward to implement if the momentum vector is stored as a numpy array\n",
    "- Let's calculate the following properties of the two-particle system\n",
    "    - mass\n",
    "    - pT\n",
    "    - eta\n",
    "    - phi "
   ]
  },
  {
   "cell_type": "code",
   "execution_count": null,
   "id": "b29e2f09",
   "metadata": {},
   "outputs": [],
   "source": [
    "particle2 = [-41.19528764,  17.4332439,  -68.96496181,  82.20186639]"
   ]
  },
  {
   "cell_type": "code",
   "execution_count": null,
   "id": "ee0cfa51",
   "metadata": {},
   "outputs": [],
   "source": [
    "particle2 = np.array(particle2).reshape(1,4)\n",
    "\n",
    "print(mass( particle2[:,3], particle2[:,0], particle2[:,1], particle2[:,2] ))"
   ]
  },
  {
   "cell_type": "code",
   "execution_count": null,
   "id": "2eecff13",
   "metadata": {},
   "outputs": [],
   "source": [
    "# array \"diparticle\" has E,px,py,pz of the two-particle system. \n",
    "# how do you get it from arrays particle1 and particle2?\n",
    "\n",
    "# develop your code here\n",
    "diparticle = \n",
    "\n",
    "\n",
    "print(mass( diparticle[:,3], diparticle[:,0], diparticle[:,1], diparticle[:,2] ))\n",
    "\n",
    "\n",
    "print( pt( diparticle[:,0], diparticle[:,1] ))\n",
    "\n",
    "print( momentum(diparticle[:,0], diparticle[:,1], diparticle[:,2]))\n",
    "\n",
    "print( theta(diparticle[:,0], diparticle[:,1], diparticle[:,2]))\n",
    "\n",
    "print( phi(diparticle[:,0], diparticle[:,1]) )\n",
    "\n",
    "print( eta(diparticle[:,0], diparticle[:,1], diparticle[:,2]))\n",
    "\n"
   ]
  },
  {
   "cell_type": "code",
   "execution_count": null,
   "id": "9309e27a",
   "metadata": {},
   "outputs": [],
   "source": []
  }
 ],
 "metadata": {
  "kernelspec": {
   "display_name": "Python 3 (ipykernel)",
   "language": "python",
   "name": "python3"
  },
  "language_info": {
   "codemirror_mode": {
    "name": "ipython",
    "version": 3
   },
   "file_extension": ".py",
   "mimetype": "text/x-python",
   "name": "python",
   "nbconvert_exporter": "python",
   "pygments_lexer": "ipython3",
   "version": "3.9.13"
  }
 },
 "nbformat": 4,
 "nbformat_minor": 5
}
