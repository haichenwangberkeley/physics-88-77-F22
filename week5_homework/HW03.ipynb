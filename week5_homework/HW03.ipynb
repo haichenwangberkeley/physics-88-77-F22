{
 "cells": [
  {
   "cell_type": "markdown",
   "metadata": {},
   "source": [
    "# Homework 3: Control Structures and Numpy Array\n",
    "\n"
   ]
  },
  {
   "cell_type": "markdown",
   "metadata": {},
   "source": [
    "**Due by 11:59 pm, Tuesday, October 11, 2022**\n",
    "\n",
    "Please complete this homework assignment in code cells in the iPython notebook. Include comments in your code when necessary.  Please rename the notebook as SIS ID_HW02.ipynb (your student ID number) and save the notebook once you have executed it as a PDF  (note, that when saving as PDF you don't want to use the option with latex because it crashes, but rather the one to save it directly as a PDF). \n",
    "\n",
    "**The homework should be submitted on bCourses under the Assignments tab (both the .ipynb and .pdf files). Please label it by your student ID number (SIS ID)**"
   ]
  },
  {
   "cell_type": "markdown",
   "metadata": {},
   "source": [
    "## Problem 1: Binomial Coefficients\n",
    "\n",
    "[Adapted from Newman, Exercise 2.11] The binomial coefficient $n \\choose k$ is an integer equal to\n",
    "\n",
    "$$ {n \\choose k} = \\frac{n!}{k!(n-k)!} = \\frac{n \\times (n-1) \\times (n-2) \\times \\cdots \\times (n-k + 1)}{1 \\times 2 \\times \\cdots \\times k} $$\n",
    "\n",
    "when $k \\geq 1$, or ${n \\choose 0} = 1$ when $k=0$. (The special case $k=0$ can be included in the general definition by using the conventional definition $0! \\equiv 1$.)\n",
    "\n",
    "1. Write a function `factorial(n)` that takes an integer $n$ and returns $n!$ as an integer. It should yield $1$ when $n=0$. You may assume that the argument will also be an integer greater than or equal to 0.\n",
    "\n",
    "1. Using the form of the binomial coefficient given above, write a function `binomial(n,k)` that calculates the binomial coefficient for given $n$ and $k$. Make sure your function returns the answer in the form of an integer (not a float) and gives the correct value of 1 for the case where $k=0$. (Hint: Use your `factorial` function from Part 1.)\n",
    "\n",
    "1. Using your `binomial` function, write a function `pascals_triangle(N)` to print out the first $N$ lines of \"Pascal's triangle\" (starting with the $0$th line). The $n$th line of Pascal's triangle contains $n+1$ numbers, which are the coefficients $n \\choose 0$, $n \\choose 1$, and so on up to $n \\choose n$. Thus the first few lines are\n",
    "        1\n",
    "        1 1\n",
    "        1 2 1\n",
    "        1 3 3 1\n",
    "        1 4 6 4 1     \n",
    "This would be the result of `pascals_triangle(5)`. Print the first 10 rows of Pascal's triangle.\n",
    "        \n",
    "1. The probability that an ubiased coin, tossed $n$ times, will come up heads $k$ times is ${n \\choose k} / 2^n$. (Or instead of coins, perhaps you'd prefer to think of spins measured in a [Stern-Gerlach experiment](https://en.wikipedia.org/wiki/Stern%E2%80%93Gerlach_experiment).)\n",
    "    - Write a function `heads_exactly(n,k)` to calculate the probability that a coin tossed $n$ times comes up heads exactly $k$ times.\n",
    "    - Write a function `heads_atleast(n,k)` to calculate the probability that a coin tossed $n$ times comes up heads $k$ or more times.\n",
    "    - Print the probabilities (to four decimal places) that a coin tossed 100 times comes up heads exactly 70 times, and at least 70 times. You should print corresponding statements with the numbers so it is clear what they each mean.\n",
    "\n",
    "1. Along with the printed statements from Part 4, have your code generate and display two labelled plots for `heads_exactly(n,k)` and `heads_atleast(n,k)` with $n=100$. You should have values of $k$ on the $x$-axis, and probabilities on the $y$-axis. (Note that $k$ only takes integer values from 0 to $n$, inclusive. Your plots can be connected curves or have discrete markers for each point; either is fine.)\n",
    "\n",
    "#### Output\n",
    "\n",
    "To summarize, your program should output the following things:\n",
    "\n",
    "1. The first 10 rows of Pascal's triangle\n",
    "1. The probabilities (to three decimal places) that a coin tossed 100 times comes up heads exactly 70 times, and at least 70 times, with corresponding statements so it is clear what each number signifies.\n",
    "1. Two labeled plots for `heads_exactly(n,k)` and `heads_atleast(n,k)` with $n=100$, representing probability distributions for 100 coin flips.\n",
    "\n",
    "#### Reminder\n",
    "\n",
    "Remember to write informative doc strings, comment your code, and use descriptive function and variable names so others (and future you) can understand what you're doing!\n"
   ]
  },
  {
   "cell_type": "code",
   "execution_count": null,
   "metadata": {},
   "outputs": [],
   "source": [
    "'''The numpy library has a lot of useful functions\n",
    "and we always use matplotlib for plotting, so it's \n",
    "generally a good idea to import them at the beginning.'''\n",
    "import numpy as np\n",
    "import matplotlib.pyplot as plt\n",
    "\n",
    "def factorial(n):\n",
    "    \"\"\"Returns the factorial of n\"\"\"\n",
    "    return_value = 1\n",
    "    \n",
    "    #Try using a for loop to update the return_value and calculate n!\n",
    "    \n",
    "    return return_value"
   ]
  },
  {
   "cell_type": "code",
   "execution_count": null,
   "metadata": {},
   "outputs": [],
   "source": [
    "def binomial(n, k):\n",
    "    \"\"\"Returns the binomial coefficient n choose k\"\"\"\n",
    "    \n",
    "    #Use a conditional statement to return 1 in the case k = 0\n",
    "    \n",
    "    return #Use factorial(n) to calculate the binomial coefficient\n",
    "    "
   ]
  },
  {
   "cell_type": "code",
   "execution_count": null,
   "metadata": {},
   "outputs": [],
   "source": [
    "def pascals_triangle(N):\n",
    "    \"\"\"Prints out N rows of pascal's triangle\"\"\"\n",
    "    \n",
    "    #A \"double for loop\" has been set up below; \n",
    "    #Python goes through the entire inner loop during each pass through the outer loop\n",
    "    \n",
    "    for row in range(0, N + 1):       #This is the outer loop; each pass through the loop corresponds to one row of the triangle\n",
    "        for k in range(0, row + 1):   #This is is the inner loop; each pass through the loop corresponds to a number on the row\n",
    "            #Code here is part of each inner loop iteration (i.e. print a binomial coefficient)\n",
    "        #Code here is part of the outer loop\n",
    "        \n",
    "    #This function doesn't need to return anything"
   ]
  },
  {
   "cell_type": "code",
   "execution_count": null,
   "metadata": {},
   "outputs": [],
   "source": [
    "def heads_exactly(n,k):\n",
    "    \"\"\"Returns the probability of getting k heads if you flip a coin n times\"\"\"\n",
    "    return #Use binomial(n,k) to calculate the probability\n",
    "\n"
   ]
  },
  {
   "cell_type": "code",
   "execution_count": null,
   "metadata": {},
   "outputs": [],
   "source": [
    "def heads_atleast(n,k):\n",
    "    \"\"\"Returns the probability of getting at least k heads if you flip a coin n times\"\"\"\n",
    "    total_prob = 0\n",
    "    \n",
    "    #Use a for loop and heads_exactly(n,k) to update total_prob\n",
    "    \n",
    "    return total_prob"
   ]
  },
  {
   "cell_type": "code",
   "execution_count": null,
   "metadata": {},
   "outputs": [],
   "source": [
    "#Now use your defined functions to produce the desired outputs\n",
    "#For the plots, the np.arange() function is useful for creating a numpy array of integers\n",
    "\n",
    "k_values = np.arange(1,101)  #integers from 1 to 100 (lower bound is inclusive; upper bound is exclusive)"
   ]
  },
  {
   "cell_type": "markdown",
   "metadata": {},
   "source": [
    "## Problem 2: Semi-Empirical Mass Formula\n",
    "\n",
    "[Adapted from Newman, Exercise 2.10] In nuclear physics, the semi-empirical mass formula is a formula for calculating the approximte nuclear binding energy $B$ of an atomic nucleus with atomic number $Z$ and mass number $A$:\n",
    "\n",
    "$$ B = a_V A - a_S A^{2/3} - a_C \\frac{Z^2}{A^{1/3}} - a_S \\frac{(A-2Z)^2}{A} + \\delta\\frac{a_P}{A^{1/2}}, $$\n",
    "\n",
    "where, in units of millions of electron volts (MeV), the constants are $a_V = 14.64$, $a_S = 14.08$, $a_C = 0.64$, $a_S = 21.07$, $a_P=11.54$, and\n",
    "\n",
    "$$ \\delta = \\begin{cases}\n",
    "0 & \\text{if } A \\text{ is odd,}\\\\\n",
    "+1 & \\text{if } A \\text{ and } Z \\text{ are both even,} \\\\\n",
    "-1 & \\text{if } A \\text{ is even and } Z \\text{ is odd.}\n",
    "\\end{cases} $$\n",
    "The values above are taken from D. Benzaid <i>et al.</i>, NUCL SCI TECH <b>31</b>, 9 (2020); https://doi.org/10.1007/s41365-019-0718-8\n",
    "\n",
    "\n",
    "1. Write a function `binding_energy(A, Z)` that takes as its input the values of $A$ and $Z$, and returns the binding energy for the corresponding atom. Check your function by computing the binding energy of an atom with $A = 58$ and $Z = 28$. (Hint: The correct answer is around 490 MeV.)\n",
    "\n",
    "1. Write a function `binding_energy_per_nucleon(A, Z)` which returns not the total binding energy $B$, but the binding energy per nucleon, which is $B/A$.\n",
    "\n",
    "1. Write a function `max_binding_energy_per_nucleon(Z)` which takes as input just a single value of the atomic number $Z$ and then goes through all values of $A$ from $A = Z$ to $A = 3Z$, to find the one that has the largest binding energy per nucleon. This is the most stable nucleus with the given atomic number. Have your function return the value of $A$ for this most stable nucleus and the value of the binding energy per nucleon.\n",
    "\n",
    "1. Finally, use the functions you've written to write a program which runs through all values of $Z$ from 1 to 100 and prints out the most stable value of $A$ for each one. At what value of $Z$ does the maxium binding energy per nucleon occur? (The true answer, in real life, is $Z = 28$, which is nickel. You should find that the semi-empirical mass formula gets the answer roughly right, but not exactly.)\n",
    "\n",
    "#### Output\n",
    "\n",
    "Your final output should look like\n",
    "\n",
    "    Z =   1 : most stable A is 2\n",
    "    Z =   2 : most stable A is 4\n",
    "          .\n",
    "          .\n",
    "          .\n",
    "    Z =  10 : most stable A is 20\n",
    "    Z =  11 : most stable A is 23\n",
    "          .\n",
    "          .\n",
    "          .\n",
    "    Z = 100 : most stable A is 210\n",
    "    The most stable Z is ____\n",
    "    with binding energy per nucleon ____\n",
    "\n",
    "With the ...'s and ____'s replaced with your results. The binding energy per nucleon in the last line should have three decimal places.\n",
    "\n",
    "For maximum readability, you should include the extra whitespace around the $Z =$ numbers so everything lines up, as shown. (To remember the `print` formatting syntax to do this, see Table 1.1 in the Ayars text.)\n",
    "\n",
    "#### Reminder\n",
    "\n",
    "Remember to write informative doc strings, comment your code, and use descriptive function and variable names so others (and future you) can understand what you're doing!\n"
   ]
  },
  {
   "cell_type": "code",
   "execution_count": null,
   "metadata": {},
   "outputs": [],
   "source": [
    "import numpy as np\n",
    "\n",
    "def binding_energy(A, Z):\n",
    "    \"\"\"Returns the nuclear binding energy in MeV of an atomic nucleus with atomic number Z and mass number A\"\"\"\n",
    "    aV = 14.64 \n",
    "    aS = 14.08\n",
    "    aC = 0.64\n",
    "    aS = 21.07\n",
    "    aP = 11.54\n",
    "\n",
    "    #Use conditional statements (if, elif, else) to declare the variable delta with the appropriate value\n",
    "    \n",
    "    return #Use the above formula for B, the binding energy\n",
    "\n",
    "#Now check your function by calculating the requested binding energy"
   ]
  },
  {
   "cell_type": "code",
   "execution_count": null,
   "metadata": {},
   "outputs": [],
   "source": [
    "def binding_energy_per_nucleon(A, Z):\n",
    "    \"\"\"Returns the nuclear binding energy per nucleon in MeV of an atomic nucleus with atomic number Z and mass number A\"\"\"\n",
    "    return #Use binding_energy(A, Z) and the number of nucleons"
   ]
  },
  {
   "cell_type": "code",
   "execution_count": null,
   "metadata": {},
   "outputs": [],
   "source": [
    "def max_binding_energy_per_nucleon(Z):\n",
    "    \"\"\"For atomic nucleus with atomic number Z, returns that mass number A that yields that maximum binding energy\n",
    "       per nucleon, as well as that resultant maximum binding energy per nucleon in MeV\"\"\"\n",
    "    \n",
    "    #We can make our default return value A = Z and the corresponding binding energy\n",
    "    max_A = Z\n",
    "    max_binding_energy_per_nucleon = binding_energy_per_nucleon(Z, Z)\n",
    "    \n",
    "    #Use a for loop to go from A = Z to A = 3*Z, and update the return variables if a new maximum is found\n",
    "    #A conditional statement within the loop is useful for comparing max_binding_energy_per_nucleon to a potential new maximum\n",
    "    \n",
    "    \n",
    "    return max_A, max_binding_energy_per_nucleon"
   ]
  },
  {
   "cell_type": "code",
   "execution_count": null,
   "metadata": {},
   "outputs": [],
   "source": [
    "#Now use a for loop and the function max_binding_energy_per_nucleon(Z) to print the final output"
   ]
  },
  {
   "cell_type": "markdown",
   "metadata": {},
   "source": [
    "## Problem 3: Particle in a Box\n",
    "\n",
    "[Adapted from Ayars, Problem 3-1] The energy levels for a quantum particle in a three-dimensional rectangular box of dimensions $\\{L_1, L_2, \\text{ and } L_3\\}$ are given by\n",
    "\n",
    "$$ E_{n_1, n_2, n_3} = \\frac{\\hbar^2 \\pi^2}{2m} \\left[ \\frac{n_1^2}{L_1^2} + \\frac{n_2^2}{L_2^2} + \\frac{n_3^2}{L_3^2} \\right] $$\n",
    "\n",
    "where the $n$'s are integers greater than or equal to one. Your goal is to write a program that will calculate, and list in order of increasing energy, the values of the $n$'s for the 10 lowest *different* energy levels, given a box for which $L_2 = 2L_1$ and $L_3 = 4L_1$.\n",
    "\n",
    "Your program should include two user-defined functions that you may find helpful in accomplishing your goal:\n",
    "\n",
    "1. A function `energy(n1, n2, n3)` that takes integer values $n_1$, $n_2$, and $n_3$, and computes the corresponding energy level in units of $\\hbar^2 \\pi^2/2 m L_1^2$.\n",
    "\n",
    "1. A function `lowest_unique_K(K, List)` which takes a positive integer $K$ and a list of real numbers `List`, and returns an ordered (ascending) list of the lowest $K$ unique numbers in the list `List`. For instance, `lowest_unique_K(3, [-0.5, 3, 3, 2, 6, 7, 7])` would return `[-0.5, 2, 3]`. The function should not modify the original list `List`.\n",
    "    - As with most programming puzzles, there are several ways to write this function. Depending on how you do it, you may or may not find it helpful to Google how to \"sort\" lists, or how to \"del\" or \"pop\" items out of lists.\n",
    "    \n",
    "You may also wish to make other user-defined functions depending on how you go about solving the problem. In fact, if you find some clever way to solve the problem that doesn't use `lowest_unique_K`, that is fine too! (You still need to write `lowest_unique_K`, though.) But whatever you do, be sure to comment your code clearly!\n",
    "\n",
    "#### Output\n",
    "\n",
    "Your final output should look like this (though with different numbers, and not necessarily the same number of lines):\n",
    "\n",
    "    energy, n1, n2, n3\n",
    "    (0.4375, 1, 1, 1)\n",
    "    (0.625, 1, 2, 1)\n",
    "    (0.8125, 2, 1, 1)\n",
    "    (0.9375, 1, 3, 1)\n",
    "    (1.0, 2, 2, 1)\n",
    "    (1.1875, 1, 1, 2)\n",
    "    (1.3125, 2, 3, 1)\n",
    "    (1.375, 1, 2, 2)\n",
    "    (1.375, 1, 4, 1)\n",
    "    (1.4375, 3, 1, 1)\n",
    "    (1.5625, 2, 1, 2)\n",
    "\n",
    "Notice how there are only 10 unique energies listed, but more than 10 lines. Each line could also have brackets instead of parentheses if you prefer, like this: `[0.4375, 1, 1, 1]`.\n",
    "\n",
    "#### Reminder\n",
    "\n",
    "Remember to write informative doc strings, comment your code, and use descriptive function and variable names so others (and future you) can understand what you're doing!\n",
    "\n",
    "#### Just for fun\n",
    "\n",
    "If you'd like, write a function `print_table(list_of_lists)` that takes  a list of lists (or a list of tuples) and prints them in a nicely aligned table. Feel free to Google to get ideas on how to do this. Try to get your function to produce something like\n",
    "\n",
    "    energy  n1 n2 n3\n",
    "    0.4375  1  1  1\n",
    "    0.625   1  2  1\n",
    "    0.8125  2  1  1\n",
    "    0.9375  1  3  1\n",
    "    1.0     2  2  1\n",
    "    1.1875  1  1  2\n",
    "    1.3125  2  3  1\n",
    "    1.375   1  2  2\n",
    "    1.375   1  4  1\n",
    "    1.4375  3  1  1\n",
    "    1.5625  2  1  2"
   ]
  },
  {
   "cell_type": "code",
   "execution_count": null,
   "metadata": {},
   "outputs": [],
   "source": [
    "def energy(n1, n2, n3):\n",
    "    \"\"\"Returns the n-dependent coefficient of the particle-in-a-3D-box energy level for quantum numbers n1, n2, and n3.\n",
    "    The box's lengths along dimensions 1, 2, and 3 go as L, 2*L, 4*L\"\"\"\n",
    "    return #Use the formula given above"
   ]
  },
  {
   "cell_type": "code",
   "execution_count": null,
   "metadata": {},
   "outputs": [],
   "source": [
    "import copy\n",
    "\n",
    "def lowest_unique_K(K, List):\n",
    "    \"\"\"Takes a positive integer K and a list of real numbers List, and returns an ordered (ascending) list of the lowest K unique numbers in the list List\"\"\"\n",
    "    lowest_unique_K_list = [0] * K  #This is a list of zeros (K of them)\n",
    "    #Or you may want to start with lowest_unique_K_list = [], an empty list\n",
    "    \n",
    "    copied_list = copy.copy(List)  #This gives us a copy of List; any changes you make to copied_list will not affect List\n",
    "    \n",
    "    #There's a lot of different ways to approach writing this function\n",
    "    #Try breaking it up into smaller steps and figure out what you'd like to do before writing any code\n",
    "    #If you have trouble turning logical steps into actual code, feel free to ask for help\n",
    "\n",
    "    return lowest_unique_K_list"
   ]
  },
  {
   "cell_type": "code",
   "execution_count": null,
   "metadata": {},
   "outputs": [],
   "source": [
    "#Now create a list of energies for different values of n1, n2, n3 (taking each from 1 to 10 should be sufficient)\n",
    "#Remember to keep track of the corresponding n1, n2, n3 values for each energy, since we need to print them\n",
    "#Then use lowest_unique_K(10, List) on this list of energies to find the first 10\n",
    "#Finally, print these 10 energies and their corresponding n1, n2, n3 values\n",
    "#You may find a dictionary helpful for keeping track of the association between energy values and n values"
   ]
  },
  {
   "attachments": {
    "massplot.png": {
     "image/png": "[encoded data removed]"
    }
   },
   "cell_type": "markdown",
   "metadata": {},
   "source": [
    "## Problem 4: Particle Physics Data Analysis\n",
    "\n",
    "**Also make sure you go through the workshop material on Friday, September 30, 2022, before working on this problem.**\n",
    "\n",
    "The csv file `Zmumu.csv` contains simulated data of proton proton collision events that produce Z bosons. These Z bosons, once produced, instantaneously decay into a pair of leptons. Leptons are detected and meausured by a collider detector. In this exercise, five properties of the lepton is measured: energy (E), the three spatial components of its momentum px, py, pz, and the electric charge of lepton (+1 meaning positively charged, -1 meaning negatively charged). In the csv label, the first line is a header indicating the meaning of entries. E1, px1, py1, pz1, and Q1, are the energy, px, py, pz, and charge of lepton1, respectively; similarly, E2, px2, py2, pz2, and Q2 are properties of lepton2. Each line in the csv file corresponds to a collision event. In each collision event, only one Z boson was produced.  \n",
    "\n",
    "\n",
    "You will `reconstruct` the properties of the original Z boson using measured lepton properties. We will use the conservation of energy and momentum of the physical system. Since the two leptons are products of the Z boson decay, the energy of the physical system comprised of the two leptons should be the same the energy of the Z boson. The same can be said about the momenta of the Z boson and the di-lepton system. We have the following relations:\n",
    "\n",
    "$Z \\rightarrow l^{+}l^{-}$\n",
    "\n",
    "$E_Z = E_1 + E_2$\n",
    "\n",
    "$\\vec{p_Z} = \\vec{p_1} + \\vec{p_2}$ where $\\vec{p_1}$ and $\\vec{p_2}$ are the momenta of the lepton 1 and lepton2, respectively. \n",
    "\n",
    "Energy and momentum have the following relation\n",
    "\n",
    "$E^{2} = m^{2} + |\\vec{p}|^2$\n",
    "\n",
    "(here we use natural units https://en.wikipedia.org/wiki/Natural_units#Natural_units_(particle_and_atomic_physics) in practice, mass, energy, and momentum are treated as quantitites with the same dimension.) \n",
    "\n",
    "\n",
    "What these equations tell you is that you can use the measured energies and momenta of leptons to derive the original Z boson energy and momentum. Then, the Z boson mass can be calculated from its energy and momentum.\n",
    "\n",
    "\n",
    "Problem specific requirements\n",
    "- ##### Part 1: Loading data in the csv file (Zmumu.csv) to a numpy array\n",
    "- ##### Part 2: Define functions that calculate the following quantities\n",
    "    - mass $m = \\sqrt{E^2 - |\\vec{p}|^2}$ . Note that $|\\vec{p}|^2$ is simply $p_{x}^{2} + p_{y}^{2} + p_{z}^{2}$\n",
    "    - transverse momentum $p_{T} = \\sqrt{p_{x}^2 + p_{y}^{2}} $ . $p_{T}$ is the projection of the particle momentum to the x-y plane (in particle physics, known as the `transverse plane`). We'll use p_T for transverse momentum for simplicity.\n",
    "    - the polar angle of the particle $\\theta = arccos(p_z / |\\vec{p}|) $ \n",
    "    - the azmuthal angle of the particle $\\phi = arccos(p_x/p_T)$ if $p_y > 0$, $\\phi = 2\\pi - arccos(p_x/p_T)$ if $p_y < 0$\n",
    "    - the pseudorapidty of the particle $\\eta = log_{e}(tan\\frac{\\theta}{2})$\n",
    "- ##### Part 3: Draw distributions of mass, transverse momentum, polar angle, azmuthal angle of the Z boson\n",
    "    - The distribution is drawn as a histogram. For example, you may use the hist method of matplotlib.pyplot\n",
    "    - The x and y axes must be labeled. For all plots here, the y axis should have a label of 'Number of Entries', and the x axis label is given below:\n",
    "        - 'Z boson mass [GeV]'\n",
    "        - 'Z boson transverse momentum [GeV]'\n",
    "        - 'Z boson polar angle [rad]'\n",
    "        - 'Z boson pseudorapidity'\n",
    "- ##### Part 4: Draw the same set of distributions as Part 3, but this time, only keep collision events where both leptons have a transverse momentum (p_T) value greater than 30 GeV (the px, py, pz entries in the csv file have a unit of GeV, and therefore your derived p_T values will have a unit of GeV.\n",
    "        - Your output plot(s) should look like this:\n",
    "![massplot.png](attachment:massplot.png)\n",
    "        - Don't forget that you have five distributions to produce! Not just the mass distribution. Make sure they are all properly labeled. Each plot must have x and y labels, and the unit of a quantity must be shown as part of the axis label."
   ]
  },
  {
   "cell_type": "markdown",
   "metadata": {},
   "source": [
    "**Part 1 Loading data from cvs file to a numpy array**"
   ]
  },
  {
   "cell_type": "code",
   "execution_count": null,
   "metadata": {},
   "outputs": [],
   "source": [
    "# develop your code here"
   ]
  },
  {
   "cell_type": "markdown",
   "metadata": {},
   "source": [
    "**Part 2 Define functions**"
   ]
  },
  {
   "cell_type": "code",
   "execution_count": null,
   "metadata": {},
   "outputs": [],
   "source": [
    "# develop your code here\n",
    "def mass (px, py, pz):\n",
    "    \n",
    "    \n",
    "def pt(px , py):\n",
    "    \n",
    "def theta(px, py, pz):\n",
    "    \n",
    "def eta(px , py, pz):\n",
    "    \n",
    "def phi(px, py):    \n",
    "    "
   ]
  },
  {
   "cell_type": "markdown",
   "metadata": {},
   "source": [
    "**Part 3 Drawing distributions as histograms**"
   ]
  },
  {
   "cell_type": "code",
   "execution_count": null,
   "metadata": {},
   "outputs": [],
   "source": [
    "# develop your code here"
   ]
  },
  {
   "cell_type": "markdown",
   "metadata": {},
   "source": [
    "**Part 4 Drawing distributions for events with both leptons having $p_T$ > 30 GeV** "
   ]
  },
  {
   "cell_type": "code",
   "execution_count": null,
   "metadata": {},
   "outputs": [],
   "source": [
    "# develop your code here"
   ]
  }
 ],
 "metadata": {
  "kernelspec": {
   "display_name": "Python 3 (ipykernel)",
   "language": "python",
   "name": "python3"
  },
  "language_info": {
   "codemirror_mode": {
    "name": "ipython",
    "version": 3
   },
   "file_extension": ".py",
   "mimetype": "text/x-python",
   "name": "python",
   "nbconvert_exporter": "python",
   "pygments_lexer": "ipython3",
   "version": "3.9.13"
  }
 },
 "nbformat": 4,
 "nbformat_minor": 4
}
