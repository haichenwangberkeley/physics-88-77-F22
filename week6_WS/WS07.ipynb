{
 "cells": [
  {
   "cell_type": "markdown",
   "id": "42b591fd",
   "metadata": {},
   "source": [
    "# Workshop 7, Friday, October 7, 2022\n",
    "\n",
    "**The homework should be submitted on bCourses under the Assignments tab (both the .ipynb and .pdf files). Please label it by your student ID number (SIS ID)**\n",
    "\n",
    "In this workshop, we will continue to practice numpy array operations, and we will also practice with data visualization. \n",
    "\n",
    "The first exercise is related to the problem 4 of HW03. This should also help with your homework. The second exercise is partly a tribute to Stuart Freedman and John Clauser, whose pioneering work on testing Bell's inequality was recognized by a Nobel Prize in Physics to John Clauser in 2022. "
   ]
  },
  {
   "cell_type": "code",
   "execution_count": null,
   "id": "62bad3e0",
   "metadata": {},
   "outputs": [],
   "source": [
    "import numpy as np\n",
    "import matplotlib.pyplot as plt"
   ]
  },
  {
   "cell_type": "markdown",
   "id": "ef8e0684",
   "metadata": {},
   "source": [
    "This cell contains instructions for running this notebook on Google Colab. Skip this and next cell if you run the notebook on datahub.berkeley.edu\n",
    "#### Google Colab as a fallback\n",
    "\n",
    "In the event where we have problems with datahub, we would use google colab as a backup solution. \n",
    "\n",
    "- This notebook is available at the following github location https://github.com/haichenwangberkeley/physics-88-77-F22/blob/main/week6_WS/WS07.ipynb\n",
    "\n",
    "- Log on to https://colab.research.google.com/ with your berkeley.edu credential\n",
    "\n",
    "- in the pop-up window, click the GitHub tab and paste the Github link, and your notebook should be loaded\n",
    "\n",
    "- if you don't see the pop-up window, then on the upper left corner, click `File` and in the dropdown menu select `Open notebook`, then you will see the pop-up window with GitHub as an option.\n",
    "\n",
    "- on Google Colab, you will also need to execute the cell below to collect all the csv files needed for this notebook.\n",
    "\n",
    "- **Once you have opened the notebook, you must go back to the File tab on the upper left corner of the browser and select `Save a copy in Drive`.** This would create your personal copy of the notebook in your Google Drive. Otherwise, you would be working on the notebook in GitHub, to which you do not have the permission to save your execution results."
   ]
  },
  {
   "cell_type": "code",
   "execution_count": null,
   "id": "c98c6a2a",
   "metadata": {},
   "outputs": [],
   "source": [
    "import os\n",
    "os.system(\"wget https://portal.nersc.gov/project/m3438/physics77/week6/'Updated Measured Data.csv'\")\n",
    "os.system(\"wget https://portal.nersc.gov/project/m3438/physics77/week6/'QM prediction at nine measured points.csv'\")\n",
    "os.system(\"wget https://portal.nersc.gov/project/m3438/physics77/week6/'QM prediction.csv'\")\n",
    "os.system(\"wget https://portal.nersc.gov/project/m3438/physics77/week6/'Zmumu.csv'\")\n",
    "\n",
    "%ls -tlr"
   ]
  },
  {
   "cell_type": "markdown",
   "id": "034405a5",
   "metadata": {},
   "source": [
    "## Exercise 1\n",
    "In this exercise, we will continue to analyze the data sample of $Z \\rightarrow \\mu\\mu$ events, which was shown in Monday's lecture and is also part of HW03. \n",
    "\n",
    "The specific objective of this exercise is to plot the $\\phi$ distribution of the dimuon system and practice with basics of data visualization.\n",
    "- You will create a distribtuion of the $\\phi$ of the dimuon system, working on cosmetics (including labeling, binning, styles of entries, legend, etc.)\n",
    "- You will make a `shape comparison`, where you normalize two distributions with differet normalizations to the same area so that you can compare their shapes."
   ]
  },
  {
   "attachments": {},
   "cell_type": "markdown",
   "id": "76bc0d66",
   "metadata": {},
   "source": [
    "### Background background\n",
    "This markdown cell contains an excerpt from Problem 4 Homework 3\n",
    "\n",
    "The csv file `Zmumu.csv` contains simulated data of proton proton collision events that produce Z bosons. These Z bosons, once produced, instantaneously decay into a pair of leptons. Leptons are detected and meausured by a collider detector. In this exercise, five properties of the lepton is measured: energy (E), the three spatial components of its momentum px, py, pz, and the electric charge of lepton (+1 meaning positively charged, -1 meaning negatively charged). In the csv label, the first line is a header indicating the meaning of entries. E1, px1, py1, pz1, and Q1, are the energy, px, py, pz, and charge of lepton1, respectively; similarly, E2, px2, py2, pz2, and Q2 are properties of lepton2. Each line in the csv file corresponds to a collision event. In each collision event, only one Z boson was produced.  \n",
    "\n",
    "\n",
    "You will `reconstruct` the properties of the original Z boson using measured lepton properties. We will use the conservation of energy and momentum of the physical system. Since the two leptons are products of the Z boson decay, the energy of the physical system comprised of the two leptons should be the same the energy of the Z boson. The same can be said about the momenta of the Z boson and the di-lepton system. We have the following relations:\n",
    "\n",
    "$Z \\rightarrow l^{+}l^{-}$\n",
    "\n",
    "$E_Z = E_1 + E_2$\n",
    "\n",
    "$\\vec{p_Z} = \\vec{p_1} + \\vec{p_2}$ where $\\vec{p_1}$ and $\\vec{p_2}$ are the momenta of the lepton 1 and lepton2, respectively. \n",
    "\n",
    "Energy and momentum have the following relation\n",
    "\n",
    "$E^{2} = m^{2} + |\\vec{p}|^2$\n",
    "\n",
    "(here we use natural units https://en.wikipedia.org/wiki/Natural_units#Natural_units_(particle_and_atomic_physics) in practice, mass, energy, and momentum are treated as quantitites with the same dimension.) \n",
    "\n",
    "\n",
    "What these equations tell you is that you can use the measured energies and momenta of leptons to derive the original Z boson energy and momentum. Then, the Z boson mass can be calculated from its energy and momentum.\n",
    "\n",
    "#### Useful relations\n",
    "\n",
    "   - mass $m = \\sqrt{E^2 - |\\vec{p}|^2}$ . Note that $|\\vec{p}|^2$ is simply $p_{x}^{2} + p_{y}^{2} + p_{z}^{2}$\n",
    "   - transverse momentum $p_{T} = \\sqrt{p_{x}^2 + p_{y}^{2}} $ . $p_{T}$ is the projection of the particle momentum to the x-y plane (in particle physics, known as the `transverse plane`). We'll use p_T for transverse momentum for simplicity.\n",
    "   - the polar angle of the particle $\\theta = arccos(p_z / |\\vec{p}|) $ \n",
    "   - the azmuthal angle of the particle: \n",
    "       - $\\phi = arccos(p_x/p_T)$ if $p_y > 0$\n",
    "       - $\\phi = 2\\pi - arccos(p_x/p_T)$ if $p_y < 0$\n",
    "   - the pseudorapidty of the particle $\\eta = log_{e}(tan\\frac{\\theta}{2})$\n",
    "\n",
    "**Also check out the sketch below**\n",
    "<div>\n",
    "<img src=\"https://portal.nersc.gov/project/m3438/physics77/week6/coordinate_system.png\" width=\"500\"/>\n",
    "</div>\n",
    "\n",
    "\n",
    "Note that in this exercise and the homework03, we use the terms \"lepton\" and \"muon\" interchangeably. In the Standard Model of particle physics, muons are a type of leptons."
   ]
  },
  {
   "cell_type": "markdown",
   "id": "df3b236f",
   "metadata": {},
   "source": [
    "###  Your coding development starts here\n",
    "\n",
    "### Loading data\n",
    "In the cell below, use `%cat` to print out the content of `Zmumu.csv`, examine the header (first line) of the file, and understand the meaning and ordering of the entries."
   ]
  },
  {
   "cell_type": "code",
   "execution_count": null,
   "id": "7f5b8f2b",
   "metadata": {},
   "outputs": [],
   "source": [
    "# Use %cat to print out Zmumu.csv\n",
    "# Check out the header of the file and understand what are these entries"
   ]
  },
  {
   "cell_type": "markdown",
   "id": "809d5033",
   "metadata": {},
   "source": [
    "Now, load data in the `Zmumu.csv` to a numpy array, named as data\n",
    "- specify the delimiter \n",
    "- skip the first row of Zmumu.csv, which is the header\n",
    "- do a printout of the numpy array and see the typical values and ranges of the entries"
   ]
  },
  {
   "cell_type": "code",
   "execution_count": null,
   "id": "1637766f",
   "metadata": {},
   "outputs": [],
   "source": [
    "# Your code loading the csv file and creating the numpy array -\n",
    "# What methods from numpy can you use to load data from a csv file?\n"
   ]
  },
  {
   "cell_type": "markdown",
   "id": "924ad7ae",
   "metadata": {},
   "source": [
    "### Build the four momentum of the dimuon system\n",
    "The numpy array `data` should have a shape of (2304,10), indicating that there are 2304 collision events of $Z \\rightarrow \\mu\\mu$. The first five entries on the axis 1 are from the same muon, and the next five entries on the axis 1 are from the other muon. So we create two separate arrays for these muons."
   ]
  },
  {
   "cell_type": "code",
   "execution_count": null,
   "id": "221dad50",
   "metadata": {},
   "outputs": [],
   "source": [
    "# Pay attention to the indices\n",
    "# muon 1 is done for you\n",
    "muon1 = data[:,0:5]\n",
    "\n",
    "# fix the line below\n",
    "muon2 = data[   ]"
   ]
  },
  {
   "cell_type": "markdown",
   "id": "8a958cc7",
   "metadata": {},
   "source": [
    "Since the operation between two numpy arrays is also implemented element-wise, we can simply add the two muon numpy arrays together to get the numpy array representing the dimuon system. In the newly created array `dimuon`, the entries on the axis 1 are px, py, pz, E, and Q of the dimuon system.   "
   ]
  },
  {
   "cell_type": "code",
   "execution_count": null,
   "id": "e327de57",
   "metadata": {},
   "outputs": [],
   "source": [
    "dimuon = muon1 + muon2\n",
    "\n",
    "# write codes to check out the shape, dimension, and size of \n",
    "# dimuon, muon1 and muon2\n",
    "\n"
   ]
  },
  {
   "cell_type": "markdown",
   "id": "7b358486",
   "metadata": {},
   "source": [
    "### Calculate the $\\phi$ variable of dimuon system\n",
    "Now, define the function that calculates the $\\phi$ angle of a particle. You should have already defined it in your last workshop\n",
    " - recall \n",
    "     - $\\phi = arccos(p_x/p_T), $ if $ p_y > 0 $ ; \n",
    "     - $ \\phi = 2\\pi - arccos(p_x/p_T),  $if$  p_y \\leq 0 $\n",
    "     - where $p_T = \\sqrt{p_x^2 + p_y^2} $\n",
    "\n",
    "Here I am giving you a partial answer. It should be straightforward for you to fix it. "
   ]
  },
  {
   "cell_type": "code",
   "execution_count": null,
   "id": "26f79eec",
   "metadata": {},
   "outputs": [],
   "source": [
    "# What's wrong in the pt function? can you fix it?\n",
    "# This implementation of the pT function was taken \n",
    "# from one of your WS06 submissions last week\n",
    "def pt(px,py):\n",
    "    np.sqrt(px**2+py**2)\n",
    "\n",
    "    \n",
    "# This definition of phi function would be numpy friendly.\n",
    "# There is one line that needs to be fixed\n",
    "# Make sure you are familiar with the np.where method,\n",
    "# which we practiced last week\n",
    "def phi(px, py):\n",
    "    value = np.arccos(px/pt(px,py))\n",
    "    value_2pi = 2*np.pi - np.arccos(px/pt(px,py))\n",
    "    # can you fix the line below \n",
    "    value[        ] = value_2pi[         ]\n",
    "    return value"
   ]
  },
  {
   "cell_type": "markdown",
   "id": "9e138ade",
   "metadata": {},
   "source": [
    "Now calculate the phi values for the dimuon system\n",
    "- it is always a good practice to perform a sanity check of the returning value of your function\n",
    "    - print the first 100 entries in the axis 0 of dimuon_phi\n",
    "    - print the shape, dimension, and size of dimuon_phi"
   ]
  },
  {
   "cell_type": "code",
   "execution_count": null,
   "id": "8eb10085",
   "metadata": {},
   "outputs": [],
   "source": [
    "# complete this line\n",
    "dimuon_phi = phi( )\n",
    "\n",
    "# how would you print the first 100 entries in the axis 0 of dimuon_phi?\n",
    "print(dimuon_phi[  ])\n",
    "\n",
    "#print the shape, dimension, and size of dimuon_phi\n",
    "\n"
   ]
  },
  {
   "cell_type": "markdown",
   "id": "25339dfd",
   "metadata": {},
   "source": [
    "### Plot the $\\phi$ distribution of the dimuon system\n",
    "- the x range should be (0, 2*pi) \n",
    "- set number of bins to 20\n",
    "- label x and y axes\n",
    "- Set histtype to step\n",
    "- Set the color of the histogram to red\n",
    "- Add a legend. The phi distribution should have a label of 'Dimuon system'\n",
    "\n",
    "Your final product shoud look like this plot\n",
    "<div>\n",
    "<img src=\"https://portal.nersc.gov/project/m3438/physics77/week6/phidimuon.png\" width=\"300\"/>\n",
    "</div>\n",
    "\n",
    "\n",
    "\n",
    "\n",
    "**A skeleton of this plotting code is available in the next cell. You just need to fill in the missing parts.**\n"
   ]
  },
  {
   "cell_type": "code",
   "execution_count": null,
   "id": "8b6ad832",
   "metadata": {},
   "outputs": [],
   "source": [
    "# Complete this line\n",
    "plt.hist(dimuon_phi,bins=  ,range=, histtype= ,color= , label=)\n",
    "\n",
    "# You also need to set the x axis range\n",
    "plt.xlim(  )\n",
    "\n",
    "# Adjust y axis range so that the legend and histogram do not overlap\n",
    "plt.ylim(  )\n",
    "\n",
    "\n",
    "# Number of entries or fraction of entries?\n",
    "plt.ylabel()\n",
    "\n",
    "# Type in greek letter phi\n",
    "plt.xlabel()\n",
    "\n",
    "# Fix the line below\n",
    "plt.legend"
   ]
  },
  {
   "cell_type": "markdown",
   "id": "d0a1cafb",
   "metadata": {},
   "source": [
    "### Plot the $\\phi$ distributions from two sub sets of the sample\n",
    "\n",
    "Now we divide the sample (the numpy array dimuon_phi) into two sub sets. The subset 1 has the first 300 entries from dimuon_phi, and the subset 2 has the rest of the dimuon_phi ()\n"
   ]
  },
  {
   "cell_type": "code",
   "execution_count": null,
   "id": "30301f4b",
   "metadata": {},
   "outputs": [],
   "source": [
    "# Complete the lines below\n",
    "subset1 = dimuon_phi[ ]\n",
    "subset2 = dimuon_phi[ ]\n"
   ]
  },
  {
   "cell_type": "markdown",
   "id": "cd666cbb",
   "metadata": {},
   "source": [
    "Draw the phi distributions from both subsets on the same plot. \n",
    "- Use 20 bins and a range of (0,2*pi)\n",
    "- set the line styles (solid, dashed, dotted, etc.) of the two histograms differently\n",
    "- add a legend\n",
    "- Use step as the histtype\n",
    "- label x and y axes\n",
    "- remove the boundary/frame line of the legend\n",
    "\n",
    "**Your product should look like the plot attached below -**\n",
    "<div>\n",
    "<img src=\"https://portal.nersc.gov/project/m3438/physics77/week6/phi2dist.png\" width=\"300\"/>\n",
    "</div>\n"
   ]
  },
  {
   "cell_type": "code",
   "execution_count": null,
   "id": "307e8980",
   "metadata": {},
   "outputs": [],
   "source": [
    "#Draw the phi distributions from both subsets on the same plot\n",
    "plt.hist(subset1,bins=, range=(),histtype=,color='black',label=)\n",
    "plt.hist(subset2,bins=, range=,histtype=,color='black',linestyle=,label=)\n",
    "\n",
    "plt.xlim(0, )\n",
    "\n",
    "plt.xlabel()\n",
    "\n",
    "plt.ylabel()\n",
    "\n",
    "# How do your turn off the outline of the legend?\n",
    "plt.legend(frameon=)"
   ]
  },
  {
   "cell_type": "markdown",
   "id": "2e3e9407",
   "metadata": {},
   "source": [
    "In order to compare the shape of these two distributions, we normalize both distributions to 1, which means the integral of the histogram (or the area under the histogram) is 1. This can be done by turning on the density option in the hist method. You've seen this from the lecture on Monday.\n",
    "- since we are plotting normalized distributions, the y title should be changed to \"fraction of entries\"\n",
    "- adjust the y range so that the legend and histograms are not overlapping\n"
   ]
  },
  {
   "cell_type": "code",
   "execution_count": null,
   "id": "c83243c4",
   "metadata": {},
   "outputs": [],
   "source": [
    "# develop your code here\n",
    "# Hint - this cell should be largely the same as the previous cell\n"
   ]
  },
  {
   "cell_type": "markdown",
   "id": "212e26d7",
   "metadata": {},
   "source": [
    "## Exercise 2: Replicating Figure 3 of Freedman and Clauser paper\n",
    "\n",
    "On Tuesday, October 4, 2022, we woke up to the news that the 2022 Nobel Prize in Physics was awarded to three physicists, “for experiments with entangled photons, establishing the violation of Bell inequalities and pioneering quantum information science”. One of the experiments recognized by this year's Nobel Prize in Physics was conducted in 1971 by Berkeley physicists Stuart Freedman and John Clauser, and the latter won the Nobel Prize this year. Prof. Freedman taught at UC Berkeley and passed away in 2012. Their pioneering work was published by Phys. Rev. Letters (https://doi.org/10.1103/PhysRevLett.28.938) and it was also the Ph.D. project of Stuart Freedman, who at the time was a graduate student at our department. Check out this news article about Freedman and Clauser's experiment at Berkeley https://news.berkeley.edu/2022/10/04/physics-nobel-recognizes-berkeley-experiment-on-spooky-action-at-a-distance/\n",
    "\n",
    "In this exercise, we will reproduce the most important figure in Freedman and Clauser's 1971 paper (often colloquially knonw as the \"money plot\"), with matplotlib. We will also pratice some numpy operation and making ratio and residual plots.\n",
    "\n",
    "\n",
    "The plot shown below is the Figure 3 of Freedman and Clauser's paper (https://doi.org/10.1103/PhysRevLett.28.938). It shows the R($\\phi$), the coincidence rate for two photon detection, as a function of the angle $\\phi$ between the planes of photon linear polarization. While you are encouraged to read their paper for details of the experiment, here you do not have to know the underlying physics to complete this exercise.\n",
    "\n",
    "<div>\n",
    "<img src=\"https://portal.nersc.gov/project/m3438/physics77/week6/originalFreedman.png\" width=\"300\"/>\n",
    "</div>\n",
    "\n",
    "### Description of the exercise\n",
    "I used an online data digitizer to obtain the data points and curve from Figure 3 of Freedman and Clauser's seminal paper (https://doi.org/10.1103/PhysRevLett.28.938). The quantum mechanics prediction is saved as a series of points in the file `QM prediction.csv`, and the measured data points are saved in `Updated Measured Data.csv`. The two cells below load data from these files and plot the measurements and prediction on the same figure. \n",
    "\n",
    "Your task is to use the code I developed to replcate the ATLAS $H \\rightarrow \\gamma\\gamma$ mass plot as a reference, to reproduce the plot attached here. You can find my example code in the notebook of Lecture 5, released on October 3, 2022.\n",
    "\n",
    "- specifically, you need to produce a plot with a ratio panel and a plot with a residual panel.\n",
    "\n",
    "- **your plot should have the same axis labels, line and marker styles, legend, colors, text labels, lines, etc. as my examples shown below.**\n",
    "\n",
    "- to get the prediction values at the nine angular points where measurements were made, you can load the data from `QM prediction at nine measured points.csv`. This would allow you to calculate the residual (measured data - prediction)."
   ]
  },
  {
   "cell_type": "markdown",
   "id": "b17c0e24",
   "metadata": {},
   "source": [
    "## The required output of the plot with a ratio panel\n",
    "<div>\n",
    "<img src=\"https://portal.nersc.gov/project/m3438/physics77/week6/StuartClauser_Ratio.png\" width=\"300\"/>\n",
    "</div>\n",
    "\n"
   ]
  },
  {
   "cell_type": "markdown",
   "id": "4616f512",
   "metadata": {},
   "source": [
    "## The required output of the plot with a residual panel\n",
    "\n",
    "<div>\n",
    "<img src=\"https://portal.nersc.gov/project/m3438/physics77/week6/StuartClauser_residual.png\" width=\"300\"/>\n",
    "</div>\n"
   ]
  },
  {
   "cell_type": "code",
   "execution_count": null,
   "id": "9f428840",
   "metadata": {},
   "outputs": [],
   "source": [
    "# This file contains the measurements of R(phi)/R0 at nine different values in phi ( phi = np.linspace(0,90,9))\n",
    "data=np.loadtxt('Updated Measured Data.csv', delimiter=',')\n",
    "\n",
    "# This file contains a series of ponits of (phi, R(phi)/R0) with small step size in phi. \n",
    "# Use points from this file to create a continuous curve with plt.plot method\n",
    "prediction_fine = np.loadtxt('QM prediction.csv', delimiter=',')\n",
    "\n",
    "# This file contains a series of ponits of (phi, R(phi)/R0) at the nine phi values where measurements were made\n",
    "# Use this file and the measured data file to create residual or ratio\n",
    "prediction_coarse = np.loadtxt('QM prediction at nine measured points.csv', delimiter=',')\n",
    "\n",
    "plt.scatter(data[:,0],data[:,1])\n",
    "plt.plot(prediction_fine[:,0],prediction_fine[:,1])\n",
    "\n"
   ]
  },
  {
   "cell_type": "markdown",
   "id": "d6bac90e",
   "metadata": {},
   "source": [
    "### Your coding development starts here\n",
    "#### Make the plot with a residual panel"
   ]
  },
  {
   "cell_type": "code",
   "execution_count": null,
   "id": "f80e2a6b",
   "metadata": {},
   "outputs": [],
   "source": [
    "# calculate the residual.\n",
    "# the input are the two numpy arrays defined above, data and prediction_coarse\n",
    "# the returning argument should be an numpy array of shape (9,2). \n",
    "# The first entry of axis 1 is the phi angle where the measurements were made\n",
    "# In other words, residual[:,0] should be the same as data[:,0] and prediction_coarse[:,1]\n",
    "# The second entry of axis is the residual defined as (data - prediction)\n",
    "\n",
    "def residual(x,y):\n",
    "\n",
    "    return "
   ]
  },
  {
   "cell_type": "code",
   "execution_count": null,
   "id": "4d95f0d1",
   "metadata": {},
   "outputs": [],
   "source": [
    "# develop your plotting code here\n"
   ]
  },
  {
   "cell_type": "markdown",
   "id": "ea82b2a7",
   "metadata": {},
   "source": [
    "#### Make the plot with a ratio panel"
   ]
  },
  {
   "cell_type": "code",
   "execution_count": null,
   "id": "cd8a0e57",
   "metadata": {},
   "outputs": [],
   "source": [
    "# calculate the ratio.\n",
    "# the input are the two numpy arrays defined above, data and prediction_coarse\n",
    "# the returning argument should be an numpy array of shape (9,2). \n",
    "# The first entry of axis 1 is the phi angle where the measurements were made\n",
    "# In other words, residual[:,0] should be the same as data[:,0] and prediction_coarse[:,1]\n",
    "# The second entry of axis is the ratio defined as (data/prediction)\n",
    "\n",
    "def ratio(x,y):\n",
    "    \n",
    "    return\n"
   ]
  },
  {
   "cell_type": "code",
   "execution_count": null,
   "id": "9c6d21bd",
   "metadata": {},
   "outputs": [],
   "source": [
    "# develop your plotting code here\n"
   ]
  },
  {
   "cell_type": "markdown",
   "id": "d5447188",
   "metadata": {},
   "source": [
    "Congrats! You have completed the workshop!\n",
    "\n"
   ]
  }
 ],
 "metadata": {
  "kernelspec": {
   "display_name": "Python 3 (ipykernel)",
   "language": "python",
   "name": "python3"
  },
  "language_info": {
   "codemirror_mode": {
    "name": "ipython",
    "version": 3
   },
   "file_extension": ".py",
   "mimetype": "text/x-python",
   "name": "python",
   "nbconvert_exporter": "python",
   "pygments_lexer": "ipython3",
   "version": "3.9.13"
  }
 },
 "nbformat": 4,
 "nbformat_minor": 5
}
