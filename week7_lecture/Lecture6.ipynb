{
 "cells": [
  {
   "cell_type": "markdown",
   "id": "52314e22",
   "metadata": {},
   "source": [
    "# Lecture 6\n",
    "**The main material is included in the slides.**\n",
    "\n",
    "We will go through the lecture slides first. Then we run through the demos in reversed order.\n",
    "\n",
    "- von Neumann accept and reject method\n",
    "- Cumulative Distribution Function \n",
    "- Linear Congruent Random Number generator\n",
    "- Coin Toss and Binomial Distribution\n",
    "- Poisson Distriubtion\n",
    "- Gaussian Distribution and Central Limit Theorem"
   ]
  },
  {
   "cell_type": "markdown",
   "id": "d75b0edf",
   "metadata": {},
   "source": [
    "# von Neumann accept and reject method\n",
    "\n",
    "My customized PDF is defined as\n",
    "$$ f(x) = \\frac{x sin(3x)}{ \\int_{0}^{1} x sin(3x) dx}$$\n",
    "the denominator is needed so that the PDF is normalized to 1"
   ]
  },
  {
   "cell_type": "code",
   "execution_count": null,
   "id": "cd464639",
   "metadata": {},
   "outputs": [],
   "source": [
    "import numpy as np\n",
    "import matplotlib.pyplot as plt"
   ]
  },
  {
   "cell_type": "code",
   "execution_count": null,
   "id": "4ae09438",
   "metadata": {
    "scrolled": true
   },
   "outputs": [],
   "source": [
    "def f(x):\n",
    "    return x*np.sin(3.14*x)\n",
    "x=np.linspace(0,1,1000000)\n",
    "y=f(x)\n",
    "\n",
    "#Integrate over x to get the Area Under the Curve\n",
    "# sum( y_i * delta_x ) over i = 0 , 1, 2, ..., 1000000\n",
    "# delta_x = 1e-6\n",
    "\n",
    "AUC = np.sum(y)/1000000\n",
    "print('Area under the Curve is %4.3f'% AUC)\n",
    "plt.plot(x,y/AUC)\n",
    "plt.xlabel('random variable x')\n",
    "plt.ylabel('probability / bin width = 1e-6')\n",
    "plt.text(0.01,1.7,\"$ f(x) = \\\\frac{x sin(3x)}{ \\int_{0}^{1} x sin(3x) dx}$\",fontsize=20)\n",
    "print('The maximum value on the curve after normalized to AUC %4.3f'%np.max(y/AUC))"
   ]
  },
  {
   "cell_type": "markdown",
   "id": "8c815482",
   "metadata": {},
   "source": [
    "The h(x) is a uniform distribution between 0 and 1. Two h(x) functions are defined, one for numpy array inputs and another for scalar input"
   ]
  },
  {
   "cell_type": "code",
   "execution_count": null,
   "id": "181f7a19",
   "metadata": {},
   "outputs": [],
   "source": [
    "def hx(x):\n",
    "    return np.ones_like(x)\n",
    "\n",
    "def hx_scalar(x):\n",
    "    return 1\n",
    "\n",
    "# at each point the hx value is 1, so that when integrate over 1e6 bins\n",
    "# with bin width = 1e-6, the area under the curve is 1."
   ]
  },
  {
   "cell_type": "code",
   "execution_count": null,
   "id": "cfea9784",
   "metadata": {},
   "outputs": [],
   "source": [
    "# Compute the y values of the h(x)\n",
    "y2 = hx(x)\n",
    "print(np.sum(y2))\n",
    "print(np.max(y2))\n",
    "\n",
    "# incorporating C to h(x)\n",
    "# the new values of y2 are C*h(x)\n",
    "C_factor = 2\n",
    "y2=C_factor*y2"
   ]
  },
  {
   "cell_type": "code",
   "execution_count": null,
   "id": "9c959bfd",
   "metadata": {},
   "outputs": [],
   "source": [
    "plt.plot(x,y2,linestyle='dashed', label=\"$Ch(x)$\")\n",
    "plt.plot(x,y/AUC,linestyle='solid',color='black',label=\"Target PDF\")\n",
    "plt.xlabel('random variable x')\n",
    "plt.ylabel('probability / bin width = 1e-6')\n",
    "plt.legend()"
   ]
  },
  {
   "cell_type": "code",
   "execution_count": null,
   "id": "3880d3f7",
   "metadata": {},
   "outputs": [],
   "source": [
    "# Now let's perform the sampling\n",
    "# an empty list data is created\n",
    "# a for loop wiht 1e5 iterations is used\n",
    "# in each iteration, the first thing is to \n",
    "# draw two random numbers, x from h(x), u from uniform\n",
    "# my h(x) was conveniently chosen to a uniform\n",
    "data=[]\n",
    "for i in range(100000):\n",
    "    r_from_hx = x[np.random.randint(1,1000000)]\n",
    "    u = np.random.random()\n",
    "    # So i draw two uniform numbers\n",
    "    # the one for r_from_hx, is a bin index, since \n",
    "    # my original x sequence is uniformally spaced between \n",
    "    # 0 and 1 with 1e6 steps\n",
    "    \n",
    "    # Sanity check, commented out when not needed\n",
    "    #print(u*2*0.000001, f(r_from_hx)/AUC)\n",
    "    \n",
    "    # Check accept reject condition\n",
    "    if u*2*1 < f(r_from_hx)/AUC:\n",
    "        data.append(r_from_hx)\n",
    "\n",
    "\n",
    "data=np.array(data)    "
   ]
  },
  {
   "cell_type": "code",
   "execution_count": null,
   "id": "fcefdea1",
   "metadata": {
    "scrolled": true
   },
   "outputs": [],
   "source": [
    "plt.hist(data,bins=100,density = 1, range=(0,1),label=\"Generated Random Distribution\")\n",
    "plt.plot(x,y/AUC,label=\"Original PDF\")\n",
    "plt.legend()\n",
    "plt.ylabel(\"Fraction of entries\")\n",
    "plt.xlabel(\"Random variable x\")"
   ]
  },
  {
   "cell_type": "markdown",
   "id": "4c830383",
   "metadata": {},
   "source": [
    "# Cumulative Distribution Function\n",
    "$$F(a) = \\int_{-\\infty}^{a} f(x)dx$$"
   ]
  },
  {
   "cell_type": "code",
   "execution_count": null,
   "id": "76a059cd",
   "metadata": {},
   "outputs": [],
   "source": [
    "rng = np.random.default_rng()\n"
   ]
  },
  {
   "cell_type": "code",
   "execution_count": null,
   "id": "7752243e",
   "metadata": {},
   "outputs": [],
   "source": [
    "dataG = rng.normal(125,2,size=10000)"
   ]
  },
  {
   "cell_type": "code",
   "execution_count": null,
   "id": "d409e132",
   "metadata": {
    "scrolled": true
   },
   "outputs": [],
   "source": [
    "fig, axs = plt.subplots(2,1,figsize=(8,6), gridspec_kw={'height_ratios': [1, 1]})\n",
    "\n",
    "plt.subplot(211)\n",
    "bincontent, bins, others = plt.hist(dataG,density=True, bins=200, range=(115,135))\n",
    "plt.xlabel('Normally distributed variable x')\n",
    "plt.ylabel('Probability/Bin Width (= 0.1)')\n",
    "plt.yscale('log')\n",
    "y=[]\n",
    "x=[]\n",
    "print(bins.size)\n",
    "for i in range(1,201):\n",
    "   # print(i)\n",
    "    y.append( np.sum(bincontent[:i])/np.sum(bincontent))\n",
    "    x.append( (bins[i-1]+bins[i])*0.5)\n",
    "plt.subplot(212)\n",
    "plt.plot(x,y)\n",
    "plt.text(125,0.15,\"$F(a) = \\int_{-\\infty}^{a} f(x)dx$\",fontsize=24)\n",
    "plt.xlabel('Normally distributed variable x')\n",
    "plt.ylabel('Cumulative Distribution Function')"
   ]
  },
  {
   "cell_type": "markdown",
   "id": "0eb97925",
   "metadata": {},
   "source": [
    "# Linear Congruent Random Number"
   ]
  },
  {
   "cell_type": "code",
   "execution_count": null,
   "id": "4045f168",
   "metadata": {},
   "outputs": [],
   "source": [
    "def xnplus1(xn, a, b , c):\n",
    "    var = a*xn+b\n",
    "    if var < c:\n",
    "        return var\n",
    "    else:\n",
    "        while var >= c:\n",
    "            var = var -c\n",
    "        return var"
   ]
  },
  {
   "cell_type": "code",
   "execution_count": null,
   "id": "bcebbeee",
   "metadata": {},
   "outputs": [],
   "source": [
    "#RANDU\n",
    "a,b,c = 65539,0, 2**31\n",
    "\n",
    "x=[3]\n",
    "for i in range(10000):\n",
    "    if i == 0:\n",
    "        continue;\n",
    "    var=xnplus1(x[i-1],a,b,c)\n",
    "    x.append(var)\n",
    "\n",
    "xnormalized = np.array(x)/c\n",
    "    "
   ]
  },
  {
   "cell_type": "code",
   "execution_count": null,
   "id": "7df94e91",
   "metadata": {
    "scrolled": true
   },
   "outputs": [],
   "source": [
    "plt.hist(xnormalized)"
   ]
  },
  {
   "cell_type": "markdown",
   "id": "04743190",
   "metadata": {},
   "source": [
    "# Coin Toss on computer"
   ]
  },
  {
   "cell_type": "code",
   "execution_count": null,
   "id": "ff994002",
   "metadata": {},
   "outputs": [],
   "source": [
    "import numpy as np\n",
    "import matplotlib.pyplot as plt"
   ]
  },
  {
   "cell_type": "code",
   "execution_count": null,
   "id": "fc8ac2c8",
   "metadata": {},
   "outputs": [],
   "source": [
    "# Generate integer random numbers between 0 and 1\n",
    "data=np.random.randint(0,2,size=10) \n",
    "print(data)\n",
    "# so 2 is not included\n"
   ]
  },
  {
   "cell_type": "code",
   "execution_count": null,
   "id": "da4a47c1",
   "metadata": {},
   "outputs": [],
   "source": [
    "# You can generate negative random numbers too\n",
    "data=np.random.randint(-10,2,size=10) \n",
    "print(data)"
   ]
  },
  {
   "cell_type": "code",
   "execution_count": null,
   "id": "45e19dcd",
   "metadata": {},
   "outputs": [],
   "source": [
    "#Store outcomes in a numpy array with shape(3,10)\n",
    "data=np.random.randint(0,2,(3,10))\n",
    "print(data)"
   ]
  },
  {
   "cell_type": "markdown",
   "id": "7d0f3a34",
   "metadata": {},
   "source": [
    "Repeat the cell below multiple times and see the variations in the outcome"
   ]
  },
  {
   "cell_type": "code",
   "execution_count": null,
   "id": "225c18d7",
   "metadata": {},
   "outputs": [],
   "source": [
    "# Generate integer random numbers with value between 0 and 1\n",
    "data=np.random.randint(0,2,size=5000)\n",
    "plt.hist(data,bins=2,range=(0,2))\n",
    "plt.xticks([0,1,2])\n",
    "plt.xlim(0,2)\n",
    "plt.xlabel('binary random number')\n",
    "plt.ylabel('entries')\n",
    "plt.text(0.5,1000,'Number of outcomes with \\n value 1 = %d' % np.sum(data),color='white',fontsize=16)\n",
    "\n",
    "# Because we generate random numbers that are either 1 or 0,\n",
    "# the sum of the array gives the number of 1's\n",
    "print('Number of outcomes with value 1 = %d' % np.sum(data))\n",
    "\n"
   ]
  },
  {
   "cell_type": "code",
   "execution_count": null,
   "id": "fb273531",
   "metadata": {
    "scrolled": false
   },
   "outputs": [],
   "source": [
    "# Taking a subset and check how many outcomes are 1\n",
    "# This subset has 40 entries\n",
    "n=50\n",
    "subset=data[n:n+40]\n",
    "plt.hist(subset,bins=2,range=(0,2))\n",
    "plt.xticks([0,1,2])\n",
    "plt.xlim(0,2)\n",
    "plt.xlabel('binary random number')\n",
    "plt.ylabel('entries')\n",
    "plt.text(0.5,10,'Number of outcomes with \\n value 1 = %d' % np.sum(subset),color='white',fontsize=16)\n",
    "\n",
    "# Because we generate random numbers that are either 1 or 0,\n",
    "# the sum of the array gives the number of 1's\n",
    "print('Number of outcomes with value 1 = %d' % np.sum(subset))"
   ]
  },
  {
   "cell_type": "markdown",
   "id": "3be19507",
   "metadata": {},
   "source": [
    "# Binomial probability distribution \n",
    "\n",
    "Let's run an experiment on computer. In this experiment, the outcome is either 0 or 1. For each experiment, the probability of observing 1 is $p, (p<1)$. The experiment is repeated $N$ times. We want to see the probability distribution of observing $r$ times of outcome 1.\n",
    "\n",
    "We derive the binomial probability distribution function in three steps. \n",
    "- there are ${N \\choose r}$ orderings for observining $r$ times of outcome 1 out of $N$ times experiment \n",
    "- for each one of the ${N \\choose r}$ orderings, the probability of observing $r$ times outcome 1, out of $N$ experiments, when the probability of observing 1 for single experiment is $p$, is given by:\n",
    "$$ p^{r}(1-p)^{(N-r)} $$\n",
    "- finally, the binomial distribution is the product of these two numbers: 1) the number of all possible ordering and 2) the probability of observing $r$ times 1 out of $N$ experiments\n",
    "\n",
    "$$ f(r,N) = {N \\choose r} p^{r}(1-p)^{(N-r)} $$\n",
    "\n",
    "$$        = \\frac{N!}{r!(N-r)!} p^{r}(1-p)^{(N-r)}$$"
   ]
  },
  {
   "cell_type": "markdown",
   "id": "436009db",
   "metadata": {},
   "source": [
    "# Number of ups in the experiment that consists of 100 coin tosses"
   ]
  },
  {
   "cell_type": "markdown",
   "id": "5813eec3",
   "metadata": {},
   "source": [
    "Now I want to define a new experiment that consists of 40 coin tosses. The experiment has one outcome that is the number of ups. Then I repeat this experiment 1000 times, and I want to see the distribution of the outcome. \n",
    "\n",
    "This should be a binomial distribution with a mean of 20, and a standard deviation of $\\sqrt{Np(1-p)}$ = $\\sqrt{(40\\times1/2\\times(1-1/2))}$ = 3.16"
   ]
  },
  {
   "cell_type": "code",
   "execution_count": null,
   "id": "56e1883b",
   "metadata": {},
   "outputs": [],
   "source": [
    "# Generate binary random numbers \n",
    "# and store them in a 2-D array, with 1000 entries in axis0\n",
    "# and 40 entries in axis 1\n",
    "data=np.random.randint(0,2,(1000,40))\n",
    "print(data.shape)"
   ]
  },
  {
   "cell_type": "code",
   "execution_count": null,
   "id": "bd51cf05",
   "metadata": {},
   "outputs": [],
   "source": [
    "# the sum over axis 1 would give me \n",
    "# the number of ups for each\n",
    "# experiement (corresponding to one entry in axis 0)\n",
    "data=np.sum(data,axis=1)\n",
    "print(data.shape)\n"
   ]
  },
  {
   "cell_type": "code",
   "execution_count": null,
   "id": "8140ab90",
   "metadata": {},
   "outputs": [],
   "source": [
    "plt.hist(data,bins=40,range=(0,40))\n",
    "plt.xlabel(\"Number of ups out of 100 tosses\")\n",
    "plt.ylabel('Entries')\n",
    "print('Mean of data %4.2f' %data.mean())\n",
    "print('Standard Deviation of data %4.2f' %data.std())\n",
    "plt.text(1,110,'Observed')\n",
    "plt.text(1,100, 'Mean: %4.2f'%data.mean())\n",
    "plt.text(1,80, 'Std. dev.: %4.2f'%data.std())\n",
    "\n",
    "plt.text(30,110,'Binomial')\n",
    "plt.text(30,100, 'Mean: %4.2f'% 20)\n",
    "plt.text(30,80, 'Std. dev.: %4.2f'%3.16)\n"
   ]
  },
  {
   "cell_type": "markdown",
   "id": "bbc20268",
   "metadata": {},
   "source": [
    "## New experiment (1 experiment = 100 tosses, Repeat N times)"
   ]
  },
  {
   "cell_type": "code",
   "execution_count": null,
   "id": "5f268721",
   "metadata": {},
   "outputs": [],
   "source": [
    "# Now, in each experiment, there are 100 tosses\n",
    "# Mean = 50\n",
    "# variance = N*0.5*0.5 = 25\n",
    "# Std = sqrt(variance) = 5\n",
    "\n",
    "N = 1000\n",
    "N_toss = 100\n",
    "\n",
    "mean = 50\n",
    "variance = 25\n",
    "std = 5\n",
    "threshold = 51\n",
    "\n",
    "data=np.random.randint(0,2,(N,N_toss))\n",
    "data=np.sum(data,axis=1)\n",
    "\n",
    "Ntrial = len(data[np.where(data >= threshold)])\n",
    "print('Mean of data %4.2f' %data.mean())\n",
    "\n",
    "print('Mean of data %4.2f' %data.mean())\n",
    "print('Standard Deviation of data %4.2f' %data.std())\n",
    "\n",
    "plt.figure(0)\n",
    "\n",
    "bincontent, binedges, others = plt.hist(data,bins=N_toss,range=(0,N_toss), color='green')\n",
    "plt.text(10,np.max(bincontent)*0.8, 'Mean %4.2f'%data.mean() )\n",
    "plt.text(10,np.max(bincontent)*0.7, 'Std. dev. %4.2f'%data.std() )\n",
    "plt.text(10,np.max(bincontent)*0.6, 'Number of entries %d'%N)\n",
    "\n",
    "plt.xlim(0,100)\n",
    "plt.xlabel('Number of ups out of 100 tosses')\n",
    "plt.ylabel('Number of entries')\n",
    "\n",
    "print('Number of trials where there were at least %d ups = %d'% (threshold, Ntrial) )\n",
    "\n",
    "\n",
    "# plt.figure(1)\n",
    "# plt.hist(data,bins=N_toss,range=(N_toss*0.6/2, N_toss*1.4/2))"
   ]
  },
  {
   "cell_type": "markdown",
   "id": "2a76e1c8",
   "metadata": {},
   "source": [
    "# Poisson distribution "
   ]
  },
  {
   "cell_type": "code",
   "execution_count": null,
   "id": "2f549370",
   "metadata": {},
   "outputs": [],
   "source": [
    "#poisson\n",
    "\n",
    "# rng = np.random.default_rng(seed)\n",
    "# is a way to initiate a random number generator, \n",
    "# with a specific seed\n",
    "\n",
    "rng = np.random.default_rng(1)\n",
    "\n",
    "print(np.random.poisson(50,size=5))\n",
    "print(rng.poisson(50,size=5))\n"
   ]
  },
  {
   "cell_type": "code",
   "execution_count": null,
   "id": "ec12dc9f",
   "metadata": {},
   "outputs": [],
   "source": [
    "# Compare the output of the lines below\n",
    "rng2 = np.random.default_rng(1243)\n",
    "print(rng2.poisson(50,size=5))\n",
    "rng3 = np.random.default_rng(1243)\n",
    "print(rng3.poisson(50,size=5))\n",
    "#these give you identical output\n",
    "# as long as the seed is the same,  \n",
    "# you get the same random sequence\n",
    "# even though you have two different random generators (rng2 vs rng3)\n",
    "\n",
    "# now change the seed for rng3\n",
    "rng3 = np.random.default_rng(1243243)\n",
    "print(rng3.poisson(50,size=5))\n",
    "\n"
   ]
  },
  {
   "cell_type": "code",
   "execution_count": null,
   "id": "b2eb701d",
   "metadata": {},
   "outputs": [],
   "source": [
    "# Generate Poisson randon numbers with a mean of 50\n",
    "# Store them into a 2D array of shape (4,5)\n",
    "rng.poisson(50,(4,5))"
   ]
  },
  {
   "cell_type": "markdown",
   "id": "264cdadc",
   "metadata": {},
   "source": [
    "## Poisson outcome (rerun the cell and see the variation)"
   ]
  },
  {
   "cell_type": "code",
   "execution_count": null,
   "id": "82a36c3b",
   "metadata": {},
   "outputs": [],
   "source": [
    "mean = 50\n",
    "threshold = 51\n",
    "Nsize=10000\n",
    "# expected std = sqrt(50) = 7.07\n",
    "dataP=np.random.poisson(mean,size=Nsize)\n",
    "\n",
    "print('Mean of data %4.2f' %dataP.mean())\n",
    "print('Std. dev. of data %4.2f' %dataP.std())\n",
    "\n",
    "print('Number of trials where the outcome is at least as large as %d  = %d'% (threshold, Ntrial) )\n",
    "\n",
    "plt.figure(0)\n",
    "bincontent, binedges, others = plt.hist(dataP,bins=N_toss,range=(0,100))\n",
    "plt.xlabel('Outcome')\n",
    "plt.ylabel('Entries')\n",
    "plt.text(10, 0.9*np.max(bincontent),'Observed')\n",
    "plt.text(10, 0.8*np.max(bincontent),'Mean %4.2f'%dataP.mean())\n",
    "plt.text(10, 0.7*np.max(bincontent),'Std. Dev. %4.2f'%dataP.std())\n",
    "\n",
    "plt.text(65, 0.9*np.max(bincontent),'Poisson')\n",
    "plt.text(65, 0.8*np.max(bincontent),'Mean %4.2f'%mean)\n",
    "plt.text(65, 0.7*np.max(bincontent),'Std. Dev. %4.2f'%np.sqrt(mean))\n",
    "\n",
    "Ntrial = len(dataP[np.where(dataP >= threshold)])"
   ]
  },
  {
   "cell_type": "code",
   "execution_count": null,
   "id": "1d26aaa0",
   "metadata": {},
   "outputs": [],
   "source": [
    "#gaussian\n",
    "dataG = np.random.normal(50,np.sqrt(50),size=10000)\n",
    "bincontent, binedges, others = plt.hist(dataG,bins=100,range=(0,100))\n",
    "plt.xlabel('Outcome')\n",
    "plt.ylabel('Entries')\n",
    "plt.text(10, 0.9*np.max(bincontent),'Observed')\n",
    "plt.text(10, 0.8*np.max(bincontent),'Mean %4.2f'%dataP.mean())\n",
    "plt.text(10, 0.7*np.max(bincontent),'Std. Dev. %4.2f'%dataP.std())\n",
    "\n",
    "plt.text(65, 0.9*np.max(bincontent),'Gaussian')\n",
    "plt.text(65, 0.8*np.max(bincontent),'Mean %4.2f'%mean)\n",
    "plt.text(65, 0.7*np.max(bincontent),'Std. Dev. %4.2f'%np.sqrt(mean))"
   ]
  },
  {
   "cell_type": "markdown",
   "id": "24fe5916",
   "metadata": {},
   "source": [
    "## Compare Gaussian and Poisson with the same mean (run with a few different means)"
   ]
  },
  {
   "cell_type": "code",
   "execution_count": null,
   "id": "012f4a0c",
   "metadata": {},
   "outputs": [],
   "source": [
    "# poisson and gaussian with the same mean and variance\n",
    "\n",
    "mean=400\n",
    "Nbins = 40\n",
    "variance = mean\n",
    "sigma = np.sqrt(variance)\n",
    "plotrange =(mean-4*sigma , mean+4*sigma)\n",
    "samplesize = 100000\n",
    "\n",
    "\n",
    "\n",
    "\n",
    "dataP = np.random.poisson(mean,size=samplesize)\n",
    "dataG = np.random.normal(mean, np.sqrt(variance), size = samplesize)\n",
    "\n",
    "bincontent,bins,others=plt.hist(dataP, bins=Nbins, range=plotrange, histtype='step', color='black', label= 'Poisson random numbers')\n",
    "plt.hist(dataG, bins=Nbins, range=plotrange, histtype='step', linestyle='dashed', color='red', label='Gaussian random numbers')\n",
    "plt.xlabel('random number value')\n",
    "plt.ylabel('Entries')\n",
    "plt.ylim(0.1,1.5*np.max(bincontent))\n",
    "#plt.yscale()\n",
    "plt.legend()\n",
    "\n",
    "plt.text(mean-3.5*sigma, 0.9*np.max(bincontent),'Poisson')\n",
    "plt.text(mean-3.5*sigma, 0.8*np.max(bincontent),'Mean %4.2f'%dataP.mean())\n",
    "plt.text(mean-3.5*sigma, 0.7*np.max(bincontent),'Std. Dev. %4.2f'%dataP.std())\n",
    "\n",
    "plt.text(mean+0.95*sigma, 0.9*np.max(bincontent),'Gaussian')\n",
    "plt.text(mean+0.95*sigma, 0.8*np.max(bincontent),'Mean %4.2f'%dataG.mean())\n",
    "plt.text(mean+0.95*sigma, 0.7*np.max(bincontent),'Std. Dev. %4.2f'%dataG.std())"
   ]
  },
  {
   "cell_type": "markdown",
   "id": "051fcae5",
   "metadata": {},
   "source": [
    "### Reminder: how to use numpy methods to get standard deviation, variance and mean"
   ]
  },
  {
   "cell_type": "code",
   "execution_count": null,
   "id": "1f1ff53f",
   "metadata": {},
   "outputs": [],
   "source": [
    "#standard deviation\n",
    "dataP_std = np.std(dataP)\n",
    "\n",
    "#variance\n",
    "dataP_var = np.var(dataP)\n",
    "\n",
    "#mean\n",
    "dataP_mean = np.mean(dataP)\n",
    "\n",
    "print(dataP_std, dataP_var, dataP_std**2, dataP_mean)\n",
    "print(np.std(dataG), np.var(dataG), np.std(dataG)**2, np.mean(dataG))"
   ]
  },
  {
   "cell_type": "markdown",
   "id": "1e4bf7e1",
   "metadata": {},
   "source": [
    "# Verify Central Limit Theorem"
   ]
  },
  {
   "cell_type": "markdown",
   "id": "b9ac08a4",
   "metadata": {},
   "source": [
    "CLT claims that if a variable $X$ is the sum of **$N$** random numbers that are indepenendently and identically drawn from a probability distribution, then $X$ follows a Gaussian distribution when $N$ is large\n",
    "\n",
    "$$X_N = \\sum_{i=0}^{N} x_i$$\n",
    "\n",
    "where $ x_i $ is drawn from $ f(x)$ which has a mean of $\\mu$ and a std. dev of $\\sigma$\n",
    "\n",
    "The distribution of $X_N/N$ should have a mean of $\\mu$ and a std. dev. of $\\sigma/\\sqrt{N}$\n"
   ]
  },
  {
   "cell_type": "markdown",
   "id": "22f5251b",
   "metadata": {},
   "source": [
    "The random number is drawn from an artificially constructed sample, which includes two parts. The part 1 is a set of 100,000 uniformly distributed random numbers between 0 and 1, and the part 2 is a set of 100,000 Gaussian numbers with a mean of 2, and a sigma of 0.5.\n",
    "\n",
    "The total size of this sample (numpy array) is 200,000.\n",
    "\n",
    "To draw a random number from this sample, I randomly select the index of an entry of the numpy array by np.random.randint(200000), which gives me an integer somewhere between 0 and 200,000  \n",
    "To build $X_N$, I draw 6 random numbers, i.e., I have $X_6$"
   ]
  },
  {
   "cell_type": "code",
   "execution_count": null,
   "id": "cc3e45ae",
   "metadata": {},
   "outputs": [],
   "source": [
    "part1 = np.random.random(100000)\n",
    "part2 = np.random.normal(2,0.5,size=100000)\n",
    "sample=np.hstack((part1,part2))"
   ]
  },
  {
   "cell_type": "code",
   "execution_count": null,
   "id": "ce273739",
   "metadata": {},
   "outputs": [],
   "source": [
    "\n",
    "plt.hist(sample,bins=40,range=(0,4),density=True)\n",
    "plt.xlabel('x')\n",
    "plt.ylabel('fraction of entries')\n",
    "plt.text(2.0,0.5, \"Mean %4.2f\"% np.mean(sample))\n",
    "plt.text(2.0,0.45, \"Std. Dev. %4.2f\"% np.std(sample))\n"
   ]
  },
  {
   "cell_type": "code",
   "execution_count": null,
   "id": "39d9ba48",
   "metadata": {},
   "outputs": [],
   "source": [
    "# Constructing X_6 = (1/6)*sum{ six randomly selected x}\n",
    "x=[]\n",
    "for i in range(3000):\n",
    "    a = np.random.randint(200000)\n",
    "    b = np.random.randint(200000)\n",
    "    c = np.random.randint(200000)\n",
    "    d = np.random.randint(200000)\n",
    "    e = np.random.randint(200000)\n",
    "    f = np.random.randint(200000)\n",
    "    sum_over_n = (sample[a]+sample[b]+sample[c]+sample[d]+sample[e]+sample[f])/6.0 \n",
    "    x.append(sum_over_n)"
   ]
  },
  {
   "cell_type": "code",
   "execution_count": null,
   "id": "766a819e",
   "metadata": {},
   "outputs": [],
   "source": [
    "bincontent,binedges,others=plt.hist(x,bins=30,range=(0,3))\n",
    "plt.xlabel('$X_6 = (x_1 + x_2 + x_3 + x_4 + x_5 + x_6)$/6')\n",
    "plt.ylabel('Entries')\n",
    "\n",
    "plt.text(1.9, np.max(bincontent)*0.9, \"Mean %4.2f\"% np.mean(x))\n",
    "plt.text(1.9, np.max(bincontent)*0.8, \"Std. Dev. %4.2f\"% np.std(x))\n",
    "\n",
    "plt.text(1.9, np.max(bincontent)*0.7, \"Mean of $x_i$ %4.2f\"% np.mean(sample))\n",
    "plt.text(1.9, np.max(bincontent)*0.6, \"Std. Dev. of $x_i$ / $\\sqrt{6}$ = %4.2f\"% np.std(sample/np.sqrt(6)))\n"
   ]
  },
  {
   "cell_type": "markdown",
   "id": "d60d55fd",
   "metadata": {},
   "source": []
  },
  {
   "cell_type": "markdown",
   "id": "8885283e",
   "metadata": {},
   "source": [
    "# Scripts to generate plots used in lectures"
   ]
  },
  {
   "cell_type": "code",
   "execution_count": null,
   "id": "a96c93b0",
   "metadata": {
    "scrolled": false
   },
   "outputs": [],
   "source": [
    "mean=3.2\n",
    "data=np.random.poisson(mean,size=10000)\n",
    "plt.hist(data,bins=12,range=(0,12),density=True,histtype='step',color='red')\n",
    "plt.xlim(0,12)\n",
    "plt.ylim(0,0.3)\n",
    "plt.ylabel('Probability',fontsize=24)\n",
    "plt.xlabel('Outcome',fontsize=24)\n",
    "#plt.text(6,0.25,'Mean = 3.2',fontsize=24)"
   ]
  },
  {
   "cell_type": "code",
   "execution_count": null,
   "id": "681b04d4",
   "metadata": {
    "scrolled": true
   },
   "outputs": [],
   "source": [
    "mean=500\n",
    "data=np.random.poisson(mean,size=10000)\n",
    "plt.hist(data,bins=200,range=(400,600),density=True,histtype='step',color='red')\n",
    "#plt.xlim(0,12)\n",
    "plt.ylim(0.001,0.03)\n",
    "plt.ylabel('Probability',fontsize=24)\n",
    "plt.xlabel('Outcome',fontsize=24)\n",
    "plt.yscale('log')\n",
    "plt.text(500,0.02175,'Mean = 500',fontsize=24)"
   ]
  },
  {
   "cell_type": "code",
   "execution_count": null,
   "id": "826ad76e",
   "metadata": {},
   "outputs": [],
   "source": [
    "def factorial(n):\n",
    "    if n == 0:\n",
    "        return 1\n",
    "    else:\n",
    "        nfact = n\n",
    "        for i in range(1,n):\n",
    "            nfact = i*nfact\n",
    "        return nfact\n",
    "    "
   ]
  },
  {
   "cell_type": "code",
   "execution_count": null,
   "id": "b064e955",
   "metadata": {},
   "outputs": [],
   "source": []
  },
  {
   "cell_type": "markdown",
   "id": "9aee4690",
   "metadata": {},
   "source": [
    "# Cauchy distrbituion"
   ]
  },
  {
   "cell_type": "code",
   "execution_count": null,
   "id": "d84e7c6a",
   "metadata": {},
   "outputs": [],
   "source": [
    "a = np.random.normal(0,5,size=1000)\n",
    "b = np.random.normal(0,30,size=1000)"
   ]
  },
  {
   "cell_type": "code",
   "execution_count": null,
   "id": "14a8f20b",
   "metadata": {},
   "outputs": [],
   "source": [
    "plt.hist(a/b,bins=50,range=(-1,1))"
   ]
  }
 ],
 "metadata": {
  "kernelspec": {
   "display_name": "Python 3 (ipykernel)",
   "language": "python",
   "name": "python3"
  },
  "language_info": {
   "codemirror_mode": {
    "name": "ipython",
    "version": 3
   },
   "file_extension": ".py",
   "mimetype": "text/x-python",
   "name": "python",
   "nbconvert_exporter": "python",
   "pygments_lexer": "ipython3",
   "version": "3.9.13"
  }
 },
 "nbformat": 4,
 "nbformat_minor": 5
}
