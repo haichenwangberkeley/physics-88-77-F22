{
 "cells": [
  {
   "cell_type": "markdown",
   "id": "d75cbb74",
   "metadata": {},
   "source": [
    "# Lecture 7 \n",
    "Please refer to lecture slides to understand the context of these examples"
   ]
  },
  {
   "cell_type": "code",
   "execution_count": null,
   "id": "dba2896a",
   "metadata": {},
   "outputs": [],
   "source": [
    "import numpy as np\n",
    "import matplotlib.pyplot as plt"
   ]
  },
  {
   "cell_type": "markdown",
   "id": "ecd441b7",
   "metadata": {},
   "source": [
    "# Visualize a Poisson likelihood function\n",
    "\n"
   ]
  },
  {
   "cell_type": "code",
   "execution_count": null,
   "id": "c18e10fe",
   "metadata": {},
   "outputs": [],
   "source": [
    "obs = 110\n",
    "exp = np.linspace(90,130,401)\n",
    "prob = poisson.pmf(obs,exp)\n",
    "logProb = poisson.logpmf(obs,exp)\n",
    "\n",
    "plt.figure(0)\n",
    "plt.plot(exp,prob,marker='o')\n",
    "plt.ylabel('Probability')\n",
    "plt.xlabel('Expectation')\n",
    "plt.text(90,0.035,'Observed = 110')\n",
    "\n",
    "plt.figure(1)\n",
    "plt.plot(exp,logProb,marker='o')\n",
    "plt.ylabel('log Poisson probability')\n",
    "plt.xlabel('Expectation')\n",
    "plt.text(90,-3.5,'Observed = 110')\n",
    "\n",
    "\n",
    "NLL = -1*logProb - np.min(-1*logProb)\n",
    "plt.figure(2)\n",
    "plt.plot(exp,NLL,marker='o')\n",
    "plt.ylabel('negative log Poisson probability')\n",
    "plt.xlabel('Expectation')\n",
    "plt.plot([90,140],[0,0],ls='dashed',color='red')\n",
    "plt.text(120,2,'Observed = 110')"
   ]
  },
  {
   "cell_type": "code",
   "execution_count": null,
   "id": "fc1c4eb5",
   "metadata": {},
   "outputs": [],
   "source": [
    "print(exp[np.argmax(NLL<0.5)])\n",
    "pos = np.argmax(NLL<0.5)\n",
    "error_lo = 110-exp[np.argmax(NLL<0.5)]\n",
    "\n",
    "print(pos)\n",
    "print(exp[np.argmax(NLL[pos+1:]>0.5)+pos])\n",
    "error_hi = exp[np.argmax(NLL[pos+1:]>0.5)+pos] - 110\n",
    "\n",
    "\n",
    "print(\"+ 1 sigma error is %4.2f \"% error_hi )\n",
    "print(\"- 1 sigma error is %4.2f \"% error_lo )\n"
   ]
  },
  {
   "cell_type": "markdown",
   "id": "459f390c",
   "metadata": {},
   "source": [
    "# Body weight vs height "
   ]
  },
  {
   "cell_type": "code",
   "execution_count": null,
   "id": "89497514",
   "metadata": {},
   "outputs": [],
   "source": [
    "#body weight vs height\n",
    "\n",
    "rng = np.random.default_rng(1)\n",
    "h=rng.normal(5.5,0.5,size=200000)\n",
    "w=rng.normal(h,0.95)*30-20\n",
    "\n",
    "hw = np.vstack((h,w)).T\n",
    "print(hw)\n"
   ]
  },
  {
   "cell_type": "markdown",
   "id": "d49d652c",
   "metadata": {},
   "source": [
    "### Getting fractions"
   ]
  },
  {
   "cell_type": "code",
   "execution_count": null,
   "id": "ea1e33b1",
   "metadata": {},
   "outputs": [],
   "source": [
    "\n",
    "fraction = np.sum(h>6)/h.size\n",
    "\n",
    "fraction2 = np.sum(w>200)/w.size\n",
    "\n",
    "jointfraction = np.sum( (h>6)*(w>200))/h.size\n",
    "\n",
    "print(fraction, fraction2, fraction*fraction2, jointfraction)\n"
   ]
  },
  {
   "cell_type": "markdown",
   "id": "47695457",
   "metadata": {},
   "source": [
    "### Plotting"
   ]
  },
  {
   "cell_type": "code",
   "execution_count": null,
   "id": "992193a5",
   "metadata": {
    "scrolled": false
   },
   "outputs": [],
   "source": [
    "plt.figure(0)\n",
    "plt.hist(h,bins=30,range=(4,7),density=True)\n",
    "plt.xlabel('height [feet]')\n",
    "plt.ylabel('fraction of entries')\n",
    "plt.figure(1)\n",
    "plt.hist(w,bins=20,range=(80,220),color='orange',density=True)\n",
    "plt.xlabel('weight [lbs]')\n",
    "plt.ylabel('fraction of entries')\n",
    "plt.figure(2)\n",
    "plt.hist2d(h,w,bins=[30,20],range=[[4,7],[80,220]],density=True)\n",
    "plt.xlabel('height [feet]')\n",
    "plt.ylabel('weight [lbs]')\n",
    "plt.colorbar(label='fraction of entries')\n"
   ]
  },
  {
   "cell_type": "markdown",
   "id": "75b8b64b",
   "metadata": {},
   "source": [
    "### Random shuffle"
   ]
  },
  {
   "cell_type": "code",
   "execution_count": null,
   "id": "278e4147",
   "metadata": {
    "scrolled": true
   },
   "outputs": [],
   "source": [
    "# Note what these two lines do?\n",
    "\n",
    "rng.shuffle(h)\n",
    "rng.shuffle(w)\n",
    "\n",
    "\n",
    "plt.hist2d(h,w,bins=[30,20],range=[[4,7],[80,220]],density=True)\n",
    "plt.xlabel('height [feet]')\n",
    "plt.ylabel('weight [lbs]')\n",
    "plt.colorbar(label='fraction of entries')"
   ]
  },
  {
   "cell_type": "markdown",
   "id": "97cdee7c",
   "metadata": {},
   "source": [
    "# Single bin hypothesis testing"
   ]
  },
  {
   "cell_type": "code",
   "execution_count": null,
   "id": "09a64f51",
   "metadata": {},
   "outputs": [],
   "source": [
    "import numpy as np\n",
    "import matplotlib.pyplot as plt\n",
    "rng = np.random.default_rng(32)\n",
    "sampleB = rng.poisson(100,size=(500000))\n",
    "sampleSB = rng.poisson(140,size=(500000))"
   ]
  },
  {
   "cell_type": "code",
   "execution_count": null,
   "id": "2f7cdeb8",
   "metadata": {},
   "outputs": [],
   "source": [
    "\n",
    "plt.plot([120,120],[1,0 ],label='Observation')\n",
    "plt.plot([100,100],[1,0 ],ls='dashed', label='Expected B')\n",
    "plt.plot([140,140],[1,0 ],ls='dotted',label='Expected S+B')\n",
    "plt.legend(loc='upper right')\n",
    "plt.xlim(70,180)\n",
    "plt.text(121,0.5, 'Observed')\n",
    "plt.text(141,0.5, 'Expected S+B')\n",
    "plt.text(80,0.5, 'Expected B')\n",
    "\n",
    "plt.xlabel(\"Outcome\")\n",
    "plt.ylabel('Entries')"
   ]
  },
  {
   "cell_type": "code",
   "execution_count": null,
   "id": "bcd043c0",
   "metadata": {},
   "outputs": [],
   "source": [
    "print(sampleB.mean(), sampleSB.mean())\n",
    "print(sampleB.std(), sampleSB.std())"
   ]
  },
  {
   "cell_type": "code",
   "execution_count": null,
   "id": "4e8630b5",
   "metadata": {},
   "outputs": [],
   "source": [
    "bincontent, binedges, others=plt.hist(sampleB,bins=110,range=(70,180),histtype=\"step\",label=\"background-only\",density=True)\n",
    "bincontent2, binedges, others=plt.hist(sampleSB,bins=110,range=(70,180),label=\"signal-plus-background\",density=True)\n",
    "plt.plot([120,120],[np.max(bincontent)*0.9,0 ],label='Observation')\n",
    "plt.plot([100,100],[np.max(bincontent),0 ],ls='dashed')\n",
    "plt.plot([140,140],[np.max(bincontent2),0 ],ls='dotted')\n",
    "plt.legend(loc='upper right')\n",
    "plt.xlabel(\"Outcome\")\n",
    "plt.ylabel('Entries')"
   ]
  },
  {
   "cell_type": "markdown",
   "id": "788b809e",
   "metadata": {},
   "source": [
    "### Pseudo experiments\n",
    "\n",
    "sampleB and sampleSB are two samples of outcomes generated from the `B-only hypothesis` and the `S+B` hypothesis"
   ]
  },
  {
   "cell_type": "code",
   "execution_count": null,
   "id": "c2db1439",
   "metadata": {},
   "outputs": [],
   "source": [
    "fraction_greater_B = np.sum( sampleB >= 120 ) / sampleB.size\n",
    "fraction_less_SB = np.sum( sampleSB <= 120 ) / sampleSB.size\n",
    "\n",
    "print(\"In the P.E.s generated from B, probability to see 120 or more is %4.4f\"% fraction_greater_B)\n",
    "print(\"In the P.E.s generated from S+B, probability to see 120 or less is %4.4f\"% fraction_less_SB)"
   ]
  },
  {
   "cell_type": "markdown",
   "id": "7af09bf8",
   "metadata": {},
   "source": [
    "**What is the standard deviation here?**"
   ]
  },
  {
   "cell_type": "code",
   "execution_count": null,
   "id": "ede79c3a",
   "metadata": {},
   "outputs": [],
   "source": []
  },
  {
   "cell_type": "markdown",
   "id": "3ef8da0c",
   "metadata": {},
   "source": [
    "# p-value, significance conversion"
   ]
  },
  {
   "cell_type": "code",
   "execution_count": null,
   "id": "1a109675",
   "metadata": {},
   "outputs": [],
   "source": [
    "from scipy.stats import norm\n",
    "significance = 2\n",
    "pvalue = 1- norm.cdf(2)\n",
    "print('p-value for Z = 2  %4.10f'% pvalue)\n",
    "\n",
    "pvalue = 1- norm.cdf(5)\n",
    "print('p-value for Z = 5  %4.10f'% pvalue)\n"
   ]
  },
  {
   "cell_type": "code",
   "execution_count": null,
   "id": "704a0fb2",
   "metadata": {},
   "outputs": [],
   "source": [
    "pvalue = 0.1\n",
    "# percent point function\n",
    "Z = norm.ppf(1-pvalue)\n",
    "print(Z)\n",
    "\n",
    "pvalue = 1- norm.cdf(5)\n",
    "Z = norm.ppf(1-pvalue)\n",
    "print(Z)"
   ]
  },
  {
   "cell_type": "markdown",
   "id": "913aab55",
   "metadata": {},
   "source": [
    "# Log likelihood ratio and multibin pseudo experiments\n",
    "\n",
    "# $$ -2\\mathrm{log}\\frac{L_{s+b}}{L_{b}} $$"
   ]
  },
  {
   "cell_type": "code",
   "execution_count": null,
   "id": "6c5053cb",
   "metadata": {},
   "outputs": [],
   "source": [
    "B = np.ones((5,))*100\n",
    "S = np.ones((5,))*20\n",
    "SB = S+B\n",
    "Obs = np.array([133, 121, 117, 119, 126])\n",
    "Obs2 = np.array([133, 121, 117, 119, 126]) -15"
   ]
  },
  {
   "cell_type": "code",
   "execution_count": null,
   "id": "3c1f2a21",
   "metadata": {},
   "outputs": [],
   "source": [
    "def loglikelihood(Obs, Exp):\n",
    "    return -Exp + Obs*np.log(Exp)"
   ]
  },
  {
   "cell_type": "code",
   "execution_count": null,
   "id": "98974c93",
   "metadata": {},
   "outputs": [],
   "source": [
    "LLB = loglikelihood(Obs,B)\n",
    "LLSB = loglikelihood(Obs,SB)\n",
    "LLR = -2*(LLSB-LLB)\n",
    "print(LRB, LRSB, np.sum(LLR))\n",
    "obsLLR = np.sum(LLR)"
   ]
  },
  {
   "cell_type": "code",
   "execution_count": null,
   "id": "ee89b776",
   "metadata": {},
   "outputs": [],
   "source": [
    "LLB = loglikelihood(Obs2,B)\n",
    "LLSB = loglikelihood(Obs2,SB)\n",
    "LLR = -2*(LLSB-LLB)\n",
    "print(LRB, LRSB, np.sum(LLR))\n",
    "obsLLR2 = np.sum(LLR)"
   ]
  },
  {
   "cell_type": "code",
   "execution_count": null,
   "id": "2e0f8cd4",
   "metadata": {},
   "outputs": [],
   "source": [
    "sampleBonly = rng.poisson(B,size=(2000,5))\n",
    "sampleSB = rng.poisson(SB,size=(2000,5))\n",
    "print(sampleBonly.shape, sampleSB.shape)"
   ]
  },
  {
   "cell_type": "code",
   "execution_count": null,
   "id": "19729601",
   "metadata": {},
   "outputs": [],
   "source": [
    "sampleBLLB = loglikelihood(sampleBonly,B)\n",
    "sampleBLLSB = loglikelihood(sampleBonly,SB)\n",
    "sampleBLLR = np.sum(-2*(sampleBLLSB-sampleBLLB),axis=1)\n",
    "\n",
    "sampleSBLLB = loglikelihood(sampleSB,B)\n",
    "sampleSBLLSB = loglikelihood(sampleSB,SB)\n",
    "sampleSBLLR = np.sum(-2*(sampleSBLLSB-sampleSBLLB),axis=1)\n",
    "\n",
    "bincontents,binedges,others=plt.hist(sampleBLLR,bins=40, range=(-40,40),histtype='step',label='B-only ensemble')\n",
    "plt.hist(sampleSBLLR,bins=40, range=(-40,40),histtype='step',label='S+B Ensemble')\n",
    "plt.plot([obsLLR, obsLLR],[np.max(bincontents),0],color='red',label='Observed')\n",
    "plt.plot([obsLLR2, obsLLR2],[np.max(bincontents),0],color='black',ls='dashed',label='Observed 2')\n",
    "plt.legend()\n",
    "plt.ylim(0,np.max(bincontents)*1.625)\n",
    "plt.xlabel('-2log($L_{s+b}/L_{b}$)')\n",
    "plt.ylabel('Entries')\n"
   ]
  },
  {
   "cell_type": "code",
   "execution_count": null,
   "id": "a628e379",
   "metadata": {},
   "outputs": [],
   "source": [
    "fractionB = np.sum( sampleBLLR < obsLLR2 )/ sampleBLLR.size\n",
    "fractionSB = np.sum( sampleSBLLR > obsLLR2 )/ sampleSBLLR.size\n",
    "\n",
    "\n",
    "print(fractionB, fractionSB)\n",
    "print('Probability of S+B hypothesis fluctuating to data is %4.4f'% fractionSB )\n",
    "print('Probability of B-only hypothesis fluctuating to data is %4.4f'% fractionB )"
   ]
  },
  {
   "cell_type": "markdown",
   "id": "12d5f22a",
   "metadata": {},
   "source": [
    "# Measurement and Error\n"
   ]
  },
  {
   "cell_type": "code",
   "execution_count": null,
   "id": "25c25dec",
   "metadata": {},
   "outputs": [],
   "source": [
    "PE = rng.poisson(110,size=10000)"
   ]
  },
  {
   "cell_type": "code",
   "execution_count": null,
   "id": "ef8c2000",
   "metadata": {},
   "outputs": [],
   "source": [
    "stdPE = PE.std()\n",
    "fractionPE = np.sum(PE> PE.mean()+stdPE)/PE.size\n",
    "print(fractionPE)\n",
    "\n",
    "fractionPE2 = np.sum(PE< PE.mean()-stdPE)/PE.size\n",
    "print(fractionPE2)"
   ]
  },
  {
   "cell_type": "code",
   "execution_count": null,
   "id": "dc12204e",
   "metadata": {},
   "outputs": [],
   "source": [
    "bincount, binedge, other = plt.hist(PE, bins=(40), range=(50,160),histtype='step')\n",
    "plt.plot([PE.mean()+stdPE, PE.mean()+stdPE], [np.max(bincount),0],color='red',label='+ One sigma',ls='dotted')\n",
    "plt.plot([PE.mean()-stdPE, PE.mean()-stdPE], [np.max(bincount),0],color='green',ls='dashed',label='- One sigma')\n",
    "plt.plot([PE.mean(), PE.mean()], [np.max(bincount),0],color='black',label='Mean')\n",
    "plt.xlabel('Outcome')\n",
    "plt.ylabel('Entries')\n",
    "plt.legend()"
   ]
  }
 ],
 "metadata": {
  "kernelspec": {
   "display_name": "Python 3 (ipykernel)",
   "language": "python",
   "name": "python3"
  },
  "language_info": {
   "codemirror_mode": {
    "name": "ipython",
    "version": 3
   },
   "file_extension": ".py",
   "mimetype": "text/x-python",
   "name": "python",
   "nbconvert_exporter": "python",
   "pygments_lexer": "ipython3",
   "version": "3.9.13"
  }
 },
 "nbformat": 4,
 "nbformat_minor": 5
}
